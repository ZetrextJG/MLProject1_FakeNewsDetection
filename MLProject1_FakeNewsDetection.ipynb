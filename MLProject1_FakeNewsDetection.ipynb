{
  "cells": [
    {
      "cell_type": "markdown",
      "metadata": {
        "id": "eL6BUYykhxj3"
      },
      "source": [
        "# Fake News detection with tensorflow and nltk using LSTMs"
      ]
    },
    {
      "cell_type": "markdown",
      "metadata": {
        "id": "sgYVBrzyh-GY"
      },
      "source": [
        "## Download dataset from kaggle"
      ]
    },
    {
      "cell_type": "code",
      "execution_count": 35,
      "metadata": {
        "id": "xGtd6gwjg3q5"
      },
      "outputs": [],
      "source": [
        "# Install kaggle library\n",
        "!pip install -q kaggle"
      ]
    },
    {
      "cell_type": "code",
      "execution_count": null,
      "metadata": {
        "id": "dIzSfq5IiJM1"
      },
      "outputs": [],
      "source": [
        "# Import kaggle API token\n",
        "from google.colab import files\n",
        "files.upload()"
      ]
    },
    {
      "cell_type": "code",
      "execution_count": 37,
      "metadata": {
        "id": "alX6ZJUriOVs"
      },
      "outputs": [],
      "source": [
        "# Activate kaggle token\n",
        "!mkdir ~/.kaggle\n",
        "!cp kaggle.json ~/.kaggle/\n",
        "!chmod 600 ~/.kaggle/kaggle.json"
      ]
    },
    {
      "cell_type": "code",
      "execution_count": 38,
      "metadata": {
        "id": "ET-VcKLHiqwP",
        "colab": {
          "base_uri": "https://localhost:8080/"
        },
        "outputId": "8d1f7d05-3679-4c6a-f4e9-d9f165b91f7e"
      },
      "outputs": [
        {
          "output_type": "stream",
          "name": "stdout",
          "text": [
            "Downloading fake-news-dataset-combined-different-sources.zip to /content\n",
            " 95% 76.0M/80.3M [00:00<00:00, 93.6MB/s]\n",
            "100% 80.3M/80.3M [00:01<00:00, 84.0MB/s]\n"
          ]
        }
      ],
      "source": [
        "# Download dataset as zip\n",
        "!kaggle datasets download mohammadaflahkhan/fake-news-dataset-combined-different-sources"
      ]
    },
    {
      "cell_type": "code",
      "execution_count": 39,
      "metadata": {
        "id": "8AegQmfyjRAB",
        "colab": {
          "base_uri": "https://localhost:8080/"
        },
        "outputId": "7fc13415-6c9e-40a2-9352-42b6f2ade933"
      },
      "outputs": [
        {
          "output_type": "stream",
          "name": "stdout",
          "text": [
            "mkdir: cannot create directory ‘data’: File exists\n",
            "Archive:  fake-news-dataset-combined-different-sources.zip\n",
            "  inflating: data/PreProcessedData.csv  \n"
          ]
        }
      ],
      "source": [
        "!mkdir data\n",
        "!unzip fake-news-dataset-combined-different-sources.zip -d data\n",
        "!mv ./data/PreProcessedData.csv ./data/RawKaggleData.csv"
      ]
    },
    {
      "cell_type": "markdown",
      "metadata": {
        "id": "4bv-NSSEj1EW"
      },
      "source": [
        "## Data exploration and preprocessing"
      ]
    },
    {
      "cell_type": "code",
      "execution_count": 2,
      "metadata": {
        "id": "1P7vQrNrj93r"
      },
      "outputs": [],
      "source": [
        "# Import all necessary libraries for preprocessing\n",
        "import pandas as pd\n",
        "import numpy as np\n",
        "import nltk\n",
        "from tensorflow.keras.preprocessing.text import Tokenizer\n",
        "import tensorflow as tf\n",
        "import matplotlib.pyplot as plt\n",
        "from sklearn.model_selection import train_test_split\n",
        "import seaborn as sns\n",
        "import re\n",
        "from sklearn.metrics import accuracy_score, confusion_matrix, precision_score, recall_score\n",
        "plt.style.use(\"ggplot\")"
      ]
    },
    {
      "cell_type": "code",
      "execution_count": 62,
      "metadata": {
        "id": "2U8FLjZlj0r8"
      },
      "outputs": [],
      "source": [
        "# Load dataset\n",
        "df = pd.read_csv(\"./data/RawKaggleData.csv\")"
      ]
    },
    {
      "cell_type": "code",
      "execution_count": 52,
      "metadata": {
        "id": "zA0INUUIjmi5",
        "colab": {
          "base_uri": "https://localhost:8080/"
        },
        "outputId": "1637a537-a08e-476d-bfea-b9d5599cb642"
      },
      "outputs": [
        {
          "output_type": "execute_result",
          "data": {
            "text/plain": [
              "Index(['Unnamed: 0', 'title', 'text', 'Ground Label'], dtype='object')"
            ]
          },
          "metadata": {},
          "execution_count": 52
        }
      ],
      "source": [
        "df.columns"
      ]
    },
    {
      "cell_type": "code",
      "execution_count": 53,
      "metadata": {
        "id": "Dx63y1yJrzhb",
        "colab": {
          "base_uri": "https://localhost:8080/"
        },
        "outputId": "ec87cc65-3d75-4ef5-f279-e8e301a501af"
      },
      "outputs": [
        {
          "output_type": "execute_result",
          "data": {
            "text/plain": [
              "69045"
            ]
          },
          "metadata": {},
          "execution_count": 53
        }
      ],
      "source": [
        "len(df)"
      ]
    },
    {
      "cell_type": "code",
      "execution_count": 54,
      "metadata": {
        "id": "ILCn-XXrk9H3",
        "colab": {
          "base_uri": "https://localhost:8080/",
          "height": 206
        },
        "outputId": "60fd7420-a9d1-451d-c30e-dae0c9e5308d"
      },
      "outputs": [
        {
          "output_type": "execute_result",
          "data": {
            "text/plain": [
              "   Unnamed: 0                                              title  \\\n",
              "0           0   Ann Coulter Make Believes She Has ‘Gay Friend...   \n",
              "1           1  Rating: Moody‘s verbessert Ausblick für Russla...   \n",
              "2           2  CAN WE ADD DIRTY MONEY ‘LAUNDERING’ To The Oba...   \n",
              "3           3  Republicans on Obamacare repeal: 'We're going ...   \n",
              "4           4  Trump, on possible DACA deal, says border wall...   \n",
              "\n",
              "                                                text Ground Label  \n",
              "0  It s hard to believe, but Donald Trump does ha...         fake  \n",
              "1  bankensektor Der russische Staat werde die Ban...         fake  \n",
              "2  A member of the House Intelligence Committee i...         fake  \n",
              "3  WASHINGTON (Reuters) - House of Representative...         true  \n",
              "4  WASHINGTON (Reuters) - U.S. President Donald T...         true  "
            ],
            "text/html": [
              "\n",
              "  <div id=\"df-148462d6-7a5d-4906-b976-fc63a1364cf5\">\n",
              "    <div class=\"colab-df-container\">\n",
              "      <div>\n",
              "<style scoped>\n",
              "    .dataframe tbody tr th:only-of-type {\n",
              "        vertical-align: middle;\n",
              "    }\n",
              "\n",
              "    .dataframe tbody tr th {\n",
              "        vertical-align: top;\n",
              "    }\n",
              "\n",
              "    .dataframe thead th {\n",
              "        text-align: right;\n",
              "    }\n",
              "</style>\n",
              "<table border=\"1\" class=\"dataframe\">\n",
              "  <thead>\n",
              "    <tr style=\"text-align: right;\">\n",
              "      <th></th>\n",
              "      <th>Unnamed: 0</th>\n",
              "      <th>title</th>\n",
              "      <th>text</th>\n",
              "      <th>Ground Label</th>\n",
              "    </tr>\n",
              "  </thead>\n",
              "  <tbody>\n",
              "    <tr>\n",
              "      <th>0</th>\n",
              "      <td>0</td>\n",
              "      <td>Ann Coulter Make Believes She Has ‘Gay Friend...</td>\n",
              "      <td>It s hard to believe, but Donald Trump does ha...</td>\n",
              "      <td>fake</td>\n",
              "    </tr>\n",
              "    <tr>\n",
              "      <th>1</th>\n",
              "      <td>1</td>\n",
              "      <td>Rating: Moody‘s verbessert Ausblick für Russla...</td>\n",
              "      <td>bankensektor Der russische Staat werde die Ban...</td>\n",
              "      <td>fake</td>\n",
              "    </tr>\n",
              "    <tr>\n",
              "      <th>2</th>\n",
              "      <td>2</td>\n",
              "      <td>CAN WE ADD DIRTY MONEY ‘LAUNDERING’ To The Oba...</td>\n",
              "      <td>A member of the House Intelligence Committee i...</td>\n",
              "      <td>fake</td>\n",
              "    </tr>\n",
              "    <tr>\n",
              "      <th>3</th>\n",
              "      <td>3</td>\n",
              "      <td>Republicans on Obamacare repeal: 'We're going ...</td>\n",
              "      <td>WASHINGTON (Reuters) - House of Representative...</td>\n",
              "      <td>true</td>\n",
              "    </tr>\n",
              "    <tr>\n",
              "      <th>4</th>\n",
              "      <td>4</td>\n",
              "      <td>Trump, on possible DACA deal, says border wall...</td>\n",
              "      <td>WASHINGTON (Reuters) - U.S. President Donald T...</td>\n",
              "      <td>true</td>\n",
              "    </tr>\n",
              "  </tbody>\n",
              "</table>\n",
              "</div>\n",
              "      <button class=\"colab-df-convert\" onclick=\"convertToInteractive('df-148462d6-7a5d-4906-b976-fc63a1364cf5')\"\n",
              "              title=\"Convert this dataframe to an interactive table.\"\n",
              "              style=\"display:none;\">\n",
              "        \n",
              "  <svg xmlns=\"http://www.w3.org/2000/svg\" height=\"24px\"viewBox=\"0 0 24 24\"\n",
              "       width=\"24px\">\n",
              "    <path d=\"M0 0h24v24H0V0z\" fill=\"none\"/>\n",
              "    <path d=\"M18.56 5.44l.94 2.06.94-2.06 2.06-.94-2.06-.94-.94-2.06-.94 2.06-2.06.94zm-11 1L8.5 8.5l.94-2.06 2.06-.94-2.06-.94L8.5 2.5l-.94 2.06-2.06.94zm10 10l.94 2.06.94-2.06 2.06-.94-2.06-.94-.94-2.06-.94 2.06-2.06.94z\"/><path d=\"M17.41 7.96l-1.37-1.37c-.4-.4-.92-.59-1.43-.59-.52 0-1.04.2-1.43.59L10.3 9.45l-7.72 7.72c-.78.78-.78 2.05 0 2.83L4 21.41c.39.39.9.59 1.41.59.51 0 1.02-.2 1.41-.59l7.78-7.78 2.81-2.81c.8-.78.8-2.07 0-2.86zM5.41 20L4 18.59l7.72-7.72 1.47 1.35L5.41 20z\"/>\n",
              "  </svg>\n",
              "      </button>\n",
              "      \n",
              "  <style>\n",
              "    .colab-df-container {\n",
              "      display:flex;\n",
              "      flex-wrap:wrap;\n",
              "      gap: 12px;\n",
              "    }\n",
              "\n",
              "    .colab-df-convert {\n",
              "      background-color: #E8F0FE;\n",
              "      border: none;\n",
              "      border-radius: 50%;\n",
              "      cursor: pointer;\n",
              "      display: none;\n",
              "      fill: #1967D2;\n",
              "      height: 32px;\n",
              "      padding: 0 0 0 0;\n",
              "      width: 32px;\n",
              "    }\n",
              "\n",
              "    .colab-df-convert:hover {\n",
              "      background-color: #E2EBFA;\n",
              "      box-shadow: 0px 1px 2px rgba(60, 64, 67, 0.3), 0px 1px 3px 1px rgba(60, 64, 67, 0.15);\n",
              "      fill: #174EA6;\n",
              "    }\n",
              "\n",
              "    [theme=dark] .colab-df-convert {\n",
              "      background-color: #3B4455;\n",
              "      fill: #D2E3FC;\n",
              "    }\n",
              "\n",
              "    [theme=dark] .colab-df-convert:hover {\n",
              "      background-color: #434B5C;\n",
              "      box-shadow: 0px 1px 3px 1px rgba(0, 0, 0, 0.15);\n",
              "      filter: drop-shadow(0px 1px 2px rgba(0, 0, 0, 0.3));\n",
              "      fill: #FFFFFF;\n",
              "    }\n",
              "  </style>\n",
              "\n",
              "      <script>\n",
              "        const buttonEl =\n",
              "          document.querySelector('#df-148462d6-7a5d-4906-b976-fc63a1364cf5 button.colab-df-convert');\n",
              "        buttonEl.style.display =\n",
              "          google.colab.kernel.accessAllowed ? 'block' : 'none';\n",
              "\n",
              "        async function convertToInteractive(key) {\n",
              "          const element = document.querySelector('#df-148462d6-7a5d-4906-b976-fc63a1364cf5');\n",
              "          const dataTable =\n",
              "            await google.colab.kernel.invokeFunction('convertToInteractive',\n",
              "                                                     [key], {});\n",
              "          if (!dataTable) return;\n",
              "\n",
              "          const docLinkHtml = 'Like what you see? Visit the ' +\n",
              "            '<a target=\"_blank\" href=https://colab.research.google.com/notebooks/data_table.ipynb>data table notebook</a>'\n",
              "            + ' to learn more about interactive tables.';\n",
              "          element.innerHTML = '';\n",
              "          dataTable['output_type'] = 'display_data';\n",
              "          await google.colab.output.renderOutput(dataTable, element);\n",
              "          const docLink = document.createElement('div');\n",
              "          docLink.innerHTML = docLinkHtml;\n",
              "          element.appendChild(docLink);\n",
              "        }\n",
              "      </script>\n",
              "    </div>\n",
              "  </div>\n",
              "  "
            ]
          },
          "metadata": {},
          "execution_count": 54
        }
      ],
      "source": [
        "df.head()"
      ]
    },
    {
      "cell_type": "code",
      "execution_count": 55,
      "metadata": {
        "id": "uiQTyRpDraqC",
        "colab": {
          "base_uri": "https://localhost:8080/",
          "height": 35
        },
        "outputId": "4465cc17-d5c6-437a-d1c8-40df6e5e1275"
      },
      "outputs": [
        {
          "output_type": "execute_result",
          "data": {
            "text/plain": [
              "' Ann Coulter Make Believes She Has ‘Gay Friends’ To Make A Racist Point (TWEET)'"
            ],
            "application/vnd.google.colaboratory.intrinsic+json": {
              "type": "string"
            }
          },
          "metadata": {},
          "execution_count": 55
        }
      ],
      "source": [
        "df[\"title\"][0]"
      ]
    },
    {
      "cell_type": "code",
      "execution_count": 56,
      "metadata": {
        "id": "LI9vMKQmr1Bv",
        "colab": {
          "base_uri": "https://localhost:8080/"
        },
        "outputId": "8efe3301-e0a7-47d4-a9a7-9223e233923e"
      },
      "outputs": [
        {
          "output_type": "execute_result",
          "data": {
            "text/plain": [
              "count                                                 68365\n",
              "unique                                                56948\n",
              "top       Factbox: Trump fills top jobs for his administ...\n",
              "freq                                                     14\n",
              "Name: title, dtype: object"
            ]
          },
          "metadata": {},
          "execution_count": 56
        }
      ],
      "source": [
        "df[\"title\"].describe()"
      ]
    },
    {
      "cell_type": "code",
      "execution_count": 57,
      "metadata": {
        "id": "JVhNSkD4ssEj",
        "colab": {
          "base_uri": "https://localhost:8080/"
        },
        "outputId": "bc02caba-a11d-4819-b149-0ab185188a24"
      },
      "outputs": [
        {
          "output_type": "execute_result",
          "data": {
            "text/plain": [
              "count     68978\n",
              "unique    57716\n",
              "top            \n",
              "freq        769\n",
              "Name: text, dtype: object"
            ]
          },
          "metadata": {},
          "execution_count": 57
        }
      ],
      "source": [
        "df[\"text\"].describe()"
      ]
    },
    {
      "cell_type": "markdown",
      "metadata": {
        "id": "cfS5Buxrs1PX"
      },
      "source": [
        "As we can see there are duplicates in our dataset. But we will check that later with combined title and text."
      ]
    },
    {
      "cell_type": "code",
      "source": [
        "df.isna().sum()"
      ],
      "metadata": {
        "colab": {
          "base_uri": "https://localhost:8080/"
        },
        "id": "MOtq0u2VFdUt",
        "outputId": "13dad00c-0f79-45fe-a570-6d5a34137aad"
      },
      "execution_count": 63,
      "outputs": [
        {
          "output_type": "execute_result",
          "data": {
            "text/plain": [
              "Unnamed: 0        0\n",
              "title           680\n",
              "text             67\n",
              "Ground Label      0\n",
              "dtype: int64"
            ]
          },
          "metadata": {},
          "execution_count": 63
        }
      ]
    },
    {
      "cell_type": "code",
      "execution_count": null,
      "metadata": {
        "id": "mFCO3ztkmlUm"
      },
      "outputs": [],
      "source": [
        "# Drop unnamed colmns, change the columns names, combine title with text, change the way that fake/real news are labeled\n",
        "df = df.loc[:, ~df.columns.str.contains('^Unnamed')]\n",
        "df = df.rename(columns={\"Ground Label\": \"real\"})\n",
        "df[\"title\"] = df[\"title\"].fillna(\"\")\n",
        "df[\"text\"] = df[\"title\"] + df[\"text\"]\n",
        "df = df.drop(columns=[\"title\"])\n",
        "df[\"real\"] = df[\"real\"].eq(\"true\").mul(1)\n",
        "df.head()"
      ]
    },
    {
      "cell_type": "code",
      "source": [
        "df.isna().sum()"
      ],
      "metadata": {
        "colab": {
          "base_uri": "https://localhost:8080/"
        },
        "id": "blDPf0j0FNO-",
        "outputId": "c03cdb1c-1635-4052-d6f2-7cd3d5a75dec"
      },
      "execution_count": 65,
      "outputs": [
        {
          "output_type": "execute_result",
          "data": {
            "text/plain": [
              "text    67\n",
              "real     0\n",
              "dtype: int64"
            ]
          },
          "metadata": {},
          "execution_count": 65
        }
      ]
    },
    {
      "cell_type": "code",
      "source": [
        "df = df.dropna()"
      ],
      "metadata": {
        "id": "avd2Wtw4Fqq2"
      },
      "execution_count": null,
      "outputs": []
    },
    {
      "cell_type": "code",
      "execution_count": 68,
      "metadata": {
        "id": "baeRkrbUtStN",
        "colab": {
          "base_uri": "https://localhost:8080/"
        },
        "outputId": "4d267d9e-cc51-4199-b63d-a8e4ff4f2f4d"
      },
      "outputs": [
        {
          "output_type": "execute_result",
          "data": {
            "text/plain": [
              "count                                                 68978\n",
              "unique                                                59369\n",
              "top       A leading US senator: US Supporting War in Syr...\n",
              "freq                                                     10\n",
              "Name: text, dtype: object"
            ]
          },
          "metadata": {},
          "execution_count": 68
        }
      ],
      "source": [
        "df[\"text\"].describe()"
      ]
    },
    {
      "cell_type": "code",
      "execution_count": 69,
      "metadata": {
        "id": "Bq2QL_fatZzr"
      },
      "outputs": [],
      "source": [
        "# Remove duplicates\n",
        "df = df.drop_duplicates(\"text\")"
      ]
    },
    {
      "cell_type": "code",
      "execution_count": 70,
      "metadata": {
        "id": "YtQfO1Ok3UBm"
      },
      "outputs": [],
      "source": [
        "all_length = len(df)"
      ]
    },
    {
      "cell_type": "code",
      "execution_count": 71,
      "metadata": {
        "id": "KSFHN_8vq1Th"
      },
      "outputs": [],
      "source": [
        "def display_distribution(df):\n",
        "  plt.figure(figsize=(10, 5))\n",
        "  plt.bar('Real News', len(df[df[\"real\"]==1]), color='orange')\n",
        "  plt.bar('Fake News', len(df[df[\"real\"]==0]), color='green')\n",
        "  plt.title('Distribution of Fake News and Real News', size=15)\n",
        "  plt.xlabel('News Type', size=15)\n",
        "  plt.ylabel('# of News Articles', size=15)\n",
        "\n",
        "  \n",
        "  plt.figure(figsize=(10, 5))\n",
        "  plt.bar('Real News', len(df[df[\"real\"]==1]) / all_length, color='orange')\n",
        "  plt.bar('Fake News', len(df[df[\"real\"]==0]) / all_length, color='green')\n",
        "  plt.title('Distribution of Fake News and Real News', size=15)\n",
        "  plt.xlabel('News Type', size=15)\n",
        "  plt.ylabel('Proportion of News Articles', size=15)"
      ]
    },
    {
      "cell_type": "code",
      "execution_count": null,
      "metadata": {
        "id": "oRKSQlMJlAgm"
      },
      "outputs": [],
      "source": [
        "# Plot Fake News / Real News\n",
        "display_distribution(df)"
      ]
    },
    {
      "cell_type": "code",
      "execution_count": 73,
      "metadata": {
        "id": "CMQPodLQtoGg",
        "colab": {
          "base_uri": "https://localhost:8080/"
        },
        "outputId": "d62c458f-be37-4aa7-e441-3a64e368da17"
      },
      "outputs": [
        {
          "output_type": "stream",
          "name": "stdout",
          "text": [
            "Percent point different: 10.761508531388435\n"
          ]
        }
      ],
      "source": [
        "pp_diff = (len(df[df['real']==0]) - len(df[df['real']==1])) * 100 / all_length\n",
        "print(f\"Percent point different: {pp_diff}\")"
      ]
    },
    {
      "cell_type": "markdown",
      "metadata": {
        "id": "qKAzdLzxmJG0"
      },
      "source": [
        "As we can see the difference in occurences of fake news to real news is significant. We need to fix that."
      ]
    },
    {
      "cell_type": "code",
      "execution_count": 74,
      "metadata": {
        "id": "AlM9JACfllIy"
      },
      "outputs": [],
      "source": [
        "df_real = df[df[\"real\"]==1]\n",
        "df_fake = df[df[\"real\"]==0]\n",
        "n = len(df_real) # Since there is less real news\n",
        "df_fake = df_fake.sample(n=n, random_state=42)\n",
        "df_bal = pd.concat([df_real, df_fake], ignore_index=True) # balanced dataframe"
      ]
    },
    {
      "cell_type": "code",
      "execution_count": 76,
      "metadata": {
        "id": "pEMsHFZZrMdV",
        "colab": {
          "base_uri": "https://localhost:8080/",
          "height": 206
        },
        "outputId": "6a707567-8f19-4cdf-b8e9-77301d07adba"
      },
      "outputs": [
        {
          "output_type": "execute_result",
          "data": {
            "text/plain": [
              "                                                text  real\n",
              "0  Republicans on Obamacare repeal: 'We're going ...     1\n",
              "1  Trump, on possible DACA deal, says border wall...     1\n",
              "2  Trump health pick favors insurance for people ...     1\n",
              "3  Clarivate Analytics Roadshow 2017This year’s C...     1\n",
              "4  Trump travel restrictions hit demand for visit...     1"
            ],
            "text/html": [
              "\n",
              "  <div id=\"df-0a928471-212c-4f98-ab81-c9456fd3c04d\">\n",
              "    <div class=\"colab-df-container\">\n",
              "      <div>\n",
              "<style scoped>\n",
              "    .dataframe tbody tr th:only-of-type {\n",
              "        vertical-align: middle;\n",
              "    }\n",
              "\n",
              "    .dataframe tbody tr th {\n",
              "        vertical-align: top;\n",
              "    }\n",
              "\n",
              "    .dataframe thead th {\n",
              "        text-align: right;\n",
              "    }\n",
              "</style>\n",
              "<table border=\"1\" class=\"dataframe\">\n",
              "  <thead>\n",
              "    <tr style=\"text-align: right;\">\n",
              "      <th></th>\n",
              "      <th>text</th>\n",
              "      <th>real</th>\n",
              "    </tr>\n",
              "  </thead>\n",
              "  <tbody>\n",
              "    <tr>\n",
              "      <th>0</th>\n",
              "      <td>Republicans on Obamacare repeal: 'We're going ...</td>\n",
              "      <td>1</td>\n",
              "    </tr>\n",
              "    <tr>\n",
              "      <th>1</th>\n",
              "      <td>Trump, on possible DACA deal, says border wall...</td>\n",
              "      <td>1</td>\n",
              "    </tr>\n",
              "    <tr>\n",
              "      <th>2</th>\n",
              "      <td>Trump health pick favors insurance for people ...</td>\n",
              "      <td>1</td>\n",
              "    </tr>\n",
              "    <tr>\n",
              "      <th>3</th>\n",
              "      <td>Clarivate Analytics Roadshow 2017This year’s C...</td>\n",
              "      <td>1</td>\n",
              "    </tr>\n",
              "    <tr>\n",
              "      <th>4</th>\n",
              "      <td>Trump travel restrictions hit demand for visit...</td>\n",
              "      <td>1</td>\n",
              "    </tr>\n",
              "  </tbody>\n",
              "</table>\n",
              "</div>\n",
              "      <button class=\"colab-df-convert\" onclick=\"convertToInteractive('df-0a928471-212c-4f98-ab81-c9456fd3c04d')\"\n",
              "              title=\"Convert this dataframe to an interactive table.\"\n",
              "              style=\"display:none;\">\n",
              "        \n",
              "  <svg xmlns=\"http://www.w3.org/2000/svg\" height=\"24px\"viewBox=\"0 0 24 24\"\n",
              "       width=\"24px\">\n",
              "    <path d=\"M0 0h24v24H0V0z\" fill=\"none\"/>\n",
              "    <path d=\"M18.56 5.44l.94 2.06.94-2.06 2.06-.94-2.06-.94-.94-2.06-.94 2.06-2.06.94zm-11 1L8.5 8.5l.94-2.06 2.06-.94-2.06-.94L8.5 2.5l-.94 2.06-2.06.94zm10 10l.94 2.06.94-2.06 2.06-.94-2.06-.94-.94-2.06-.94 2.06-2.06.94z\"/><path d=\"M17.41 7.96l-1.37-1.37c-.4-.4-.92-.59-1.43-.59-.52 0-1.04.2-1.43.59L10.3 9.45l-7.72 7.72c-.78.78-.78 2.05 0 2.83L4 21.41c.39.39.9.59 1.41.59.51 0 1.02-.2 1.41-.59l7.78-7.78 2.81-2.81c.8-.78.8-2.07 0-2.86zM5.41 20L4 18.59l7.72-7.72 1.47 1.35L5.41 20z\"/>\n",
              "  </svg>\n",
              "      </button>\n",
              "      \n",
              "  <style>\n",
              "    .colab-df-container {\n",
              "      display:flex;\n",
              "      flex-wrap:wrap;\n",
              "      gap: 12px;\n",
              "    }\n",
              "\n",
              "    .colab-df-convert {\n",
              "      background-color: #E8F0FE;\n",
              "      border: none;\n",
              "      border-radius: 50%;\n",
              "      cursor: pointer;\n",
              "      display: none;\n",
              "      fill: #1967D2;\n",
              "      height: 32px;\n",
              "      padding: 0 0 0 0;\n",
              "      width: 32px;\n",
              "    }\n",
              "\n",
              "    .colab-df-convert:hover {\n",
              "      background-color: #E2EBFA;\n",
              "      box-shadow: 0px 1px 2px rgba(60, 64, 67, 0.3), 0px 1px 3px 1px rgba(60, 64, 67, 0.15);\n",
              "      fill: #174EA6;\n",
              "    }\n",
              "\n",
              "    [theme=dark] .colab-df-convert {\n",
              "      background-color: #3B4455;\n",
              "      fill: #D2E3FC;\n",
              "    }\n",
              "\n",
              "    [theme=dark] .colab-df-convert:hover {\n",
              "      background-color: #434B5C;\n",
              "      box-shadow: 0px 1px 3px 1px rgba(0, 0, 0, 0.15);\n",
              "      filter: drop-shadow(0px 1px 2px rgba(0, 0, 0, 0.3));\n",
              "      fill: #FFFFFF;\n",
              "    }\n",
              "  </style>\n",
              "\n",
              "      <script>\n",
              "        const buttonEl =\n",
              "          document.querySelector('#df-0a928471-212c-4f98-ab81-c9456fd3c04d button.colab-df-convert');\n",
              "        buttonEl.style.display =\n",
              "          google.colab.kernel.accessAllowed ? 'block' : 'none';\n",
              "\n",
              "        async function convertToInteractive(key) {\n",
              "          const element = document.querySelector('#df-0a928471-212c-4f98-ab81-c9456fd3c04d');\n",
              "          const dataTable =\n",
              "            await google.colab.kernel.invokeFunction('convertToInteractive',\n",
              "                                                     [key], {});\n",
              "          if (!dataTable) return;\n",
              "\n",
              "          const docLinkHtml = 'Like what you see? Visit the ' +\n",
              "            '<a target=\"_blank\" href=https://colab.research.google.com/notebooks/data_table.ipynb>data table notebook</a>'\n",
              "            + ' to learn more about interactive tables.';\n",
              "          element.innerHTML = '';\n",
              "          dataTable['output_type'] = 'display_data';\n",
              "          await google.colab.output.renderOutput(dataTable, element);\n",
              "          const docLink = document.createElement('div');\n",
              "          docLink.innerHTML = docLinkHtml;\n",
              "          element.appendChild(docLink);\n",
              "        }\n",
              "      </script>\n",
              "    </div>\n",
              "  </div>\n",
              "  "
            ]
          },
          "metadata": {},
          "execution_count": 76
        }
      ],
      "source": [
        "df_bal.head()"
      ]
    },
    {
      "cell_type": "markdown",
      "metadata": {
        "id": "-keYN7wPqwlu"
      },
      "source": [
        "Now lets look at the distribution one more time"
      ]
    },
    {
      "cell_type": "code",
      "execution_count": 77,
      "metadata": {
        "id": "9lQcMYkyqvTu",
        "colab": {
          "base_uri": "https://localhost:8080/",
          "height": 697
        },
        "outputId": "ecd0d9d1-730e-48ea-e409-8c54842da5a6"
      },
      "outputs": [
        {
          "output_type": "display_data",
          "data": {
            "text/plain": [
              "<Figure size 720x360 with 1 Axes>"
            ],
            "image/png": "[encoded data removed]"
          },
          "metadata": {}
        },
        {
          "output_type": "display_data",
          "data": {
            "text/plain": [
              "<Figure size 720x360 with 1 Axes>"
            ],
            "image/png": "[encoded data removed]"
          },
          "metadata": {}
        }
      ],
      "source": [
        "# Plot Fake News / Real News\n",
        "display_distribution(df_bal)"
      ]
    },
    {
      "cell_type": "markdown",
      "metadata": {
        "id": "ZRIhAzOPuZIW"
      },
      "source": [
        "## Split data for training+validation and testing"
      ]
    },
    {
      "cell_type": "code",
      "execution_count": 78,
      "metadata": {
        "id": "ZG2_bIivrq0y"
      },
      "outputs": [],
      "source": [
        "from sklearn.model_selection import train_test_split\n",
        "df_train, df_test = train_test_split(df_bal, test_size=0.30, random_state=27)"
      ]
    },
    {
      "cell_type": "markdown",
      "metadata": {
        "id": "5mj0DBPk36sX"
      },
      "source": [
        "Now we can save the training and testting dataset separatly."
      ]
    },
    {
      "cell_type": "code",
      "execution_count": 79,
      "metadata": {
        "id": "vZZ93V_833Lo"
      },
      "outputs": [],
      "source": [
        "df_train.to_csv(\"fake-news-train.csv\")\n",
        "df_test.to_csv(\"fake-news-test.csv\")"
      ]
    },
    {
      "cell_type": "markdown",
      "metadata": {
        "id": "a6knDCkI5d9P"
      },
      "source": [
        "I have downloaded them to my github repo where they can be accessed"
      ]
    },
    {
      "cell_type": "markdown",
      "source": [
        "\n",
        "```\n",
        "# This is formatted as code\n",
        "```\n",
        "\n"
      ],
      "metadata": {
        "id": "a9a3PI8JDmMk"
      }
    },
    {
      "cell_type": "markdown",
      "metadata": {
        "id": "Gn--TTwb5tK-"
      },
      "source": [
        "## Loading train dataset only\n",
        "\n",
        "Datasets can be found at the repo: https://github.com/ZetrextJG/MLProject1_FakeNewsDetection"
      ]
    },
    {
      "cell_type": "code",
      "execution_count": null,
      "metadata": {
        "id": "vdNedp4IJU0Z"
      },
      "outputs": [],
      "source": [
        "!wget https://github.com/ZetrextJG/MLProject1_FakeNewsDetection/raw/main/fake-news.zip && unzip -d data fake-news.zip"
      ]
    },
    {
      "cell_type": "code",
      "execution_count": 16,
      "metadata": {
        "id": "0JxyyclpJpru"
      },
      "outputs": [],
      "source": [
        "df_train = pd.read_csv(\"data/fake-news-train.csv\", index_col=False)\n",
        "df_train = df_train.loc[:, ~df_train.columns.str.contains('^Unnamed')]"
      ]
    },
    {
      "cell_type": "code",
      "execution_count": null,
      "metadata": {
        "id": "qJyQwZHmJvtc"
      },
      "outputs": [],
      "source": [
        "df_train.head()"
      ]
    },
    {
      "cell_type": "markdown",
      "source": [
        "## Data preprocessing - continiuation"
      ],
      "metadata": {
        "id": "MOqO87vqEWcW"
      }
    },
    {
      "cell_type": "code",
      "source": [
        "X_train = df_train[\"text\"]\n",
        "y_train = df_train[\"real\"]"
      ],
      "metadata": {
        "id": "UoPUvGLiEoN5"
      },
      "execution_count": 80,
      "outputs": []
    },
    {
      "cell_type": "markdown",
      "source": [
        "Normalization of data:"
      ],
      "metadata": {
        "id": "jbwaBjLoEo5W"
      }
    },
    {
      "cell_type": "code",
      "source": [
        "def normalize(data):\n",
        "    normalized = []\n",
        "    j = 0\n",
        "    for i in data.to_list():\n",
        "        i = i.lower()\n",
        "        # get rid of urls\n",
        "        i = re.sub('https?://\\S+|www\\.\\S+', '', i)\n",
        "        # get rid of non words and extra spaces\n",
        "        i = re.sub('\\\\W', ' ', i)\n",
        "        i = re.sub('\\n', '', i)\n",
        "        i = re.sub(' +', ' ', i)\n",
        "        i = re.sub('^ ', '', i)\n",
        "        i = re.sub(' $', '', i)\n",
        "        normalized.append(i)\n",
        "    return normalized\n",
        "\n",
        "\n",
        "X_train = normalize(X_train)"
      ],
      "metadata": {
        "id": "R9cf-2iBErRg"
      },
      "execution_count": 81,
      "outputs": []
    },
    {
      "cell_type": "markdown",
      "source": [
        "Converting text to vectors:"
      ],
      "metadata": {
        "id": "QWu6-uMzExgf"
      }
    },
    {
      "cell_type": "code",
      "source": [
        "max_vocab = 20000\n",
        "tokenizer = Tokenizer(num_words=max_vocab)\n",
        "tokenizer.fit_on_texts(X_train)\n",
        "\n",
        "X_train = tokenizer.texts_to_sequences(X_train)"
      ],
      "metadata": {
        "id": "x76v55fLE2me"
      },
      "execution_count": 82,
      "outputs": []
    },
    {
      "cell_type": "markdown",
      "source": [
        "Application of padding (so we have the same length for each article):"
      ],
      "metadata": {
        "id": "i8nTYSAPE_nB"
      }
    },
    {
      "cell_type": "code",
      "source": [
        "X_train = tf.keras.preprocessing.sequence.pad_sequences(X_train, padding='post', maxlen=256)"
      ],
      "metadata": {
        "id": "k_jBufZjFDFg"
      },
      "execution_count": 84,
      "outputs": []
    },
    {
      "cell_type": "markdown",
      "source": [
        "RNN building:"
      ],
      "metadata": {
        "id": "MyPEFamVFG9N"
      }
    },
    {
      "cell_type": "code",
      "source": [
        "model = tf.keras.Sequential([\n",
        "    tf.keras.layers.Embedding(max_vocab, 128),\n",
        "    tf.keras.layers.Bidirectional(tf.keras.layers.LSTM(64,  return_sequences=True)),\n",
        "    tf.keras.layers.Bidirectional(tf.keras.layers.LSTM(16)),\n",
        "    tf.keras.layers.Dense(64, activation='relu'),\n",
        "    tf.keras.layers.Dropout(0.5),\n",
        "    tf.keras.layers.Dense(1)\n",
        "])\n",
        "\n",
        "model.summary()"
      ],
      "metadata": {
        "id": "zbznv272FJEY"
      },
      "execution_count": null,
      "outputs": []
    },
    {
      "cell_type": "markdown",
      "source": [
        "Creation of early stop, in case that validation no longer improves:"
      ],
      "metadata": {
        "id": "Bzg2Ab6HFLsg"
      }
    },
    {
      "cell_type": "code",
      "source": [
        "early_stop = tf.keras.callbacks.EarlyStopping(monitor='val_loss', patience=3, restore_best_weights=True)\n",
        "model.compile(loss=tf.keras.losses.BinaryCrossentropy(from_logits=True),\n",
        "              optimizer=tf.keras.optimizers.Adam(1e-4),\n",
        "              metrics=['accuracy'])\n",
        "\n",
        "history = model.fit(X_train, y_train, epochs=10, validation_split=0.1, batch_size=30, shuffle=True, callbacks=[early_stop])"
      ],
      "metadata": {
        "id": "qck5j_8eFd9T",
        "colab": {
          "base_uri": "https://localhost:8080/"
        },
        "outputId": "3cb991f0-08e7-428b-ff7a-8e2332eac0bd"
      },
      "execution_count": null,
      "outputs": [
        {
          "output_type": "stream",
          "name": "stdout",
          "text": [
            "Epoch 1/10\n",
            "1113/1113 [==============================] - 111s 91ms/step - loss: 0.3578 - accuracy: 0.8280 - val_loss: 0.1936 - val_accuracy: 0.9310\n",
            "Epoch 2/10\n",
            " 444/1113 [==========>...................] - ETA: 28s - loss: 0.1663 - accuracy: 0.9465"
          ]
        }
      ]
    },
    {
      "cell_type": "code",
      "source": [],
      "metadata": {
        "id": "Ke60KTp2EaVC"
      },
      "execution_count": null,
      "outputs": []
    },
    {
      "cell_type": "markdown",
      "source": [
        "Visualize our training over time:"
      ],
      "metadata": {
        "id": "7McObibmFj_m"
      }
    },
    {
      "cell_type": "code",
      "source": [
        "history_dict = history.history\n",
        "\n",
        "acc = history_dict['accuracy']\n",
        "val_acc = history_dict['val_accuracy']\n",
        "loss = history_dict['loss']\n",
        "val_loss = history_dict['val_loss']\n",
        "epochs = history.epoch\n",
        "\n",
        "plt.figure(figsize=(12,9))\n",
        "plt.plot(epochs, loss, 'r', label='Training loss')\n",
        "plt.plot(epochs, val_loss, 'b', label='Validation loss')\n",
        "plt.title('Training and validation loss', size=20)\n",
        "plt.xlabel('Epochs', size=20)\n",
        "plt.ylabel('Loss', size=20)\n",
        "plt.legend(prop={'size': 20})\n",
        "plt.show()\n",
        "\n",
        "plt.figure(figsize=(12,9))\n",
        "plt.plot(epochs, acc, 'g', label='Training acc')\n",
        "plt.plot(epochs, val_acc, 'b', label='Validation acc')\n",
        "plt.title('Training and validation accuracy', size=20)\n",
        "plt.xlabel('Epochs', size=20)\n",
        "plt.ylabel('Accuracy', size=20)\n",
        "plt.legend(prop={'size': 20})\n",
        "plt.ylim((0.5,1))\n",
        "plt.show()"
      ],
      "metadata": {
        "id": "O7TMQJARFlRr"
      },
      "execution_count": null,
      "outputs": []
    },
    {
      "cell_type": "markdown",
      "source": [
        "## Testing"
      ],
      "metadata": {
        "id": "GkU1gmf3Fxcu"
      }
    },
    {
      "cell_type": "markdown",
      "source": [
        "Loading  test dataset"
      ],
      "metadata": {
        "id": "L3PqMnUqy5hN"
      }
    },
    {
      "cell_type": "code",
      "source": [
        "df_test = pd.read_csv(\"data/fake-news-test.csv\", index_col=False)\n",
        "df_test = df_test.loc[:, ~df_test.columns.str.contains('^Unnamed')]\n",
        "\n",
        "X_test = df_test[\"text\"]\n",
        "y_test = df_test[\"real\"]\n",
        "\n",
        "X_test = normalize(X_test)\n",
        "\n",
        "X_test = tokenizer.texts_to_sequences(X_test)\n",
        "\n",
        "\n",
        "X_test = tf.keras.preprocessing.sequence.pad_sequences(X_test, padding='post', maxlen=256)"
      ],
      "metadata": {
        "id": "dlCzvWq6y9Qx"
      },
      "execution_count": null,
      "outputs": []
    },
    {
      "cell_type": "markdown",
      "source": [
        "Evaluation of the testing set:"
      ],
      "metadata": {
        "id": "nA2_9fRwF3BZ"
      }
    },
    {
      "cell_type": "code",
      "source": [
        "model.evaluate(X_test, y_test)"
      ],
      "metadata": {
        "id": "MDORoFj-GCZE"
      },
      "execution_count": null,
      "outputs": []
    },
    {
      "cell_type": "code",
      "source": [
        "for i in pred:\n",
        "    if i >= 0.5:\n",
        "        binary_predictions.append(1)\n",
        "    else:\n",
        "        binary_predictions.append(0)"
      ],
      "metadata": {
        "id": "bf8MvYyvGPHG"
      },
      "execution_count": null,
      "outputs": []
    },
    {
      "cell_type": "code",
      "source": [
        "print('Accuracy on testing set:', accuracy_score(binary_predictions, y_test))\n",
        "print('Precision on testing set:', precision_score(binary_predictions, y_test))\n",
        "print('Recall on testing set:', recall_score(binary_predictions, y_test))"
      ],
      "metadata": {
        "id": "AoUP9nF7GPwa"
      },
      "execution_count": null,
      "outputs": []
    },
    {
      "cell_type": "markdown",
      "source": [
        "Confusion matrix"
      ],
      "metadata": {
        "id": "PpD5aC_QGU6W"
      }
    },
    {
      "cell_type": "code",
      "source": [
        "matrix = confusion_matrix(binary_predictions, y_test, normalize='all')\n",
        "plt.figure(figsize=(16, 10))\n",
        "ax = plt.subplot()\n",
        "sns.heatmap(matrix, annot=True, ax = ax)\n",
        "\n",
        "# labels, title and ticks\n",
        "ax.set_xlabel('Predicted Labels', size=20)\n",
        "ax.set_ylabel('True Labels', size=20)\n",
        "ax.set_title('Confusion Matrix', size=20)\n",
        "ax.xaxis.set_ticklabels([0,1], size=15)\n",
        "ax.yaxis.set_ticklabels([0,1], size=15)\n",
        "plt.show()"
      ],
      "metadata": {
        "id": "waaiTcPJGWxi"
      },
      "execution_count": null,
      "outputs": []
    },
    {
      "cell_type": "markdown",
      "source": [
        "Saving weights for visualisation"
      ],
      "metadata": {
        "id": "r-XjeIUCGjnB"
      }
    },
    {
      "cell_type": "code",
      "source": [
        "e = model.layers[0]\n",
        "weights = e.get_weights()[0]\n",
        "print(weights.shape) # shape: (vocab_size, embedding_dim)\n",
        "\n",
        "word_index = list(tokenizer.word_index.keys())\n",
        "word_index = word_index[:max_vocab-1]"
      ],
      "metadata": {
        "id": "mrDiY437GoG0"
      },
      "execution_count": null,
      "outputs": []
    },
    {
      "cell_type": "markdown",
      "source": [
        "Write to file so we can use tensorflow's embedding projector to visualize what our network learned."
      ],
      "metadata": {
        "id": "qVak4FyzG6Dc"
      }
    },
    {
      "cell_type": "code",
      "source": [
        "import io\n",
        "\n",
        "out_v = io.open('PreProcessedData_vecs.tsv', 'w', encoding='utf-8')\n",
        "out_m = io.open('PreProcessedData_meta.tsv', 'w', encoding='utf-8')\n",
        "\n",
        "for num, word in enumerate(word_index):\n",
        "  vec = weights[num+1] # skip 0, it's padding.\n",
        "  out_m.write(word + \"\\n\")\n",
        "  out_v.write('\\t'.join([str(x) for x in vec]) + \"\\n\")\n",
        "out_v.close()\n",
        "out_m.close()"
      ],
      "metadata": {
        "id": "_mrUnGubG5Qd"
      },
      "execution_count": null,
      "outputs": []
    }
  ],
  "metadata": {
    "colab": {
      "collapsed_sections": [
        "sgYVBrzyh-GY",
        "4bv-NSSEj1EW"
      ],
      "provenance": []
    },
    "kernelspec": {
      "display_name": "Python 3",
      "name": "python3"
    },
    "language_info": {
      "name": "python"
    },
    "accelerator": "GPU",
    "gpuClass": "standard"
  },
  "nbformat": 4,
  "nbformat_minor": 0
}