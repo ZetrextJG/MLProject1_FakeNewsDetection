{
  "cells": [
    {
      "cell_type": "markdown",
      "metadata": {
        "id": "eL6BUYykhxj3"
      },
      "source": [
        "# Fake News detection with tensorflow and nltk using LSTMs"
      ]
    },
    {
      "cell_type": "markdown",
      "metadata": {
        "id": "YizhwTEpWBIq"
      },
      "source": [
        "# Libraries setup"
      ]
    },
    {
      "cell_type": "code",
      "execution_count": 1,
      "metadata": {
        "id": "0UE6Fv_QFX95",
        "colab": {
          "base_uri": "https://localhost:8080/"
        },
        "outputId": "b6f53b9e-2797-46d5-fce1-34e14baef113"
      },
      "outputs": [
        {
          "output_type": "stream",
          "name": "stderr",
          "text": [
            "/usr/local/lib/python3.9/dist-packages/torch/cuda/__init__.py:497: UserWarning: Can't initialize NVML\n",
            "  warnings.warn(\"Can't initialize NVML\")\n"
          ]
        }
      ],
      "source": [
        "# Import all necessary libraries for preprocessing and model building\n",
        "import re\n",
        "from typing import Iterable\n",
        "\n",
        "import matplotlib.pyplot as plt\n",
        "import nltk\n",
        "import spacy\n",
        "import numpy as np\n",
        "import pandas as pd\n",
        "import seaborn as sns\n",
        "import tensorflow as tf\n",
        "from sklearn.preprocessing import StandardScaler\n",
        "from sklearn.linear_model import LogisticRegression\n",
        "from sklearn.metrics import (accuracy_score, confusion_matrix, precision_score,\n",
        "                             recall_score, roc_curve)\n",
        "from sklearn.model_selection import train_test_split\n",
        "from tensorflow.keras.preprocessing.text import Tokenizer\n",
        "from tqdm import tqdm\n",
        "from sklearn.metrics import classification_report\n",
        "\n",
        "plt.style.use(\"ggplot\")"
      ]
    },
    {
      "cell_type": "code",
      "execution_count": 2,
      "metadata": {
        "id": "y5fS6O6Vwzvp"
      },
      "outputs": [],
      "source": [
        "import string\n",
        "from nltk.corpus import stopwords\n",
        "from nltk.stem import WordNetLemmatizer"
      ]
    },
    {
      "cell_type": "code",
      "execution_count": 3,
      "metadata": {
        "id": "MiUBwrsNyPQN",
        "colab": {
          "base_uri": "https://localhost:8080/"
        },
        "outputId": "d3a2fd49-647a-442a-c43e-59dbadff143a"
      },
      "outputs": [
        {
          "output_type": "stream",
          "name": "stderr",
          "text": [
            "[nltk_data] Downloading package wordnet to /root/nltk_data...\n",
            "[nltk_data] Downloading package stopwords to /root/nltk_data...\n",
            "[nltk_data]   Unzipping corpora/stopwords.zip.\n"
          ]
        },
        {
          "output_type": "execute_result",
          "data": {
            "text/plain": [
              "True"
            ]
          },
          "metadata": {},
          "execution_count": 3
        }
      ],
      "source": [
        "nltk.download('wordnet')\n",
        "nltk.download('stopwords')"
      ]
    },
    {
      "cell_type": "code",
      "source": [
        "import locale\n",
        "locale.getpreferredencoding = lambda: \"UTF-8\""
      ],
      "metadata": {
        "id": "RC_aEG6NFocP"
      },
      "execution_count": 4,
      "outputs": []
    },
    {
      "cell_type": "markdown",
      "source": [
        "# Discovery and preprocessing"
      ],
      "metadata": {
        "id": "fi8eYkpyl_qu"
      }
    },
    {
      "cell_type": "markdown",
      "metadata": {
        "id": "sgYVBrzyh-GY"
      },
      "source": [
        "## Download dataset from kaggle"
      ]
    },
    {
      "cell_type": "code",
      "execution_count": null,
      "metadata": {
        "id": "xGtd6gwjg3q5"
      },
      "outputs": [],
      "source": [
        "# Install kaggle library\n",
        "!pip install -q kaggle"
      ]
    },
    {
      "cell_type": "code",
      "execution_count": null,
      "metadata": {
        "colab": {
          "base_uri": "https://localhost:8080/",
          "height": 90
        },
        "id": "dIzSfq5IiJM1",
        "outputId": "a3a9f85d-45eb-4066-c903-23174409acab"
      },
      "outputs": [
        {
          "data": {
            "text/html": [
              "\n",
              "     <input type=\"file\" id=\"files-8b39af8a-b0d5-4ac6-912e-3ee40b854b6f\" name=\"files[]\" multiple disabled\n",
              "        style=\"border:none\" />\n",
              "     <output id=\"result-8b39af8a-b0d5-4ac6-912e-3ee40b854b6f\">\n",
              "      Upload widget is only available when the cell has been executed in the\n",
              "      current browser session. Please rerun this cell to enable.\n",
              "      </output>\n",
              "      <script>// Copyright 2017 Google LLC\n",
              "//\n",
              "// Licensed under the Apache License, Version 2.0 (the \"License\");\n",
              "// you may not use this file except in compliance with the License.\n",
              "// You may obtain a copy of the License at\n",
              "//\n",
              "//      http://www.apache.org/licenses/LICENSE-2.0\n",
              "//\n",
              "// Unless required by applicable law or agreed to in writing, software\n",
              "// distributed under the License is distributed on an \"AS IS\" BASIS,\n",
              "// WITHOUT WARRANTIES OR CONDITIONS OF ANY KIND, either express or implied.\n",
              "// See the License for the specific language governing permissions and\n",
              "// limitations under the License.\n",
              "\n",
              "/**\n",
              " * @fileoverview Helpers for google.colab Python module.\n",
              " */\n",
              "(function(scope) {\n",
              "function span(text, styleAttributes = {}) {\n",
              "  const element = document.createElement('span');\n",
              "  element.textContent = text;\n",
              "  for (const key of Object.keys(styleAttributes)) {\n",
              "    element.style[key] = styleAttributes[key];\n",
              "  }\n",
              "  return element;\n",
              "}\n",
              "\n",
              "// Max number of bytes which will be uploaded at a time.\n",
              "const MAX_PAYLOAD_SIZE = 100 * 1024;\n",
              "\n",
              "function _uploadFiles(inputId, outputId) {\n",
              "  const steps = uploadFilesStep(inputId, outputId);\n",
              "  const outputElement = document.getElementById(outputId);\n",
              "  // Cache steps on the outputElement to make it available for the next call\n",
              "  // to uploadFilesContinue from Python.\n",
              "  outputElement.steps = steps;\n",
              "\n",
              "  return _uploadFilesContinue(outputId);\n",
              "}\n",
              "\n",
              "// This is roughly an async generator (not supported in the browser yet),\n",
              "// where there are multiple asynchronous steps and the Python side is going\n",
              "// to poll for completion of each step.\n",
              "// This uses a Promise to block the python side on completion of each step,\n",
              "// then passes the result of the previous step as the input to the next step.\n",
              "function _uploadFilesContinue(outputId) {\n",
              "  const outputElement = document.getElementById(outputId);\n",
              "  const steps = outputElement.steps;\n",
              "\n",
              "  const next = steps.next(outputElement.lastPromiseValue);\n",
              "  return Promise.resolve(next.value.promise).then((value) => {\n",
              "    // Cache the last promise value to make it available to the next\n",
              "    // step of the generator.\n",
              "    outputElement.lastPromiseValue = value;\n",
              "    return next.value.response;\n",
              "  });\n",
              "}\n",
              "\n",
              "/**\n",
              " * Generator function which is called between each async step of the upload\n",
              " * process.\n",
              " * @param {string} inputId Element ID of the input file picker element.\n",
              " * @param {string} outputId Element ID of the output display.\n",
              " * @return {!Iterable<!Object>} Iterable of next steps.\n",
              " */\n",
              "function* uploadFilesStep(inputId, outputId) {\n",
              "  const inputElement = document.getElementById(inputId);\n",
              "  inputElement.disabled = false;\n",
              "\n",
              "  const outputElement = document.getElementById(outputId);\n",
              "  outputElement.innerHTML = '';\n",
              "\n",
              "  const pickedPromise = new Promise((resolve) => {\n",
              "    inputElement.addEventListener('change', (e) => {\n",
              "      resolve(e.target.files);\n",
              "    });\n",
              "  });\n",
              "\n",
              "  const cancel = document.createElement('button');\n",
              "  inputElement.parentElement.appendChild(cancel);\n",
              "  cancel.textContent = 'Cancel upload';\n",
              "  const cancelPromise = new Promise((resolve) => {\n",
              "    cancel.onclick = () => {\n",
              "      resolve(null);\n",
              "    };\n",
              "  });\n",
              "\n",
              "  // Wait for the user to pick the files.\n",
              "  const files = yield {\n",
              "    promise: Promise.race([pickedPromise, cancelPromise]),\n",
              "    response: {\n",
              "      action: 'starting',\n",
              "    }\n",
              "  };\n",
              "\n",
              "  cancel.remove();\n",
              "\n",
              "  // Disable the input element since further picks are not allowed.\n",
              "  inputElement.disabled = true;\n",
              "\n",
              "  if (!files) {\n",
              "    return {\n",
              "      response: {\n",
              "        action: 'complete',\n",
              "      }\n",
              "    };\n",
              "  }\n",
              "\n",
              "  for (const file of files) {\n",
              "    const li = document.createElement('li');\n",
              "    li.append(span(file.name, {fontWeight: 'bold'}));\n",
              "    li.append(span(\n",
              "        `(${file.type || 'n/a'}) - ${file.size} bytes, ` +\n",
              "        `last modified: ${\n",
              "            file.lastModifiedDate ? file.lastModifiedDate.toLocaleDateString() :\n",
              "                                    'n/a'} - `));\n",
              "    const percent = span('0% done');\n",
              "    li.appendChild(percent);\n",
              "\n",
              "    outputElement.appendChild(li);\n",
              "\n",
              "    const fileDataPromise = new Promise((resolve) => {\n",
              "      const reader = new FileReader();\n",
              "      reader.onload = (e) => {\n",
              "        resolve(e.target.result);\n",
              "      };\n",
              "      reader.readAsArrayBuffer(file);\n",
              "    });\n",
              "    // Wait for the data to be ready.\n",
              "    let fileData = yield {\n",
              "      promise: fileDataPromise,\n",
              "      response: {\n",
              "        action: 'continue',\n",
              "      }\n",
              "    };\n",
              "\n",
              "    // Use a chunked sending to avoid message size limits. See b/62115660.\n",
              "    let position = 0;\n",
              "    do {\n",
              "      const length = Math.min(fileData.byteLength - position, MAX_PAYLOAD_SIZE);\n",
              "      const chunk = new Uint8Array(fileData, position, length);\n",
              "      position += length;\n",
              "\n",
              "      const base64 = btoa(String.fromCharCode.apply(null, chunk));\n",
              "      yield {\n",
              "        response: {\n",
              "          action: 'append',\n",
              "          file: file.name,\n",
              "          data: base64,\n",
              "        },\n",
              "      };\n",
              "\n",
              "      let percentDone = fileData.byteLength === 0 ?\n",
              "          100 :\n",
              "          Math.round((position / fileData.byteLength) * 100);\n",
              "      percent.textContent = `${percentDone}% done`;\n",
              "\n",
              "    } while (position < fileData.byteLength);\n",
              "  }\n",
              "\n",
              "  // All done.\n",
              "  yield {\n",
              "    response: {\n",
              "      action: 'complete',\n",
              "    }\n",
              "  };\n",
              "}\n",
              "\n",
              "scope.google = scope.google || {};\n",
              "scope.google.colab = scope.google.colab || {};\n",
              "scope.google.colab._files = {\n",
              "  _uploadFiles,\n",
              "  _uploadFilesContinue,\n",
              "};\n",
              "})(self);\n",
              "</script> "
            ],
            "text/plain": [
              "<IPython.core.display.HTML object>"
            ]
          },
          "metadata": {},
          "output_type": "display_data"
        },
        {
          "name": "stdout",
          "output_type": "stream",
          "text": [
            "Saving kaggle.json to kaggle (1).json\n"
          ]
        },
        {
          "data": {
            "text/plain": [
              "{'kaggle.json': b'{\"username\":\"kamilkisiel\",\"key\":\"23b9b239ba34c26a0dd9a438adb5025b\"}'}"
            ]
          },
          "execution_count": 6,
          "metadata": {},
          "output_type": "execute_result"
        }
      ],
      "source": [
        "# Import kaggle API token\n",
        "from google.colab import files\n",
        "files.upload()"
      ]
    },
    {
      "cell_type": "code",
      "execution_count": null,
      "metadata": {
        "id": "alX6ZJUriOVs"
      },
      "outputs": [],
      "source": [
        "# Activate kaggle token\n",
        "!mkdir ~/.kaggle\n",
        "!cp kaggle.json ~/.kaggle/\n",
        "!chmod 600 ~/.kaggle/kaggle.json"
      ]
    },
    {
      "cell_type": "code",
      "execution_count": null,
      "metadata": {
        "colab": {
          "base_uri": "https://localhost:8080/"
        },
        "id": "ET-VcKLHiqwP",
        "outputId": "3e843f16-6ce7-488d-c207-adf4c084a00a"
      },
      "outputs": [
        {
          "name": "stdout",
          "output_type": "stream",
          "text": [
            "Downloading fake-news-dataset-combined-different-sources.zip to /content\n",
            " 91% 73.0M/80.3M [00:01<00:00, 57.7MB/s]\n",
            "100% 80.3M/80.3M [00:01<00:00, 66.7MB/s]\n"
          ]
        }
      ],
      "source": [
        "# Download dataset as zip\n",
        "!kaggle datasets download mohammadaflahkhan/fake-news-dataset-combined-different-sources"
      ]
    },
    {
      "cell_type": "code",
      "execution_count": null,
      "metadata": {
        "colab": {
          "base_uri": "https://localhost:8080/"
        },
        "id": "8AegQmfyjRAB",
        "outputId": "24622655-30f9-435d-9c2f-a9b65a2431a3"
      },
      "outputs": [
        {
          "name": "stdout",
          "output_type": "stream",
          "text": [
            "Archive:  fake-news-dataset-combined-different-sources.zip\n",
            "  inflating: data/PreProcessedData.csv  \n"
          ]
        }
      ],
      "source": [
        "!mkdir data\n",
        "!unzip fake-news-dataset-combined-different-sources.zip -d data\n",
        "!mv ./data/PreProcessedData.csv ./data/RawKaggleData.csv"
      ]
    },
    {
      "cell_type": "markdown",
      "metadata": {
        "id": "4bv-NSSEj1EW"
      },
      "source": [
        "## Data - first look"
      ]
    },
    {
      "cell_type": "code",
      "execution_count": null,
      "metadata": {
        "id": "2U8FLjZlj0r8"
      },
      "outputs": [],
      "source": [
        "# Load dataset\n",
        "df = pd.read_csv(\"./data/RawKaggleData.csv\")"
      ]
    },
    {
      "cell_type": "code",
      "execution_count": null,
      "metadata": {
        "colab": {
          "base_uri": "https://localhost:8080/"
        },
        "id": "zA0INUUIjmi5",
        "outputId": "d8781358-8385-490f-a30f-186052f719af"
      },
      "outputs": [
        {
          "data": {
            "text/plain": [
              "Index(['Unnamed: 0', 'title', 'text', 'Ground Label'], dtype='object')"
            ]
          },
          "execution_count": 11,
          "metadata": {},
          "output_type": "execute_result"
        }
      ],
      "source": [
        "df.columns"
      ]
    },
    {
      "cell_type": "code",
      "execution_count": null,
      "metadata": {
        "colab": {
          "base_uri": "https://localhost:8080/"
        },
        "id": "Dx63y1yJrzhb",
        "outputId": "e08444a2-c7c5-4d95-b769-ef1168bf66d5"
      },
      "outputs": [
        {
          "data": {
            "text/plain": [
              "69045"
            ]
          },
          "execution_count": 12,
          "metadata": {},
          "output_type": "execute_result"
        }
      ],
      "source": [
        "len(df)"
      ]
    },
    {
      "cell_type": "code",
      "execution_count": null,
      "metadata": {
        "colab": {
          "base_uri": "https://localhost:8080/",
          "height": 206
        },
        "id": "ILCn-XXrk9H3",
        "outputId": "6eedab7a-123e-40a4-ee37-be9b6a0d1f5e"
      },
      "outputs": [
        {
          "data": {
            "text/html": [
              "\n",
              "  <div id=\"df-b1e5c950-2eff-48e1-abb6-d7def74112e2\">\n",
              "    <div class=\"colab-df-container\">\n",
              "      <div>\n",
              "<style scoped>\n",
              "    .dataframe tbody tr th:only-of-type {\n",
              "        vertical-align: middle;\n",
              "    }\n",
              "\n",
              "    .dataframe tbody tr th {\n",
              "        vertical-align: top;\n",
              "    }\n",
              "\n",
              "    .dataframe thead th {\n",
              "        text-align: right;\n",
              "    }\n",
              "</style>\n",
              "<table border=\"1\" class=\"dataframe\">\n",
              "  <thead>\n",
              "    <tr style=\"text-align: right;\">\n",
              "      <th></th>\n",
              "      <th>Unnamed: 0</th>\n",
              "      <th>title</th>\n",
              "      <th>text</th>\n",
              "      <th>Ground Label</th>\n",
              "    </tr>\n",
              "  </thead>\n",
              "  <tbody>\n",
              "    <tr>\n",
              "      <th>0</th>\n",
              "      <td>0</td>\n",
              "      <td>Ann Coulter Make Believes She Has ‘Gay Friend...</td>\n",
              "      <td>It s hard to believe, but Donald Trump does ha...</td>\n",
              "      <td>fake</td>\n",
              "    </tr>\n",
              "    <tr>\n",
              "      <th>1</th>\n",
              "      <td>1</td>\n",
              "      <td>Rating: Moody‘s verbessert Ausblick für Russla...</td>\n",
              "      <td>bankensektor Der russische Staat werde die Ban...</td>\n",
              "      <td>fake</td>\n",
              "    </tr>\n",
              "    <tr>\n",
              "      <th>2</th>\n",
              "      <td>2</td>\n",
              "      <td>CAN WE ADD DIRTY MONEY ‘LAUNDERING’ To The Oba...</td>\n",
              "      <td>A member of the House Intelligence Committee i...</td>\n",
              "      <td>fake</td>\n",
              "    </tr>\n",
              "    <tr>\n",
              "      <th>3</th>\n",
              "      <td>3</td>\n",
              "      <td>Republicans on Obamacare repeal: 'We're going ...</td>\n",
              "      <td>WASHINGTON (Reuters) - House of Representative...</td>\n",
              "      <td>true</td>\n",
              "    </tr>\n",
              "    <tr>\n",
              "      <th>4</th>\n",
              "      <td>4</td>\n",
              "      <td>Trump, on possible DACA deal, says border wall...</td>\n",
              "      <td>WASHINGTON (Reuters) - U.S. President Donald T...</td>\n",
              "      <td>true</td>\n",
              "    </tr>\n",
              "  </tbody>\n",
              "</table>\n",
              "</div>\n",
              "      <button class=\"colab-df-convert\" onclick=\"convertToInteractive('df-b1e5c950-2eff-48e1-abb6-d7def74112e2')\"\n",
              "              title=\"Convert this dataframe to an interactive table.\"\n",
              "              style=\"display:none;\">\n",
              "        \n",
              "  <svg xmlns=\"http://www.w3.org/2000/svg\" height=\"24px\"viewBox=\"0 0 24 24\"\n",
              "       width=\"24px\">\n",
              "    <path d=\"M0 0h24v24H0V0z\" fill=\"none\"/>\n",
              "    <path d=\"M18.56 5.44l.94 2.06.94-2.06 2.06-.94-2.06-.94-.94-2.06-.94 2.06-2.06.94zm-11 1L8.5 8.5l.94-2.06 2.06-.94-2.06-.94L8.5 2.5l-.94 2.06-2.06.94zm10 10l.94 2.06.94-2.06 2.06-.94-2.06-.94-.94-2.06-.94 2.06-2.06.94z\"/><path d=\"M17.41 7.96l-1.37-1.37c-.4-.4-.92-.59-1.43-.59-.52 0-1.04.2-1.43.59L10.3 9.45l-7.72 7.72c-.78.78-.78 2.05 0 2.83L4 21.41c.39.39.9.59 1.41.59.51 0 1.02-.2 1.41-.59l7.78-7.78 2.81-2.81c.8-.78.8-2.07 0-2.86zM5.41 20L4 18.59l7.72-7.72 1.47 1.35L5.41 20z\"/>\n",
              "  </svg>\n",
              "      </button>\n",
              "      \n",
              "  <style>\n",
              "    .colab-df-container {\n",
              "      display:flex;\n",
              "      flex-wrap:wrap;\n",
              "      gap: 12px;\n",
              "    }\n",
              "\n",
              "    .colab-df-convert {\n",
              "      background-color: #E8F0FE;\n",
              "      border: none;\n",
              "      border-radius: 50%;\n",
              "      cursor: pointer;\n",
              "      display: none;\n",
              "      fill: #1967D2;\n",
              "      height: 32px;\n",
              "      padding: 0 0 0 0;\n",
              "      width: 32px;\n",
              "    }\n",
              "\n",
              "    .colab-df-convert:hover {\n",
              "      background-color: #E2EBFA;\n",
              "      box-shadow: 0px 1px 2px rgba(60, 64, 67, 0.3), 0px 1px 3px 1px rgba(60, 64, 67, 0.15);\n",
              "      fill: #174EA6;\n",
              "    }\n",
              "\n",
              "    [theme=dark] .colab-df-convert {\n",
              "      background-color: #3B4455;\n",
              "      fill: #D2E3FC;\n",
              "    }\n",
              "\n",
              "    [theme=dark] .colab-df-convert:hover {\n",
              "      background-color: #434B5C;\n",
              "      box-shadow: 0px 1px 3px 1px rgba(0, 0, 0, 0.15);\n",
              "      filter: drop-shadow(0px 1px 2px rgba(0, 0, 0, 0.3));\n",
              "      fill: #FFFFFF;\n",
              "    }\n",
              "  </style>\n",
              "\n",
              "      <script>\n",
              "        const buttonEl =\n",
              "          document.querySelector('#df-b1e5c950-2eff-48e1-abb6-d7def74112e2 button.colab-df-convert');\n",
              "        buttonEl.style.display =\n",
              "          google.colab.kernel.accessAllowed ? 'block' : 'none';\n",
              "\n",
              "        async function convertToInteractive(key) {\n",
              "          const element = document.querySelector('#df-b1e5c950-2eff-48e1-abb6-d7def74112e2');\n",
              "          const dataTable =\n",
              "            await google.colab.kernel.invokeFunction('convertToInteractive',\n",
              "                                                     [key], {});\n",
              "          if (!dataTable) return;\n",
              "\n",
              "          const docLinkHtml = 'Like what you see? Visit the ' +\n",
              "            '<a target=\"_blank\" href=https://colab.research.google.com/notebooks/data_table.ipynb>data table notebook</a>'\n",
              "            + ' to learn more about interactive tables.';\n",
              "          element.innerHTML = '';\n",
              "          dataTable['output_type'] = 'display_data';\n",
              "          await google.colab.output.renderOutput(dataTable, element);\n",
              "          const docLink = document.createElement('div');\n",
              "          docLink.innerHTML = docLinkHtml;\n",
              "          element.appendChild(docLink);\n",
              "        }\n",
              "      </script>\n",
              "    </div>\n",
              "  </div>\n",
              "  "
            ],
            "text/plain": [
              "   Unnamed: 0                                              title  \\\n",
              "0           0   Ann Coulter Make Believes She Has ‘Gay Friend...   \n",
              "1           1  Rating: Moody‘s verbessert Ausblick für Russla...   \n",
              "2           2  CAN WE ADD DIRTY MONEY ‘LAUNDERING’ To The Oba...   \n",
              "3           3  Republicans on Obamacare repeal: 'We're going ...   \n",
              "4           4  Trump, on possible DACA deal, says border wall...   \n",
              "\n",
              "                                                text Ground Label  \n",
              "0  It s hard to believe, but Donald Trump does ha...         fake  \n",
              "1  bankensektor Der russische Staat werde die Ban...         fake  \n",
              "2  A member of the House Intelligence Committee i...         fake  \n",
              "3  WASHINGTON (Reuters) - House of Representative...         true  \n",
              "4  WASHINGTON (Reuters) - U.S. President Donald T...         true  "
            ]
          },
          "execution_count": 13,
          "metadata": {},
          "output_type": "execute_result"
        }
      ],
      "source": [
        "df.head()"
      ]
    },
    {
      "cell_type": "markdown",
      "metadata": {
        "id": "zqMN-XP0v4ng"
      },
      "source": [
        "## Data split for model training / work validation"
      ]
    },
    {
      "cell_type": "code",
      "execution_count": null,
      "metadata": {
        "id": "W7K3csosv4Sc"
      },
      "outputs": [],
      "source": [
        "df_train, df_validation = train_test_split(df, test_size=0.30, random_state=33)"
      ]
    },
    {
      "cell_type": "code",
      "execution_count": null,
      "metadata": {
        "id": "1dTkvwLLv1ov"
      },
      "outputs": [],
      "source": [
        "df_train.to_csv(\"fakenews-data-train.csv\")\n",
        "df_validation.to_csv(\"fakenews-data-validation.csv\")"
      ]
    },
    {
      "cell_type": "code",
      "execution_count": null,
      "metadata": {
        "colab": {
          "base_uri": "https://localhost:8080/"
        },
        "id": "-WmWs5VFwi51",
        "outputId": "da82bf65-97ba-419b-95fc-dca1b293d3ae"
      },
      "outputs": [
        {
          "name": "stdout",
          "output_type": "stream",
          "text": [
            "e32c170a929b4b49bf2c113032d011ee1c6a477a8d221994fbf2e7489eb74436  ./fakenews-data-train.csv\n",
            "7b3ddf8388182b88ae9bab095b1c1ab762c85a3ff10b0720a2a64a5bebe46524  ./fakenews-data-validation.csv\n"
          ]
        }
      ],
      "source": [
        "!sha256sum ./fakenews-data-train.csv\n",
        "!sha256sum ./fakenews-data-validation.csv"
      ]
    },
    {
      "cell_type": "markdown",
      "metadata": {
        "id": "5HeUIqGnxJ7M"
      },
      "source": [
        "### SHA256SUM hash\n",
        "e32c170a929b4b49bf2c113032d011ee1c6a477a8d221994fbf2e7489eb74436  ./fakenews-data-train.csv\n",
        "7b3ddf8388182b88ae9bab095b1c1ab762c85a3ff10b0720a2a64a5bebe46524  ./fakenews-data-validation.csv"
      ]
    },
    {
      "cell_type": "markdown",
      "metadata": {
        "id": "kcn8BaVGw22d"
      },
      "source": [
        "## Download sample from GitHub\n",
        "\n",
        "Samples:\n",
        "  - Train: https://github.com/ZetrextJG/MLProject1_FakeNewsDetection/raw/main/fakenews-data-train.zip\n",
        "  - Test: https://github.com/ZetrextJG/MLProject1_FakeNewsDetection/raw/main/fakenews-data-validation.zip\n",
        "\n",
        "We as the training team will use the training sample. And leave the test sample untouched."
      ]
    },
    {
      "cell_type": "code",
      "execution_count": null,
      "metadata": {
        "colab": {
          "base_uri": "https://localhost:8080/"
        },
        "id": "geiuRddlyNdz",
        "outputId": "7070d0c8-2240-494a-fa44-bb77dba18947"
      },
      "outputs": [
        {
          "name": "stdout",
          "output_type": "stream",
          "text": [
            "--2023-03-26 12:47:06--  https://github.com/ZetrextJG/MLProject1_FakeNewsDetection/raw/main/fakenews-data-train.zip\n",
            "Resolving github.com (github.com)... 140.82.114.4\n",
            "Connecting to github.com (github.com)|140.82.114.4|:443... connected.\n",
            "HTTP request sent, awaiting response... 302 Found\n",
            "Location: https://raw.githubusercontent.com/ZetrextJG/MLProject1_FakeNewsDetection/main/fakenews-data-train.zip [following]\n",
            "--2023-03-26 12:47:06--  https://raw.githubusercontent.com/ZetrextJG/MLProject1_FakeNewsDetection/main/fakenews-data-train.zip\n",
            "Resolving raw.githubusercontent.com (raw.githubusercontent.com)... 185.199.108.133, 185.199.109.133, 185.199.110.133, ...\n",
            "Connecting to raw.githubusercontent.com (raw.githubusercontent.com)|185.199.108.133|:443... connected.\n",
            "HTTP request sent, awaiting response... 200 OK\n",
            "Length: 58482753 (56M) [application/zip]\n",
            "Saving to: ‘fakenews-data-train.zip’\n",
            "\n",
            "fakenews-data-train 100%[===================>]  55.77M   137MB/s    in 0.4s    \n",
            "\n",
            "2023-03-26 12:47:08 (137 MB/s) - ‘fakenews-data-train.zip’ saved [58482753/58482753]\n",
            "\n",
            "Archive:  fakenews-data-train.zip\n",
            "  inflating: data/fakenews-data-train.csv  \n"
          ]
        }
      ],
      "source": [
        "!wget https://github.com/ZetrextJG/MLProject1_FakeNewsDetection/raw/main/fakenews-data-train.zip && unzip -d data fakenews-data-train.zip"
      ]
    },
    {
      "cell_type": "markdown",
      "metadata": {
        "id": "BhnTLRc7zVNl"
      },
      "source": [
        "### Chech downloaded file using sha256sum hash"
      ]
    },
    {
      "cell_type": "code",
      "execution_count": null,
      "metadata": {
        "colab": {
          "base_uri": "https://localhost:8080/"
        },
        "id": "xYBJTBq9zOOZ",
        "outputId": "4b20eeec-176f-4b5b-c798-db20a8b77e77"
      },
      "outputs": [
        {
          "name": "stdout",
          "output_type": "stream",
          "text": [
            "e32c170a929b4b49bf2c113032d011ee1c6a477a8d221994fbf2e7489eb74436  ./data/fakenews-data-train.csv\n"
          ]
        }
      ],
      "source": [
        "!sha256sum ./data/fakenews-data-train.csv"
      ]
    },
    {
      "cell_type": "markdown",
      "metadata": {
        "id": "PAmXemtWzcLn"
      },
      "source": [
        "## Data preprocessing"
      ]
    },
    {
      "cell_type": "code",
      "execution_count": null,
      "metadata": {
        "id": "NHaxCIgbzfQF"
      },
      "outputs": [],
      "source": [
        "# Load our data sample\n",
        "df = pd.read_csv(\"data/fakenews-data-train.csv\")"
      ]
    },
    {
      "cell_type": "code",
      "execution_count": null,
      "metadata": {
        "colab": {
          "base_uri": "https://localhost:8080/"
        },
        "id": "9m-TQc580K3O",
        "outputId": "90188741-9518-4769-cbf6-a97a6071c881"
      },
      "outputs": [
        {
          "data": {
            "text/plain": [
              "Index(['Unnamed: 0.1', 'Unnamed: 0', 'title', 'text', 'Ground Label'], dtype='object')"
            ]
          },
          "execution_count": 20,
          "metadata": {},
          "output_type": "execute_result"
        }
      ],
      "source": [
        "df.columns"
      ]
    },
    {
      "cell_type": "code",
      "execution_count": null,
      "metadata": {
        "colab": {
          "base_uri": "https://localhost:8080/"
        },
        "id": "MDGLGozY0NNX",
        "outputId": "81b0e904-a040-4b8d-e647-7aaa17396bf2"
      },
      "outputs": [
        {
          "data": {
            "text/plain": [
              "48331"
            ]
          },
          "execution_count": 21,
          "metadata": {},
          "output_type": "execute_result"
        }
      ],
      "source": [
        "len(df)"
      ]
    },
    {
      "cell_type": "code",
      "execution_count": null,
      "metadata": {
        "colab": {
          "base_uri": "https://localhost:8080/"
        },
        "id": "R4chKKmqz9qT",
        "outputId": "7464c0f4-be4a-40b6-ef7a-178e3108d57e"
      },
      "outputs": [
        {
          "name": "stdout",
          "output_type": "stream",
          "text": [
            "<class 'pandas.core.frame.DataFrame'>\n",
            "RangeIndex: 48331 entries, 0 to 48330\n",
            "Data columns (total 5 columns):\n",
            " #   Column        Non-Null Count  Dtype \n",
            "---  ------        --------------  ----- \n",
            " 0   Unnamed: 0.1  48331 non-null  int64 \n",
            " 1   Unnamed: 0    48331 non-null  int64 \n",
            " 2   title         47844 non-null  object\n",
            " 3   text          48282 non-null  object\n",
            " 4   Ground Label  48331 non-null  object\n",
            "dtypes: int64(2), object(3)\n",
            "memory usage: 1.8+ MB\n"
          ]
        }
      ],
      "source": [
        "df.info()"
      ]
    },
    {
      "cell_type": "code",
      "execution_count": null,
      "metadata": {
        "id": "kVR6EJH00Kei"
      },
      "outputs": [],
      "source": [
        "# Remove Unnamed columns as they are a residue from previous indicies\n",
        "df = df.loc[:, ~df.columns.str.contains('^Unnamed')]\n",
        "# Convert title, text, Ground Label columns to type of string\n",
        "df = df.astype({\n",
        "    \"title\": \"string\",\n",
        "    \"text\": \"string\",\n",
        "    \"Ground Label\": \"string\"\n",
        "})"
      ]
    },
    {
      "cell_type": "code",
      "execution_count": null,
      "metadata": {
        "colab": {
          "base_uri": "https://localhost:8080/"
        },
        "id": "NcJ5xs4v10Sw",
        "outputId": "c5f93ded-9dab-428e-85a8-f479bd721c03"
      },
      "outputs": [
        {
          "name": "stdout",
          "output_type": "stream",
          "text": [
            "<class 'pandas.core.frame.DataFrame'>\n",
            "RangeIndex: 48331 entries, 0 to 48330\n",
            "Data columns (total 3 columns):\n",
            " #   Column        Non-Null Count  Dtype \n",
            "---  ------        --------------  ----- \n",
            " 0   title         47844 non-null  string\n",
            " 1   text          48282 non-null  string\n",
            " 2   Ground Label  48331 non-null  string\n",
            "dtypes: string(3)\n",
            "memory usage: 1.1 MB\n"
          ]
        }
      ],
      "source": [
        "df.info()"
      ]
    },
    {
      "cell_type": "code",
      "execution_count": null,
      "metadata": {
        "colab": {
          "base_uri": "https://localhost:8080/"
        },
        "id": "CupJ9S7c1_35",
        "outputId": "41aca36a-eead-4218-bbef-db04db0ae445"
      },
      "outputs": [
        {
          "data": {
            "text/plain": [
              "title           487\n",
              "text             49\n",
              "Ground Label      0\n",
              "dtype: int64"
            ]
          },
          "execution_count": 25,
          "metadata": {},
          "output_type": "execute_result"
        }
      ],
      "source": [
        "df.isna().sum()"
      ]
    },
    {
      "cell_type": "code",
      "execution_count": null,
      "metadata": {
        "colab": {
          "base_uri": "https://localhost:8080/",
          "height": 49
        },
        "id": "Tg-6aNTS2ELw",
        "outputId": "1682d62b-3bc7-47bb-add9-de215aac66c9"
      },
      "outputs": [
        {
          "data": {
            "text/html": [
              "\n",
              "  <div id=\"df-39acf10a-4494-48cc-897a-496cc25fb80d\">\n",
              "    <div class=\"colab-df-container\">\n",
              "      <div>\n",
              "<style scoped>\n",
              "    .dataframe tbody tr th:only-of-type {\n",
              "        vertical-align: middle;\n",
              "    }\n",
              "\n",
              "    .dataframe tbody tr th {\n",
              "        vertical-align: top;\n",
              "    }\n",
              "\n",
              "    .dataframe thead th {\n",
              "        text-align: right;\n",
              "    }\n",
              "</style>\n",
              "<table border=\"1\" class=\"dataframe\">\n",
              "  <thead>\n",
              "    <tr style=\"text-align: right;\">\n",
              "      <th></th>\n",
              "      <th>title</th>\n",
              "      <th>text</th>\n",
              "      <th>Ground Label</th>\n",
              "    </tr>\n",
              "  </thead>\n",
              "  <tbody>\n",
              "  </tbody>\n",
              "</table>\n",
              "</div>\n",
              "      <button class=\"colab-df-convert\" onclick=\"convertToInteractive('df-39acf10a-4494-48cc-897a-496cc25fb80d')\"\n",
              "              title=\"Convert this dataframe to an interactive table.\"\n",
              "              style=\"display:none;\">\n",
              "        \n",
              "  <svg xmlns=\"http://www.w3.org/2000/svg\" height=\"24px\"viewBox=\"0 0 24 24\"\n",
              "       width=\"24px\">\n",
              "    <path d=\"M0 0h24v24H0V0z\" fill=\"none\"/>\n",
              "    <path d=\"M18.56 5.44l.94 2.06.94-2.06 2.06-.94-2.06-.94-.94-2.06-.94 2.06-2.06.94zm-11 1L8.5 8.5l.94-2.06 2.06-.94-2.06-.94L8.5 2.5l-.94 2.06-2.06.94zm10 10l.94 2.06.94-2.06 2.06-.94-2.06-.94-.94-2.06-.94 2.06-2.06.94z\"/><path d=\"M17.41 7.96l-1.37-1.37c-.4-.4-.92-.59-1.43-.59-.52 0-1.04.2-1.43.59L10.3 9.45l-7.72 7.72c-.78.78-.78 2.05 0 2.83L4 21.41c.39.39.9.59 1.41.59.51 0 1.02-.2 1.41-.59l7.78-7.78 2.81-2.81c.8-.78.8-2.07 0-2.86zM5.41 20L4 18.59l7.72-7.72 1.47 1.35L5.41 20z\"/>\n",
              "  </svg>\n",
              "      </button>\n",
              "      \n",
              "  <style>\n",
              "    .colab-df-container {\n",
              "      display:flex;\n",
              "      flex-wrap:wrap;\n",
              "      gap: 12px;\n",
              "    }\n",
              "\n",
              "    .colab-df-convert {\n",
              "      background-color: #E8F0FE;\n",
              "      border: none;\n",
              "      border-radius: 50%;\n",
              "      cursor: pointer;\n",
              "      display: none;\n",
              "      fill: #1967D2;\n",
              "      height: 32px;\n",
              "      padding: 0 0 0 0;\n",
              "      width: 32px;\n",
              "    }\n",
              "\n",
              "    .colab-df-convert:hover {\n",
              "      background-color: #E2EBFA;\n",
              "      box-shadow: 0px 1px 2px rgba(60, 64, 67, 0.3), 0px 1px 3px 1px rgba(60, 64, 67, 0.15);\n",
              "      fill: #174EA6;\n",
              "    }\n",
              "\n",
              "    [theme=dark] .colab-df-convert {\n",
              "      background-color: #3B4455;\n",
              "      fill: #D2E3FC;\n",
              "    }\n",
              "\n",
              "    [theme=dark] .colab-df-convert:hover {\n",
              "      background-color: #434B5C;\n",
              "      box-shadow: 0px 1px 3px 1px rgba(0, 0, 0, 0.15);\n",
              "      filter: drop-shadow(0px 1px 2px rgba(0, 0, 0, 0.3));\n",
              "      fill: #FFFFFF;\n",
              "    }\n",
              "  </style>\n",
              "\n",
              "      <script>\n",
              "        const buttonEl =\n",
              "          document.querySelector('#df-39acf10a-4494-48cc-897a-496cc25fb80d button.colab-df-convert');\n",
              "        buttonEl.style.display =\n",
              "          google.colab.kernel.accessAllowed ? 'block' : 'none';\n",
              "\n",
              "        async function convertToInteractive(key) {\n",
              "          const element = document.querySelector('#df-39acf10a-4494-48cc-897a-496cc25fb80d');\n",
              "          const dataTable =\n",
              "            await google.colab.kernel.invokeFunction('convertToInteractive',\n",
              "                                                     [key], {});\n",
              "          if (!dataTable) return;\n",
              "\n",
              "          const docLinkHtml = 'Like what you see? Visit the ' +\n",
              "            '<a target=\"_blank\" href=https://colab.research.google.com/notebooks/data_table.ipynb>data table notebook</a>'\n",
              "            + ' to learn more about interactive tables.';\n",
              "          element.innerHTML = '';\n",
              "          dataTable['output_type'] = 'display_data';\n",
              "          await google.colab.output.renderOutput(dataTable, element);\n",
              "          const docLink = document.createElement('div');\n",
              "          docLink.innerHTML = docLinkHtml;\n",
              "          element.appendChild(docLink);\n",
              "        }\n",
              "      </script>\n",
              "    </div>\n",
              "  </div>\n",
              "  "
            ],
            "text/plain": [
              "Empty DataFrame\n",
              "Columns: [title, text, Ground Label]\n",
              "Index: []"
            ]
          },
          "execution_count": 26,
          "metadata": {},
          "output_type": "execute_result"
        }
      ],
      "source": [
        "df[df[\"title\"].isna() & df[\"text\"].isna()]"
      ]
    },
    {
      "cell_type": "markdown",
      "metadata": {
        "id": "gyUn0jWn3EPp"
      },
      "source": [
        "Sources include at least one column from \"title\" and \"text\""
      ]
    },
    {
      "cell_type": "code",
      "execution_count": null,
      "metadata": {
        "colab": {
          "base_uri": "https://localhost:8080/",
          "height": 206
        },
        "id": "DQcgdYKS2LsC",
        "outputId": "1d8355f6-4621-4c4c-d2fb-ae0090dcd548"
      },
      "outputs": [
        {
          "data": {
            "text/html": [
              "\n",
              "  <div id=\"df-186976b4-9b68-412d-9868-b0551a359dd9\">\n",
              "    <div class=\"colab-df-container\">\n",
              "      <div>\n",
              "<style scoped>\n",
              "    .dataframe tbody tr th:only-of-type {\n",
              "        vertical-align: middle;\n",
              "    }\n",
              "\n",
              "    .dataframe tbody tr th {\n",
              "        vertical-align: top;\n",
              "    }\n",
              "\n",
              "    .dataframe thead th {\n",
              "        text-align: right;\n",
              "    }\n",
              "</style>\n",
              "<table border=\"1\" class=\"dataframe\">\n",
              "  <thead>\n",
              "    <tr style=\"text-align: right;\">\n",
              "      <th></th>\n",
              "      <th>title</th>\n",
              "      <th>text</th>\n",
              "      <th>Ground Label</th>\n",
              "    </tr>\n",
              "  </thead>\n",
              "  <tbody>\n",
              "    <tr>\n",
              "      <th>1320</th>\n",
              "      <td>Gorafi Magazine : Entretien exclusif avec Bara...</td>\n",
              "      <td>&lt;NA&gt;</td>\n",
              "      <td>fake</td>\n",
              "    </tr>\n",
              "    <tr>\n",
              "      <th>3613</th>\n",
              "      <td>“Notre batal a coulé” par l’homme qui fait des...</td>\n",
              "      <td>&lt;NA&gt;</td>\n",
              "      <td>fake</td>\n",
              "    </tr>\n",
              "    <tr>\n",
              "      <th>4709</th>\n",
              "      <td>Elections US : les premières estimations donne...</td>\n",
              "      <td>&lt;NA&gt;</td>\n",
              "      <td>fake</td>\n",
              "    </tr>\n",
              "    <tr>\n",
              "      <th>7982</th>\n",
              "      <td>Why Federalization In Syria And The Creation O...</td>\n",
              "      <td>&lt;NA&gt;</td>\n",
              "      <td>fake</td>\n",
              "    </tr>\n",
              "    <tr>\n",
              "      <th>8760</th>\n",
              "      <td>Ravens @ Raiders - Thursday</td>\n",
              "      <td>&lt;NA&gt;</td>\n",
              "      <td>fake</td>\n",
              "    </tr>\n",
              "  </tbody>\n",
              "</table>\n",
              "</div>\n",
              "      <button class=\"colab-df-convert\" onclick=\"convertToInteractive('df-186976b4-9b68-412d-9868-b0551a359dd9')\"\n",
              "              title=\"Convert this dataframe to an interactive table.\"\n",
              "              style=\"display:none;\">\n",
              "        \n",
              "  <svg xmlns=\"http://www.w3.org/2000/svg\" height=\"24px\"viewBox=\"0 0 24 24\"\n",
              "       width=\"24px\">\n",
              "    <path d=\"M0 0h24v24H0V0z\" fill=\"none\"/>\n",
              "    <path d=\"M18.56 5.44l.94 2.06.94-2.06 2.06-.94-2.06-.94-.94-2.06-.94 2.06-2.06.94zm-11 1L8.5 8.5l.94-2.06 2.06-.94-2.06-.94L8.5 2.5l-.94 2.06-2.06.94zm10 10l.94 2.06.94-2.06 2.06-.94-2.06-.94-.94-2.06-.94 2.06-2.06.94z\"/><path d=\"M17.41 7.96l-1.37-1.37c-.4-.4-.92-.59-1.43-.59-.52 0-1.04.2-1.43.59L10.3 9.45l-7.72 7.72c-.78.78-.78 2.05 0 2.83L4 21.41c.39.39.9.59 1.41.59.51 0 1.02-.2 1.41-.59l7.78-7.78 2.81-2.81c.8-.78.8-2.07 0-2.86zM5.41 20L4 18.59l7.72-7.72 1.47 1.35L5.41 20z\"/>\n",
              "  </svg>\n",
              "      </button>\n",
              "      \n",
              "  <style>\n",
              "    .colab-df-container {\n",
              "      display:flex;\n",
              "      flex-wrap:wrap;\n",
              "      gap: 12px;\n",
              "    }\n",
              "\n",
              "    .colab-df-convert {\n",
              "      background-color: #E8F0FE;\n",
              "      border: none;\n",
              "      border-radius: 50%;\n",
              "      cursor: pointer;\n",
              "      display: none;\n",
              "      fill: #1967D2;\n",
              "      height: 32px;\n",
              "      padding: 0 0 0 0;\n",
              "      width: 32px;\n",
              "    }\n",
              "\n",
              "    .colab-df-convert:hover {\n",
              "      background-color: #E2EBFA;\n",
              "      box-shadow: 0px 1px 2px rgba(60, 64, 67, 0.3), 0px 1px 3px 1px rgba(60, 64, 67, 0.15);\n",
              "      fill: #174EA6;\n",
              "    }\n",
              "\n",
              "    [theme=dark] .colab-df-convert {\n",
              "      background-color: #3B4455;\n",
              "      fill: #D2E3FC;\n",
              "    }\n",
              "\n",
              "    [theme=dark] .colab-df-convert:hover {\n",
              "      background-color: #434B5C;\n",
              "      box-shadow: 0px 1px 3px 1px rgba(0, 0, 0, 0.15);\n",
              "      filter: drop-shadow(0px 1px 2px rgba(0, 0, 0, 0.3));\n",
              "      fill: #FFFFFF;\n",
              "    }\n",
              "  </style>\n",
              "\n",
              "      <script>\n",
              "        const buttonEl =\n",
              "          document.querySelector('#df-186976b4-9b68-412d-9868-b0551a359dd9 button.colab-df-convert');\n",
              "        buttonEl.style.display =\n",
              "          google.colab.kernel.accessAllowed ? 'block' : 'none';\n",
              "\n",
              "        async function convertToInteractive(key) {\n",
              "          const element = document.querySelector('#df-186976b4-9b68-412d-9868-b0551a359dd9');\n",
              "          const dataTable =\n",
              "            await google.colab.kernel.invokeFunction('convertToInteractive',\n",
              "                                                     [key], {});\n",
              "          if (!dataTable) return;\n",
              "\n",
              "          const docLinkHtml = 'Like what you see? Visit the ' +\n",
              "            '<a target=\"_blank\" href=https://colab.research.google.com/notebooks/data_table.ipynb>data table notebook</a>'\n",
              "            + ' to learn more about interactive tables.';\n",
              "          element.innerHTML = '';\n",
              "          dataTable['output_type'] = 'display_data';\n",
              "          await google.colab.output.renderOutput(dataTable, element);\n",
              "          const docLink = document.createElement('div');\n",
              "          docLink.innerHTML = docLinkHtml;\n",
              "          element.appendChild(docLink);\n",
              "        }\n",
              "      </script>\n",
              "    </div>\n",
              "  </div>\n",
              "  "
            ],
            "text/plain": [
              "                                                  title  text Ground Label\n",
              "1320  Gorafi Magazine : Entretien exclusif avec Bara...  <NA>         fake\n",
              "3613  “Notre batal a coulé” par l’homme qui fait des...  <NA>         fake\n",
              "4709  Elections US : les premières estimations donne...  <NA>         fake\n",
              "7982  Why Federalization In Syria And The Creation O...  <NA>         fake\n",
              "8760                        Ravens @ Raiders - Thursday  <NA>         fake"
            ]
          },
          "execution_count": 27,
          "metadata": {},
          "output_type": "execute_result"
        }
      ],
      "source": [
        "no_text = df[df[\"text\"].isna()]\n",
        "no_text.head()"
      ]
    },
    {
      "cell_type": "code",
      "execution_count": null,
      "metadata": {
        "colab": {
          "base_uri": "https://localhost:8080/"
        },
        "id": "UaUiEIhI2dwB",
        "outputId": "10b6fcf8-db75-4a2a-c6ec-1920cc5aef01"
      },
      "outputs": [
        {
          "data": {
            "text/plain": [
              "count       49\n",
              "unique       2\n",
              "top       fake\n",
              "freq        48\n",
              "Name: Ground Label, dtype: object"
            ]
          },
          "execution_count": 28,
          "metadata": {},
          "output_type": "execute_result"
        }
      ],
      "source": [
        "no_text[\"Ground Label\"].describe()"
      ]
    },
    {
      "cell_type": "code",
      "execution_count": null,
      "metadata": {
        "colab": {
          "base_uri": "https://localhost:8080/"
        },
        "id": "4uopkAkI1lJL",
        "outputId": "b07fa508-5194-4d9b-926f-784a6d21be88"
      },
      "outputs": [
        {
          "data": {
            "text/plain": [
              "count     48331\n",
              "unique        2\n",
              "top        fake\n",
              "freq      29507\n",
              "Name: Ground Label, dtype: object"
            ]
          },
          "execution_count": 29,
          "metadata": {},
          "output_type": "execute_result"
        }
      ],
      "source": [
        "df[\"Ground Label\"].describe()"
      ]
    },
    {
      "cell_type": "markdown",
      "metadata": {
        "id": "7Cfx7Ox-2Uu_"
      },
      "source": [
        "Sources with no text are not a representative of the whole sample. Therefore we will remove them from our dataframe"
      ]
    },
    {
      "cell_type": "code",
      "execution_count": null,
      "metadata": {
        "id": "tBCAcmad3ZiE"
      },
      "outputs": [],
      "source": [
        "df = df.drop(no_text.index)"
      ]
    },
    {
      "cell_type": "code",
      "execution_count": null,
      "metadata": {
        "colab": {
          "base_uri": "https://localhost:8080/"
        },
        "id": "Ve__2ySP1LiY",
        "outputId": "b9408a56-2459-413e-d2bc-8403b6f20105"
      },
      "outputs": [
        {
          "data": {
            "text/plain": [
              "count                                                 47795\n",
              "unique                                                41953\n",
              "top       Factbox: Trump fills top jobs for his administ...\n",
              "freq                                                     13\n",
              "Name: title, dtype: object"
            ]
          },
          "execution_count": 31,
          "metadata": {},
          "output_type": "execute_result"
        }
      ],
      "source": [
        "df[\"title\"].describe()"
      ]
    },
    {
      "cell_type": "code",
      "execution_count": null,
      "metadata": {
        "colab": {
          "base_uri": "https://localhost:8080/"
        },
        "id": "T1ncFpbr0tA2",
        "outputId": "1dba125c-1d12-4ae3-bce2-02859d7686d9"
      },
      "outputs": [
        {
          "data": {
            "text/plain": [
              "count     48282\n",
              "unique    42291\n",
              "top            \n",
              "freq        524\n",
              "Name: text, dtype: object"
            ]
          },
          "execution_count": 32,
          "metadata": {},
          "output_type": "execute_result"
        }
      ],
      "source": [
        "df[\"text\"].describe()"
      ]
    },
    {
      "cell_type": "code",
      "execution_count": null,
      "metadata": {
        "colab": {
          "base_uri": "https://localhost:8080/",
          "height": 206
        },
        "id": "ARIETOvG1efR",
        "outputId": "ffbf8933-8084-431d-fe56-2c2d05e93e5f"
      },
      "outputs": [
        {
          "data": {
            "text/html": [
              "\n",
              "  <div id=\"df-c3741e22-57cd-42b0-bef4-717d60fab829\">\n",
              "    <div class=\"colab-df-container\">\n",
              "      <div>\n",
              "<style scoped>\n",
              "    .dataframe tbody tr th:only-of-type {\n",
              "        vertical-align: middle;\n",
              "    }\n",
              "\n",
              "    .dataframe tbody tr th {\n",
              "        vertical-align: top;\n",
              "    }\n",
              "\n",
              "    .dataframe thead th {\n",
              "        text-align: right;\n",
              "    }\n",
              "</style>\n",
              "<table border=\"1\" class=\"dataframe\">\n",
              "  <thead>\n",
              "    <tr style=\"text-align: right;\">\n",
              "      <th></th>\n",
              "      <th>text</th>\n",
              "      <th>Ground Label</th>\n",
              "    </tr>\n",
              "  </thead>\n",
              "  <tbody>\n",
              "    <tr>\n",
              "      <th>0</th>\n",
              "      <td>Isis Leader ‘hiding in Mosul’ as Troops Storm ...</td>\n",
              "      <td>fake</td>\n",
              "    </tr>\n",
              "    <tr>\n",
              "      <th>1</th>\n",
              "      <td>FORMER SPEAKER JOHN BOEHNER Goes Low…Calls Two...</td>\n",
              "      <td>fake</td>\n",
              "    </tr>\n",
              "    <tr>\n",
              "      <th>2</th>\n",
              "      <td>MH370 search: Debris found in Reunion may give...</td>\n",
              "      <td>true</td>\n",
              "    </tr>\n",
              "    <tr>\n",
              "      <th>3</th>\n",
              "      <td>A leading US senator: US Supporting War in Sy...</td>\n",
              "      <td>fake</td>\n",
              "    </tr>\n",
              "    <tr>\n",
              "      <th>4</th>\n",
              "      <td>Energy Update – Collective Gridwork Fluctuatio...</td>\n",
              "      <td>fake</td>\n",
              "    </tr>\n",
              "  </tbody>\n",
              "</table>\n",
              "</div>\n",
              "      <button class=\"colab-df-convert\" onclick=\"convertToInteractive('df-c3741e22-57cd-42b0-bef4-717d60fab829')\"\n",
              "              title=\"Convert this dataframe to an interactive table.\"\n",
              "              style=\"display:none;\">\n",
              "        \n",
              "  <svg xmlns=\"http://www.w3.org/2000/svg\" height=\"24px\"viewBox=\"0 0 24 24\"\n",
              "       width=\"24px\">\n",
              "    <path d=\"M0 0h24v24H0V0z\" fill=\"none\"/>\n",
              "    <path d=\"M18.56 5.44l.94 2.06.94-2.06 2.06-.94-2.06-.94-.94-2.06-.94 2.06-2.06.94zm-11 1L8.5 8.5l.94-2.06 2.06-.94-2.06-.94L8.5 2.5l-.94 2.06-2.06.94zm10 10l.94 2.06.94-2.06 2.06-.94-2.06-.94-.94-2.06-.94 2.06-2.06.94z\"/><path d=\"M17.41 7.96l-1.37-1.37c-.4-.4-.92-.59-1.43-.59-.52 0-1.04.2-1.43.59L10.3 9.45l-7.72 7.72c-.78.78-.78 2.05 0 2.83L4 21.41c.39.39.9.59 1.41.59.51 0 1.02-.2 1.41-.59l7.78-7.78 2.81-2.81c.8-.78.8-2.07 0-2.86zM5.41 20L4 18.59l7.72-7.72 1.47 1.35L5.41 20z\"/>\n",
              "  </svg>\n",
              "      </button>\n",
              "      \n",
              "  <style>\n",
              "    .colab-df-container {\n",
              "      display:flex;\n",
              "      flex-wrap:wrap;\n",
              "      gap: 12px;\n",
              "    }\n",
              "\n",
              "    .colab-df-convert {\n",
              "      background-color: #E8F0FE;\n",
              "      border: none;\n",
              "      border-radius: 50%;\n",
              "      cursor: pointer;\n",
              "      display: none;\n",
              "      fill: #1967D2;\n",
              "      height: 32px;\n",
              "      padding: 0 0 0 0;\n",
              "      width: 32px;\n",
              "    }\n",
              "\n",
              "    .colab-df-convert:hover {\n",
              "      background-color: #E2EBFA;\n",
              "      box-shadow: 0px 1px 2px rgba(60, 64, 67, 0.3), 0px 1px 3px 1px rgba(60, 64, 67, 0.15);\n",
              "      fill: #174EA6;\n",
              "    }\n",
              "\n",
              "    [theme=dark] .colab-df-convert {\n",
              "      background-color: #3B4455;\n",
              "      fill: #D2E3FC;\n",
              "    }\n",
              "\n",
              "    [theme=dark] .colab-df-convert:hover {\n",
              "      background-color: #434B5C;\n",
              "      box-shadow: 0px 1px 3px 1px rgba(0, 0, 0, 0.15);\n",
              "      filter: drop-shadow(0px 1px 2px rgba(0, 0, 0, 0.3));\n",
              "      fill: #FFFFFF;\n",
              "    }\n",
              "  </style>\n",
              "\n",
              "      <script>\n",
              "        const buttonEl =\n",
              "          document.querySelector('#df-c3741e22-57cd-42b0-bef4-717d60fab829 button.colab-df-convert');\n",
              "        buttonEl.style.display =\n",
              "          google.colab.kernel.accessAllowed ? 'block' : 'none';\n",
              "\n",
              "        async function convertToInteractive(key) {\n",
              "          const element = document.querySelector('#df-c3741e22-57cd-42b0-bef4-717d60fab829');\n",
              "          const dataTable =\n",
              "            await google.colab.kernel.invokeFunction('convertToInteractive',\n",
              "                                                     [key], {});\n",
              "          if (!dataTable) return;\n",
              "\n",
              "          const docLinkHtml = 'Like what you see? Visit the ' +\n",
              "            '<a target=\"_blank\" href=https://colab.research.google.com/notebooks/data_table.ipynb>data table notebook</a>'\n",
              "            + ' to learn more about interactive tables.';\n",
              "          element.innerHTML = '';\n",
              "          dataTable['output_type'] = 'display_data';\n",
              "          await google.colab.output.renderOutput(dataTable, element);\n",
              "          const docLink = document.createElement('div');\n",
              "          docLink.innerHTML = docLinkHtml;\n",
              "          element.appendChild(docLink);\n",
              "        }\n",
              "      </script>\n",
              "    </div>\n",
              "  </div>\n",
              "  "
            ],
            "text/plain": [
              "                                                text Ground Label\n",
              "0  Isis Leader ‘hiding in Mosul’ as Troops Storm ...         fake\n",
              "1  FORMER SPEAKER JOHN BOEHNER Goes Low…Calls Two...         fake\n",
              "2  MH370 search: Debris found in Reunion may give...         true\n",
              "3   A leading US senator: US Supporting War in Sy...         fake\n",
              "4  Energy Update – Collective Gridwork Fluctuatio...         fake"
            ]
          },
          "execution_count": 33,
          "metadata": {},
          "output_type": "execute_result"
        }
      ],
      "source": [
        "# Combine \"title\" column with \"text\". \n",
        "df[\"title\"] = df[\"title\"].fillna(\"\")\n",
        "df[\"text\"] = df[\"title\"] + \" \" + df[\"text\"]\n",
        "df = df.drop(columns=[\"title\"])\n",
        "df.head()"
      ]
    },
    {
      "cell_type": "code",
      "execution_count": null,
      "metadata": {
        "colab": {
          "base_uri": "https://localhost:8080/",
          "height": 206
        },
        "id": "jI-OfwM-4fpk",
        "outputId": "187aa7a4-1de3-4c5e-a0bd-3ef9bb4d4ec9"
      },
      "outputs": [
        {
          "data": {
            "text/html": [
              "\n",
              "  <div id=\"df-4979ac72-a052-4a2a-bb1d-41abf584d105\">\n",
              "    <div class=\"colab-df-container\">\n",
              "      <div>\n",
              "<style scoped>\n",
              "    .dataframe tbody tr th:only-of-type {\n",
              "        vertical-align: middle;\n",
              "    }\n",
              "\n",
              "    .dataframe tbody tr th {\n",
              "        vertical-align: top;\n",
              "    }\n",
              "\n",
              "    .dataframe thead th {\n",
              "        text-align: right;\n",
              "    }\n",
              "</style>\n",
              "<table border=\"1\" class=\"dataframe\">\n",
              "  <thead>\n",
              "    <tr style=\"text-align: right;\">\n",
              "      <th></th>\n",
              "      <th>text</th>\n",
              "      <th>real</th>\n",
              "    </tr>\n",
              "  </thead>\n",
              "  <tbody>\n",
              "    <tr>\n",
              "      <th>0</th>\n",
              "      <td>Isis Leader ‘hiding in Mosul’ as Troops Storm ...</td>\n",
              "      <td>0</td>\n",
              "    </tr>\n",
              "    <tr>\n",
              "      <th>1</th>\n",
              "      <td>FORMER SPEAKER JOHN BOEHNER Goes Low…Calls Two...</td>\n",
              "      <td>0</td>\n",
              "    </tr>\n",
              "    <tr>\n",
              "      <th>2</th>\n",
              "      <td>MH370 search: Debris found in Reunion may give...</td>\n",
              "      <td>1</td>\n",
              "    </tr>\n",
              "    <tr>\n",
              "      <th>3</th>\n",
              "      <td>A leading US senator: US Supporting War in Sy...</td>\n",
              "      <td>0</td>\n",
              "    </tr>\n",
              "    <tr>\n",
              "      <th>4</th>\n",
              "      <td>Energy Update – Collective Gridwork Fluctuatio...</td>\n",
              "      <td>0</td>\n",
              "    </tr>\n",
              "  </tbody>\n",
              "</table>\n",
              "</div>\n",
              "      <button class=\"colab-df-convert\" onclick=\"convertToInteractive('df-4979ac72-a052-4a2a-bb1d-41abf584d105')\"\n",
              "              title=\"Convert this dataframe to an interactive table.\"\n",
              "              style=\"display:none;\">\n",
              "        \n",
              "  <svg xmlns=\"http://www.w3.org/2000/svg\" height=\"24px\"viewBox=\"0 0 24 24\"\n",
              "       width=\"24px\">\n",
              "    <path d=\"M0 0h24v24H0V0z\" fill=\"none\"/>\n",
              "    <path d=\"M18.56 5.44l.94 2.06.94-2.06 2.06-.94-2.06-.94-.94-2.06-.94 2.06-2.06.94zm-11 1L8.5 8.5l.94-2.06 2.06-.94-2.06-.94L8.5 2.5l-.94 2.06-2.06.94zm10 10l.94 2.06.94-2.06 2.06-.94-2.06-.94-.94-2.06-.94 2.06-2.06.94z\"/><path d=\"M17.41 7.96l-1.37-1.37c-.4-.4-.92-.59-1.43-.59-.52 0-1.04.2-1.43.59L10.3 9.45l-7.72 7.72c-.78.78-.78 2.05 0 2.83L4 21.41c.39.39.9.59 1.41.59.51 0 1.02-.2 1.41-.59l7.78-7.78 2.81-2.81c.8-.78.8-2.07 0-2.86zM5.41 20L4 18.59l7.72-7.72 1.47 1.35L5.41 20z\"/>\n",
              "  </svg>\n",
              "      </button>\n",
              "      \n",
              "  <style>\n",
              "    .colab-df-container {\n",
              "      display:flex;\n",
              "      flex-wrap:wrap;\n",
              "      gap: 12px;\n",
              "    }\n",
              "\n",
              "    .colab-df-convert {\n",
              "      background-color: #E8F0FE;\n",
              "      border: none;\n",
              "      border-radius: 50%;\n",
              "      cursor: pointer;\n",
              "      display: none;\n",
              "      fill: #1967D2;\n",
              "      height: 32px;\n",
              "      padding: 0 0 0 0;\n",
              "      width: 32px;\n",
              "    }\n",
              "\n",
              "    .colab-df-convert:hover {\n",
              "      background-color: #E2EBFA;\n",
              "      box-shadow: 0px 1px 2px rgba(60, 64, 67, 0.3), 0px 1px 3px 1px rgba(60, 64, 67, 0.15);\n",
              "      fill: #174EA6;\n",
              "    }\n",
              "\n",
              "    [theme=dark] .colab-df-convert {\n",
              "      background-color: #3B4455;\n",
              "      fill: #D2E3FC;\n",
              "    }\n",
              "\n",
              "    [theme=dark] .colab-df-convert:hover {\n",
              "      background-color: #434B5C;\n",
              "      box-shadow: 0px 1px 3px 1px rgba(0, 0, 0, 0.15);\n",
              "      filter: drop-shadow(0px 1px 2px rgba(0, 0, 0, 0.3));\n",
              "      fill: #FFFFFF;\n",
              "    }\n",
              "  </style>\n",
              "\n",
              "      <script>\n",
              "        const buttonEl =\n",
              "          document.querySelector('#df-4979ac72-a052-4a2a-bb1d-41abf584d105 button.colab-df-convert');\n",
              "        buttonEl.style.display =\n",
              "          google.colab.kernel.accessAllowed ? 'block' : 'none';\n",
              "\n",
              "        async function convertToInteractive(key) {\n",
              "          const element = document.querySelector('#df-4979ac72-a052-4a2a-bb1d-41abf584d105');\n",
              "          const dataTable =\n",
              "            await google.colab.kernel.invokeFunction('convertToInteractive',\n",
              "                                                     [key], {});\n",
              "          if (!dataTable) return;\n",
              "\n",
              "          const docLinkHtml = 'Like what you see? Visit the ' +\n",
              "            '<a target=\"_blank\" href=https://colab.research.google.com/notebooks/data_table.ipynb>data table notebook</a>'\n",
              "            + ' to learn more about interactive tables.';\n",
              "          element.innerHTML = '';\n",
              "          dataTable['output_type'] = 'display_data';\n",
              "          await google.colab.output.renderOutput(dataTable, element);\n",
              "          const docLink = document.createElement('div');\n",
              "          docLink.innerHTML = docLinkHtml;\n",
              "          element.appendChild(docLink);\n",
              "        }\n",
              "      </script>\n",
              "    </div>\n",
              "  </div>\n",
              "  "
            ],
            "text/plain": [
              "                                                text  real\n",
              "0  Isis Leader ‘hiding in Mosul’ as Troops Storm ...     0\n",
              "1  FORMER SPEAKER JOHN BOEHNER Goes Low…Calls Two...     0\n",
              "2  MH370 search: Debris found in Reunion may give...     1\n",
              "3   A leading US senator: US Supporting War in Sy...     0\n",
              "4  Energy Update – Collective Gridwork Fluctuatio...     0"
            ]
          },
          "execution_count": 34,
          "metadata": {},
          "output_type": "execute_result"
        }
      ],
      "source": [
        "# Convert \"Ground Label\" to numeric column named \"real\"\n",
        "df = df.rename(columns={\"Ground Label\": \"real\"})\n",
        "df[\"real\"] = df[\"real\"].eq(\"true\").mul(1)\n",
        "df.head()"
      ]
    },
    {
      "cell_type": "markdown",
      "metadata": {
        "id": "vkKGMXx4AlEQ"
      },
      "source": [
        "### Language specific analysis\n",
        "While removing data with no \"text\" column we noticed that there is data containing words from languages other than English"
      ]
    },
    {
      "cell_type": "code",
      "execution_count": null,
      "metadata": {
        "colab": {
          "base_uri": "https://localhost:8080/"
        },
        "id": "YP_C2aHD4JLq",
        "outputId": "62e6b568-4d88-4963-f2e0-fbd4d23eac7f"
      },
      "outputs": [
        {
          "name": "stdout",
          "output_type": "stream",
          "text": [
            "Looking in indexes: https://pypi.org/simple, https://us-python.pkg.dev/colab-wheels/public/simple/\n",
            "Collecting langdetect\n",
            "  Downloading langdetect-1.0.9.tar.gz (981 kB)\n",
            "\u001b[2K     \u001b[90m━━━━━━━━━━━━━━━━━━━━━━━━━━━━━━━━━━━━━━\u001b[0m \u001b[32m981.5/981.5 KB\u001b[0m \u001b[31m16.9 MB/s\u001b[0m eta \u001b[36m0:00:00\u001b[0m\n",
            "\u001b[?25h  Preparing metadata (setup.py) ... \u001b[?25l\u001b[?25hdone\n",
            "Requirement already satisfied: six in /usr/local/lib/python3.9/dist-packages (from langdetect) (1.16.0)\n",
            "Building wheels for collected packages: langdetect\n",
            "  Building wheel for langdetect (setup.py) ... \u001b[?25l\u001b[?25hdone\n",
            "  Created wheel for langdetect: filename=langdetect-1.0.9-py3-none-any.whl size=993243 sha256=87540be626b039968ef34153a61fb9bc33b4436f2a5a9da1e550af41d7a2788e\n",
            "  Stored in directory: /root/.cache/pip/wheels/d1/c1/d9/7e068de779d863bc8f8fc9467d85e25cfe47fa5051fff1a1bb\n",
            "Successfully built langdetect\n",
            "Installing collected packages: langdetect\n",
            "Successfully installed langdetect-1.0.9\n"
          ]
        }
      ],
      "source": [
        "!pip install langdetect"
      ]
    },
    {
      "cell_type": "code",
      "execution_count": null,
      "metadata": {
        "colab": {
          "background_save": true,
          "base_uri": "https://localhost:8080/"
        },
        "id": "ql5mHza6ezUz",
        "outputId": "1ab9ef97-3146-45fa-e088-f5e45bdfadd8"
      },
      "outputs": [
        {
          "name": "stderr",
          "output_type": "stream",
          "text": [
            " 91%|█████████ | 43785/48282 [08:43<00:43, 103.79it/s]"
          ]
        }
      ],
      "source": [
        "from langdetect import detect\n",
        "\n",
        "langs = []\n",
        "for text in tqdm(df[\"text\"]):\n",
        "  try:\n",
        "    langs.append(detect(text))\n",
        "  except:\n",
        "    langs.append(np.nan)"
      ]
    },
    {
      "cell_type": "code",
      "execution_count": null,
      "metadata": {
        "id": "G530JBQQ8fii"
      },
      "outputs": [],
      "source": [
        "df[\"lang\"] = langs"
      ]
    },
    {
      "cell_type": "code",
      "execution_count": null,
      "metadata": {
        "id": "QtnrUquS5WyW"
      },
      "outputs": [],
      "source": [
        "# Save the first checkpoint of the data\n",
        "df.to_csv(\"data/train-checkpoint1.csv\", index=None)"
      ]
    },
    {
      "cell_type": "code",
      "execution_count": null,
      "metadata": {
        "id": "w1dbYACe_8as"
      },
      "outputs": [],
      "source": [
        "non_eng = df[(df[\"lang\"] != \"en\") & (~df[\"lang\"].isna())]\n",
        "non_eng"
      ]
    },
    {
      "cell_type": "code",
      "execution_count": null,
      "metadata": {
        "id": "hdpvI13s9EOj"
      },
      "outputs": [],
      "source": [
        "non_eng[\"real\"].describe()"
      ]
    },
    {
      "cell_type": "code",
      "execution_count": null,
      "metadata": {
        "id": "fGhgPSD5BErz"
      },
      "outputs": [],
      "source": [
        "len(non_eng)"
      ]
    },
    {
      "cell_type": "code",
      "execution_count": null,
      "metadata": {
        "id": "NjGAt3U4AdR2"
      },
      "outputs": [],
      "source": [
        "len(non_eng[non_eng[\"real\"] == 0])"
      ]
    },
    {
      "cell_type": "markdown",
      "metadata": {
        "id": "7qYcxmnq-RTd"
      },
      "source": [
        "As we can see, text in other languages is always labeled as \"fake\". But it is not a represantitive sample. So we should remove them"
      ]
    },
    {
      "cell_type": "code",
      "execution_count": null,
      "metadata": {
        "id": "uiQTyRpDraqC"
      },
      "outputs": [],
      "source": [
        "df = df.drop(non_eng.index)"
      ]
    },
    {
      "cell_type": "markdown",
      "metadata": {
        "id": "MirmZI6298SW"
      },
      "source": [
        "As the \"lang\" column contains only the \"en\" value we may drop it."
      ]
    },
    {
      "cell_type": "code",
      "execution_count": null,
      "metadata": {
        "id": "rx6cysFa-GPi"
      },
      "outputs": [],
      "source": [
        "df = df.drop(columns=[\"lang\"])\n",
        "df.info()"
      ]
    },
    {
      "cell_type": "markdown",
      "metadata": {
        "id": "JEgERyqo9yI5"
      },
      "source": [
        "### Checking for duplicates in text"
      ]
    },
    {
      "cell_type": "code",
      "execution_count": null,
      "metadata": {
        "id": "Qrr45bL1-OYo"
      },
      "outputs": [],
      "source": [
        "df[\"text\"].describe()"
      ]
    },
    {
      "cell_type": "code",
      "execution_count": null,
      "metadata": {
        "id": "Bq2QL_fatZzr"
      },
      "outputs": [],
      "source": [
        "# Remove duplicates\n",
        "df = df.drop_duplicates(\"text\")"
      ]
    },
    {
      "cell_type": "markdown",
      "metadata": {
        "id": "wwxHvrS0-nO5"
      },
      "source": [
        "### Check for real/fake distribution"
      ]
    },
    {
      "cell_type": "code",
      "execution_count": null,
      "metadata": {
        "id": "KSFHN_8vq1Th"
      },
      "outputs": [],
      "source": [
        "def display_distribution(df):\n",
        "  plt.figure(figsize=(10, 5))\n",
        "  plt.bar('Real News', len(df[df[\"real\"]==1]), color='orange')\n",
        "  plt.bar('Fake News', len(df[df[\"real\"]==0]), color='green')\n",
        "  plt.title('Distribution of Fake News and Real News', size=15)\n",
        "  plt.xlabel('News Type', size=15)\n",
        "  plt.ylabel('# of News Articles', size=15)\n",
        "\n",
        "  \n",
        "  plt.figure(figsize=(10, 5))\n",
        "  plt.bar('Real News', len(df[df[\"real\"]==1]) / len(df), color='orange')\n",
        "  plt.bar('Fake News', len(df[df[\"real\"]==0]) / len(df), color='green')\n",
        "  plt.title('Distribution of Fake News and Real News', size=15)\n",
        "  plt.xlabel('News Type', size=15)\n",
        "  plt.ylabel('Proportion of News Articles', size=15)"
      ]
    },
    {
      "cell_type": "code",
      "execution_count": null,
      "metadata": {
        "id": "oRKSQlMJlAgm"
      },
      "outputs": [],
      "source": [
        "# Plot Fake News / Real News\n",
        "display_distribution(df)"
      ]
    },
    {
      "cell_type": "code",
      "execution_count": null,
      "metadata": {
        "id": "CMQPodLQtoGg"
      },
      "outputs": [],
      "source": [
        "pp_diff = (len(df[df['real']==0]) - len(df[df['real']==1])) * 100 / len(df)\n",
        "print(f\"Percent point different: {pp_diff}\")"
      ]
    },
    {
      "cell_type": "markdown",
      "metadata": {
        "id": "_ZPJcMnl-7jM"
      },
      "source": [
        "As the world is filled with fake news (now thanks to A.I. those can be automatically generated) we can accept that distribution"
      ]
    },
    {
      "cell_type": "code",
      "execution_count": null,
      "metadata": {
        "id": "GK7P14u0BSwp"
      },
      "outputs": [],
      "source": [
        "# Save the second checkpoint of the data (not releated to project checkpoints!)\n",
        "df.to_csv(\"data/train-checkpoint2.csv\", index=None)"
      ]
    },
    {
      "cell_type": "markdown",
      "metadata": {
        "id": "6lRtID0H_0td"
      },
      "source": [
        "## Simple global text analysis "
      ]
    },
    {
      "cell_type": "markdown",
      "metadata": {
        "id": "KShb7KkLDWj2"
      },
      "source": [
        "### Text length"
      ]
    },
    {
      "cell_type": "code",
      "execution_count": null,
      "metadata": {
        "id": "SCfzCju7C3S_"
      },
      "outputs": [],
      "source": [
        "sns.boxplot(df[\"text\"].apply(len))"
      ]
    },
    {
      "cell_type": "code",
      "execution_count": null,
      "metadata": {
        "id": "98mfMZyqDi4Q"
      },
      "outputs": [],
      "source": [
        "sns.histplot(df[df[\"real\"] == 0][\"text\"].apply(len), bins = range(0, 20000, 250)) # Distribution for fake news"
      ]
    },
    {
      "cell_type": "code",
      "execution_count": null,
      "metadata": {
        "id": "2Guj1iWPD8IG"
      },
      "outputs": [],
      "source": [
        "sns.histplot(df[df[\"real\"] == 1][\"text\"].apply(len), bins = range(0, 20000, 250)) # Distribution for real news"
      ]
    },
    {
      "cell_type": "markdown",
      "metadata": {
        "id": "rB2Njw1FFcB3"
      },
      "source": [
        "### Number of words"
      ]
    },
    {
      "cell_type": "code",
      "execution_count": null,
      "metadata": {
        "id": "U4RTHnZlAPPw"
      },
      "outputs": [],
      "source": [
        "def text_splitter(text: str) -> Iterable[str]:\n",
        "  text = text.lower()\n",
        "  # Replace non words with space\n",
        "  text = re.sub(r\"\\W\", \" \", text)\n",
        "  # Replace additional spaces with single space\n",
        "  text = re.sub(r\"[\\s\\n]+\", \" \", text)\n",
        "  return np.array(text.strip().split(\" \"))"
      ]
    },
    {
      "cell_type": "code",
      "execution_count": null,
      "metadata": {
        "id": "FPumuWCVBxDR"
      },
      "outputs": [],
      "source": [
        "text_sample = df[\"text\"][0]\n",
        "print(text_splitter(text_sample))"
      ]
    },
    {
      "cell_type": "code",
      "execution_count": null,
      "metadata": {
        "id": "5Ul6U52YFJlb"
      },
      "outputs": [],
      "source": [
        "df2 = df.copy()\n",
        "df2[\"text\"] = df2[\"text\"].apply(text_splitter)"
      ]
    },
    {
      "cell_type": "code",
      "execution_count": null,
      "metadata": {
        "id": "h654UZiNCiz2"
      },
      "outputs": [],
      "source": [
        "sns.boxplot(df2[\"text\"].apply(len))"
      ]
    },
    {
      "cell_type": "code",
      "execution_count": null,
      "metadata": {
        "id": "aGibJ4KGFtM8"
      },
      "outputs": [],
      "source": [
        "sns.histplot(df2[df2[\"real\"] == 0][\"text\"].apply(len), bins = range(0, 5000, 125)) # Distribution for fake news"
      ]
    },
    {
      "cell_type": "code",
      "execution_count": null,
      "metadata": {
        "id": "WhJpGKF6F0bR"
      },
      "outputs": [],
      "source": [
        "sns.histplot(df2[df2[\"real\"] == 1][\"text\"].apply(len), bins = range(0, 5000, 125)) # Distribution for news"
      ]
    },
    {
      "cell_type": "code",
      "execution_count": null,
      "metadata": {
        "id": "Z7B93ZygF5bC"
      },
      "outputs": [],
      "source": [
        "df2[\"word_len_mean\"] = df2[\"text\"].apply(lambda x: np.vectorize(len)(x).mean())"
      ]
    },
    {
      "cell_type": "code",
      "execution_count": null,
      "metadata": {
        "id": "w3cReBl0G3H7"
      },
      "outputs": [],
      "source": [
        "sns.boxplot(df2[\"word_len_mean\"])"
      ]
    },
    {
      "cell_type": "code",
      "execution_count": null,
      "metadata": {
        "id": "N-jj4GyhG85w"
      },
      "outputs": [],
      "source": [
        "sns.histplot(df2[df2[\"real\"] == 0][\"word_len_mean\"], bins = np.arange(0, 10, 0.1)) # Distribution for fake news"
      ]
    },
    {
      "cell_type": "code",
      "execution_count": null,
      "metadata": {
        "id": "BAA-HP1KHBrc"
      },
      "outputs": [],
      "source": [
        "sns.histplot(df2[df2[\"real\"] == 1][\"word_len_mean\"], bins = np.arange(0, 10, 0.1)) # Distribution for real news"
      ]
    },
    {
      "cell_type": "markdown",
      "source": [
        "# First Try - Simple LSTM model"
      ],
      "metadata": {
        "id": "CtrHWJQGhsgq"
      }
    },
    {
      "cell_type": "markdown",
      "metadata": {
        "id": "fr8s4Sp2dgpB"
      },
      "source": [
        "## (Optional) Load from preprocessed dataframe (2. checkpoint)"
      ]
    },
    {
      "cell_type": "code",
      "execution_count": 6,
      "metadata": {
        "id": "OXCh0FmHdMGx",
        "colab": {
          "base_uri": "https://localhost:8080/"
        },
        "outputId": "c418b535-1896-4f26-d41e-44ce08d6fd88"
      },
      "outputs": [
        {
          "output_type": "stream",
          "name": "stdout",
          "text": [
            "--2023-03-26 15:09:56--  https://github.com/ZetrextJG/MLProject1_FakeNewsDetection/raw/main/train-checkpoint2.zip\n",
            "Resolving github.com (github.com)... 140.82.114.3\n",
            "Connecting to github.com (github.com)|140.82.114.3|:443... connected.\n",
            "HTTP request sent, awaiting response... 302 Found\n",
            "Location: https://raw.githubusercontent.com/ZetrextJG/MLProject1_FakeNewsDetection/main/train-checkpoint2.zip [following]\n",
            "--2023-03-26 15:09:56--  https://raw.githubusercontent.com/ZetrextJG/MLProject1_FakeNewsDetection/main/train-checkpoint2.zip\n",
            "Resolving raw.githubusercontent.com (raw.githubusercontent.com)... 185.199.108.133, 185.199.109.133, 185.199.110.133, ...\n",
            "Connecting to raw.githubusercontent.com (raw.githubusercontent.com)|185.199.108.133|:443... connected.\n",
            "HTTP request sent, awaiting response... 200 OK\n",
            "Length: 50750922 (48M) [application/zip]\n",
            "Saving to: ‘train-checkpoint2.zip’\n",
            "\n",
            "train-checkpoint2.z 100%[===================>]  48.40M   125MB/s    in 0.4s    \n",
            "\n",
            "2023-03-26 15:09:57 (125 MB/s) - ‘train-checkpoint2.zip’ saved [50750922/50750922]\n",
            "\n",
            "Archive:  train-checkpoint2.zip\n",
            "  inflating: data/train-checkpoint2.csv  \n"
          ]
        }
      ],
      "source": [
        "!wget https://github.com/ZetrextJG/MLProject1_FakeNewsDetection/raw/main/train-checkpoint2.zip && unzip -d data train-checkpoint2.zip"
      ]
    },
    {
      "cell_type": "code",
      "execution_count": 7,
      "metadata": {
        "id": "RJL8Hu6GKnaO"
      },
      "outputs": [],
      "source": [
        "df = pd.read_csv(\"data/train-checkpoint2.csv\", index_col=False)"
      ]
    },
    {
      "cell_type": "code",
      "execution_count": null,
      "metadata": {
        "id": "jj52eSP3KwYD"
      },
      "outputs": [],
      "source": [
        "df.head()"
      ]
    },
    {
      "cell_type": "markdown",
      "metadata": {
        "id": "BsB1j1xtdndB"
      },
      "source": [
        "### Train/test Split"
      ]
    },
    {
      "cell_type": "code",
      "execution_count": 9,
      "metadata": {
        "id": "s6xrHqRgH_kc"
      },
      "outputs": [],
      "source": [
        "X_train, X_test, y_train, y_test = train_test_split(df[\"text\"], df[\"real\"], random_state=42, shuffle=True, test_size=0.2)"
      ]
    },
    {
      "cell_type": "code",
      "execution_count": 10,
      "metadata": {
        "id": "BiMb1KkYLM1z",
        "colab": {
          "base_uri": "https://localhost:8080/"
        },
        "outputId": "2856ac3e-cf45-4d16-9a10-2747aac47e10"
      },
      "outputs": [
        {
          "output_type": "execute_result",
          "data": {
            "text/plain": [
              "pandas.core.series.Series"
            ]
          },
          "metadata": {},
          "execution_count": 10
        }
      ],
      "source": [
        "type(X_train)"
      ]
    },
    {
      "cell_type": "markdown",
      "metadata": {
        "id": "nPJW2Xrc_Ord"
      },
      "source": [
        "## Text processing - place for improvement"
      ]
    },
    {
      "cell_type": "markdown",
      "metadata": {
        "id": "jbwaBjLoEo5W"
      },
      "source": [
        "Normalization of data:"
      ]
    },
    {
      "cell_type": "code",
      "source": [
        "def normalize_text(text: str) -> str:\n",
        "    text = text.lower()\n",
        "    # Get rid of urls\n",
        "    text = re.sub(\"https?://\\S+|www\\.\\S+\", \"\", text)\n",
        "    # Get rid of non words and extra spaces\n",
        "    text = re.sub(r\"\\W\", \" \", text)\n",
        "    text = re.sub(r\"[\\s\\n]+\", \" \", text)\n",
        "    return text.strip()\n",
        "\n",
        "X_train = X_train.apply(normalize_text)"
      ],
      "metadata": {
        "id": "5V-oO0eHiU78"
      },
      "execution_count": null,
      "outputs": []
    },
    {
      "cell_type": "code",
      "execution_count": null,
      "metadata": {
        "id": "x76v55fLE2me"
      },
      "outputs": [],
      "source": [
        "MAX_VOCAB = 20000\n",
        "tokenizer = Tokenizer(num_words=MAX_VOCAB)\n",
        "tokenizer.fit_on_texts(X_train)\n",
        "\n",
        "X_train = tokenizer.texts_to_sequences(X_train)"
      ]
    },
    {
      "cell_type": "markdown",
      "metadata": {
        "id": "i8nTYSAPE_nB"
      },
      "source": [
        "Application of padding (so we have the same length for each article):"
      ]
    },
    {
      "cell_type": "code",
      "execution_count": null,
      "metadata": {
        "id": "k_jBufZjFDFg"
      },
      "outputs": [],
      "source": [
        "X_train = tf.keras.preprocessing.sequence.pad_sequences(X_train, padding='post', maxlen=256)"
      ]
    },
    {
      "cell_type": "code",
      "execution_count": null,
      "metadata": {
        "id": "WD4QUtKF0PLZ"
      },
      "outputs": [],
      "source": [
        "X_train[0]"
      ]
    },
    {
      "cell_type": "markdown",
      "metadata": {
        "id": "MyPEFamVFG9N"
      },
      "source": [
        "## Model building"
      ]
    },
    {
      "cell_type": "markdown",
      "metadata": {
        "id": "QWu6-uMzExgf"
      },
      "source": [
        "Converting text to vectors:"
      ]
    },
    {
      "cell_type": "code",
      "execution_count": null,
      "metadata": {
        "id": "zbznv272FJEY"
      },
      "outputs": [],
      "source": [
        "model = tf.keras.Sequential([\n",
        "    tf.keras.layers.Embedding(MAX_VOCAB, 256),\n",
        "    tf.keras.layers.Bidirectional(tf.keras.layers.LSTM(64,  return_sequences=True)),\n",
        "    tf.keras.layers.Bidirectional(tf.keras.layers.LSTM(16)),\n",
        "    tf.keras.layers.Dense(64, activation='relu'),\n",
        "    tf.keras.layers.Dropout(0.5),\n",
        "    tf.keras.layers.Dense(1)\n",
        "])\n",
        "\n",
        "model.summary()"
      ]
    },
    {
      "cell_type": "markdown",
      "metadata": {
        "id": "819st3KeL19R"
      },
      "source": [
        "## Model fitting"
      ]
    },
    {
      "cell_type": "code",
      "execution_count": null,
      "metadata": {
        "colab": {
          "background_save": true
        },
        "id": "qck5j_8eFd9T",
        "outputId": "79ecd3e7-57c2-4ca8-f28f-7c3db18d22ae"
      },
      "outputs": [
        {
          "name": "stdout",
          "output_type": "stream",
          "text": [
            "Epoch 1/10\n",
            "1033/1033 [==============================] - 132s 114ms/step - loss: 0.2894 - accuracy: 0.8690 - val_loss: 0.1590 - val_accuracy: 0.9442\n",
            "Epoch 2/10\n",
            "1033/1033 [==============================] - 59s 57ms/step - loss: 0.1110 - accuracy: 0.9638 - val_loss: 0.1364 - val_accuracy: 0.9483\n",
            "Epoch 3/10\n",
            "1033/1033 [==============================] - 47s 45ms/step - loss: 0.0631 - accuracy: 0.9806 - val_loss: 0.1567 - val_accuracy: 0.9459\n",
            "Epoch 4/10\n",
            "1033/1033 [==============================] - 39s 38ms/step - loss: 0.0370 - accuracy: 0.9898 - val_loss: 0.1867 - val_accuracy: 0.9462\n"
          ]
        }
      ],
      "source": [
        "early_stop = tf.keras.callbacks.EarlyStopping(monitor='val_loss', patience=2, restore_best_weights=True)\n",
        "model.compile(loss=tf.keras.losses.BinaryCrossentropy(from_logits=True),\n",
        "              optimizer=tf.keras.optimizers.Adam(1e-4),\n",
        "              metrics=['accuracy'])\n",
        "\n",
        "history = model.fit(X_train, y_train, epochs=10, validation_split=0.1, batch_size=30, shuffle=True, callbacks=[early_stop])"
      ]
    },
    {
      "cell_type": "markdown",
      "metadata": {
        "id": "7McObibmFj_m"
      },
      "source": [
        "## Training Visualization"
      ]
    },
    {
      "cell_type": "code",
      "execution_count": null,
      "metadata": {
        "colab": {
          "background_save": true
        },
        "id": "O7TMQJARFlRr",
        "outputId": "039ad474-fa14-44e9-e82e-6e3af12ba510"
      },
      "outputs": [
        {
          "data": {
            "image/png": "[encoded data removed]",
            "text/plain": [
              "<Figure size 864x648 with 1 Axes>"
            ]
          },
          "metadata": {},
          "output_type": "display_data"
        },
        {
          "data": {
            "image/png": "[encoded data removed]",
            "text/plain": [
              "<Figure size 864x648 with 1 Axes>"
            ]
          },
          "metadata": {},
          "output_type": "display_data"
        }
      ],
      "source": [
        "history_dict = history.history\n",
        "\n",
        "acc = history_dict['accuracy']\n",
        "val_acc = history_dict['val_accuracy']\n",
        "loss = history_dict['loss']\n",
        "val_loss = history_dict['val_loss']\n",
        "epochs = history.epoch\n",
        "\n",
        "plt.figure(figsize=(12,9))\n",
        "plt.plot(epochs, loss, 'r', label='Training loss')\n",
        "plt.plot(epochs, val_loss, 'b', label='Validation loss')\n",
        "plt.title('Training and validation loss', size=20)\n",
        "plt.xlabel('Epochs', size=20)\n",
        "plt.ylabel('Loss', size=20)\n",
        "plt.legend(prop={'size': 20})\n",
        "plt.show()\n",
        "\n",
        "plt.figure(figsize=(12,9))\n",
        "plt.plot(epochs, acc, 'g', label='Training acc')\n",
        "plt.plot(epochs, val_acc, 'b', label='Validation acc')\n",
        "plt.title('Training and validation accuracy', size=20)\n",
        "plt.xlabel('Epochs', size=20)\n",
        "plt.ylabel('Accuracy', size=20)\n",
        "plt.legend(prop={'size': 20})\n",
        "plt.ylim((0.5,1))\n",
        "plt.show()"
      ]
    },
    {
      "cell_type": "markdown",
      "metadata": {
        "id": "GkU1gmf3Fxcu"
      },
      "source": [
        "## Testing"
      ]
    },
    {
      "cell_type": "code",
      "execution_count": null,
      "metadata": {
        "colab": {
          "background_save": true
        },
        "id": "dlCzvWq6y9Qx"
      },
      "outputs": [],
      "source": [
        "X_test = X_test.apply(normalize_text)\n",
        "X_test = tokenizer.texts_to_sequences(X_test)\n",
        "X_test = tf.keras.preprocessing.sequence.pad_sequences(X_test, padding='post', maxlen=256)"
      ]
    },
    {
      "cell_type": "markdown",
      "metadata": {
        "id": "nA2_9fRwF3BZ"
      },
      "source": [
        "Evaluation of the testing set:"
      ]
    },
    {
      "cell_type": "code",
      "execution_count": null,
      "metadata": {
        "colab": {
          "background_save": true
        },
        "id": "MDORoFj-GCZE",
        "outputId": "843c68e3-e74b-49aa-bafb-c5c3b1a8094d"
      },
      "outputs": [
        {
          "name": "stdout",
          "output_type": "stream",
          "text": [
            "269/269 [==============================] - 4s 14ms/step - loss: 0.1398 - accuracy: 0.9477\n"
          ]
        },
        {
          "data": {
            "text/plain": [
              "[0.13978107273578644, 0.9476866126060486]"
            ]
          },
          "execution_count": 77,
          "metadata": {},
          "output_type": "execute_result"
        }
      ],
      "source": [
        "model.evaluate(X_test, y_test)"
      ]
    },
    {
      "cell_type": "code",
      "execution_count": null,
      "metadata": {
        "colab": {
          "background_save": true
        },
        "id": "hi-c8Y4sm0L2",
        "outputId": "9500fed7-60aa-4bc8-d705-d6c1749864b9"
      },
      "outputs": [
        {
          "name": "stdout",
          "output_type": "stream",
          "text": [
            "269/269 [==============================] - 5s 14ms/step\n"
          ]
        }
      ],
      "source": [
        "y_pred = model.predict(X_test)\n",
        "roc05 = (y_pred > 0.5) * 1"
      ]
    },
    {
      "cell_type": "markdown",
      "metadata": {
        "id": "OsZ-6y1Vm1Y8"
      },
      "source": [
        "### Confusion Matrix"
      ]
    },
    {
      "cell_type": "code",
      "execution_count": null,
      "metadata": {
        "colab": {
          "background_save": true
        },
        "id": "GIOWSG6tnTtW",
        "outputId": "85ca9f31-503c-4b97-989b-924d9839b1b1"
      },
      "outputs": [
        {
          "data": {
            "text/plain": [
              "[Text(0, 0.5, '0'), Text(0, 1.5, '1')]"
            ]
          },
          "execution_count": 79,
          "metadata": {},
          "output_type": "execute_result"
        },
        {
          "data": {
            "image/png": "[encoded data removed]",
            "text/plain": [
              "<Figure size 1152x720 with 2 Axes>"
            ]
          },
          "metadata": {},
          "output_type": "display_data"
        }
      ],
      "source": [
        "matrix = confusion_matrix(roc05, y_test, normalize='all')\n",
        "plt.figure(figsize=(16, 10))\n",
        "ax= plt.subplot()\n",
        "sns.heatmap(matrix, annot=True, ax = ax)\n",
        "\n",
        "# labels, title and ticks\n",
        "ax.set_xlabel(\"Predicted Labels\", size=20)\n",
        "ax.set_ylabel(\"True Labels\", size=20)\n",
        "ax.set_title(\"Confusion Matrix\", size=20) \n",
        "ax.xaxis.set_ticklabels([0,1], size=15)\n",
        "ax.yaxis.set_ticklabels([0,1], size=15)"
      ]
    },
    {
      "cell_type": "markdown",
      "metadata": {
        "id": "o3hFIylQn9zO"
      },
      "source": [
        "### ROC Curve"
      ]
    },
    {
      "cell_type": "code",
      "execution_count": null,
      "metadata": {
        "colab": {
          "background_save": true
        },
        "id": "la5Nc-QKn_lo",
        "outputId": "1b1cb346-c311-4e59-a2d6-80c8a580ba4f"
      },
      "outputs": [
        {
          "data": {
            "image/png": "[encoded data removed]",
            "text/plain": [
              "<Figure size 648x648 with 1 Axes>"
            ]
          },
          "metadata": {},
          "output_type": "display_data"
        }
      ],
      "source": [
        "fpr, tpr, _ = roc_curve(y_test,  y_pred)\n",
        "\n",
        "#create ROC curve\n",
        "plt.figure(figsize=(9,9))\n",
        "plt.plot(fpr,tpr)\n",
        "xs = np.arange(0, 1, 0.01)\n",
        "plt.plot(xs, xs, \"--\")\n",
        "plt.ylabel(\"True Positive Rate\", size=20)\n",
        "plt.xlabel(\"False Positive Rate\", size=20)\n",
        "plt.show()"
      ]
    },
    {
      "cell_type": "markdown",
      "source": [
        "# Comments from validation team\n",
        "\n",
        "1. Gdy chodzi o ewentualne uwagi to jesteście trochę niekonsekwentni przy usuwaniu linków, bo pozbywacie się \"http://\" ale nie \".com\". Jest całkiem sporo linków w tych tekstach, które nie mają na początku ani http(s) ani www, ale za to mają .com na końcu. Ale lepiej chyba tego nie usuwać, bo jednak jest w tych danych pewna zależność między obecnością linku i tym, czy to fake news. Ewentualnie zamiast wyrzucać można to spróbować przekształcić"
      ],
      "metadata": {
        "id": "lNq4g4TPX5jf"
      }
    },
    {
      "cell_type": "markdown",
      "source": [
        "# NER Computations"
      ],
      "metadata": {
        "id": "LphxdOOqFfzz"
      }
    },
    {
      "cell_type": "markdown",
      "source": [
        "### Run NER on entire train dataset - Takes about an HOUR"
      ],
      "metadata": {
        "id": "56LtDsMl_P3F"
      }
    },
    {
      "cell_type": "code",
      "source": [
        "# Load the pre-trained model\n",
        "nlp = spacy.load(\"en_core_web_sm\")\n",
        "\n",
        "# Perform named entity recognition on the dataset\n",
        "df[\"named_entities\"] = df[\"text\"].apply(lambda x: [ent.text for ent in nlp(x).ents])\n",
        "\n",
        "# Create a vocabulary of named entities\n",
        "all_named_entities = [ent for sublist in df[\"named_entities\"].tolist() for ent in sublist]\n",
        "named_entities_vocab = set(all_named_entities)"
      ],
      "metadata": {
        "id": "U5FBucHx-yig"
      },
      "execution_count": null,
      "outputs": []
    },
    {
      "cell_type": "code",
      "source": [
        "len(named_entities_vocab)"
      ],
      "metadata": {
        "colab": {
          "base_uri": "https://localhost:8080/"
        },
        "id": "FJLmqKyR-B3l",
        "outputId": "b596d95f-b941-49e3-810e-96e096e1ba8b"
      },
      "execution_count": 39,
      "outputs": [
        {
          "output_type": "execute_result",
          "data": {
            "text/plain": [
              "260720"
            ]
          },
          "metadata": {},
          "execution_count": 39
        }
      ]
    },
    {
      "cell_type": "markdown",
      "source": [
        "### Save training data in order not to repeat computations"
      ],
      "metadata": {
        "id": "DTNrcNve_eLM"
      }
    },
    {
      "cell_type": "code",
      "source": [
        "df.to_csv(\"train-with-ner.csv\", encoding=\"utf-8\")"
      ],
      "metadata": {
        "id": "C2_R_oBT_XWd"
      },
      "execution_count": 12,
      "outputs": []
    },
    {
      "cell_type": "code",
      "source": [
        "!sha256sum ./train-with-ner.csv"
      ],
      "metadata": {
        "colab": {
          "base_uri": "https://localhost:8080/"
        },
        "id": "h5uWhEqGAHBP",
        "outputId": "2a550120-e2c1-4a81-b456-3571ba774c54"
      },
      "execution_count": 13,
      "outputs": [
        {
          "output_type": "stream",
          "name": "stdout",
          "text": [
            "eb92a2df787b180001b50018fa5818d3b9e3026f9cd3ccba711c5644c304f014  ./train-with-ner.csv\n"
          ]
        }
      ]
    },
    {
      "cell_type": "markdown",
      "source": [
        "### SHA256SUM hash\n",
        "\n",
        "930aab564e3cdde30046090859f089f1fd3f301c9b1d21d14eb41ae783063b70  ./train-with-ner.csv"
      ],
      "metadata": {
        "id": "rsdzLF8lAJpC"
      }
    },
    {
      "cell_type": "markdown",
      "source": [
        "# Second Try - Experiment with NER and LogisticRegression\n",
        "\n",
        "Fail in terms of accuracy. Leason learned"
      ],
      "metadata": {
        "id": "nN1ERB6fl3gV"
      }
    },
    {
      "cell_type": "markdown",
      "source": [
        "## Download sample with NER included\n",
        "\n",
        "Sample:\n",
        "  - Train with NER: https://github.com/ZetrextJG/MLProject1_FakeNewsDetection/raw/main/train-with-ner.zip"
      ],
      "metadata": {
        "id": "0KUzB2ptBZWN"
      }
    },
    {
      "cell_type": "code",
      "source": [
        "!wget https://github.com/ZetrextJG/MLProject1_FakeNewsDetection/raw/main/train-with-ner.zip && unzip -d data train-with-ner.zip"
      ],
      "metadata": {
        "colab": {
          "base_uri": "https://localhost:8080/"
        },
        "id": "TJih2XZ3_8LA",
        "outputId": "e22b8444-024a-401c-d840-e7c90875558c"
      },
      "execution_count": 8,
      "outputs": [
        {
          "output_type": "stream",
          "name": "stdout",
          "text": [
            "--2023-03-26 18:03:22--  https://github.com/ZetrextJG/MLProject1_FakeNewsDetection/raw/main/train-with-ner.zip\n",
            "Resolving github.com (github.com)... 192.30.255.112\n",
            "Connecting to github.com (github.com)|192.30.255.112|:443... connected.\n",
            "HTTP request sent, awaiting response... 302 Found\n",
            "Location: https://media.githubusercontent.com/media/ZetrextJG/MLProject1_FakeNewsDetection/main/train-with-ner.zip [following]\n",
            "--2023-03-26 18:03:22--  https://media.githubusercontent.com/media/ZetrextJG/MLProject1_FakeNewsDetection/main/train-with-ner.zip\n",
            "Resolving media.githubusercontent.com (media.githubusercontent.com)... 185.199.108.133, 185.199.109.133, 185.199.110.133, ...\n",
            "Connecting to media.githubusercontent.com (media.githubusercontent.com)|185.199.108.133|:443... connected.\n",
            "HTTP request sent, awaiting response... 200 OK\n",
            "Length: 58555589 (56M) [application/zip]\n",
            "Saving to: ‘train-with-ner.zip’\n",
            "\n",
            "train-with-ner.zip  100%[===================>]  55.84M   282MB/s    in 0.2s    \n",
            "\n",
            "2023-03-26 18:03:24 (282 MB/s) - ‘train-with-ner.zip’ saved [58555589/58555589]\n",
            "\n",
            "Archive:  train-with-ner.zip\n",
            "  inflating: data/train-with-ner.csv  \n"
          ]
        }
      ]
    },
    {
      "cell_type": "markdown",
      "source": [
        "### Load downloaded sample"
      ],
      "metadata": {
        "id": "PbSfNBbQDOHe"
      }
    },
    {
      "cell_type": "code",
      "source": [
        "df = pd.read_csv(\"data/train-with-ner.csv\", index_col=False)\n",
        "# Remove Unnamed columns as they are a residue from previous indicies\n",
        "df = df.loc[:, ~df.columns.str.contains('^Unnamed')]\n",
        "df.head()"
      ],
      "metadata": {
        "colab": {
          "base_uri": "https://localhost:8080/",
          "height": 206
        },
        "id": "NL0nokYJEfhT",
        "outputId": "e0b9711d-5e34-4c7e-bb06-8214b2605ccd"
      },
      "execution_count": 15,
      "outputs": [
        {
          "output_type": "execute_result",
          "data": {
            "text/plain": [
              "                                                text  real  \\\n",
              "0  Isis Leader ‘hiding in Mosul’ as Troops Storm ...     0   \n",
              "1  FORMER SPEAKER JOHN BOEHNER Goes Low…Calls Two...     0   \n",
              "2  MH370 search: Debris found in Reunion may give...     1   \n",
              "3   A leading US senator: US Supporting War in Sy...     0   \n",
              "4  Energy Update – Collective Gridwork Fluctuatio...     0   \n",
              "\n",
              "                                      named_entities  \n",
              "0  ['Mosul', 'The Iraqi Army', 'Mosul', 'first', ...  \n",
              "1  ['Two', 'Republicans', 'John Boehner', 'Politi...  \n",
              "2  ['MH370', 'Debris', 'Reunion', 'Saint-Denis', ...  \n",
              "3  ['US', 'US Supporting War', 'Syria', 'US', 'Sy...  \n",
              "4  ['Energy Update – Collective Gridwork Fluctuat...  "
            ],
            "text/html": [
              "\n",
              "  <div id=\"df-63947e7f-a09e-45dc-bafd-dff6ced1859f\">\n",
              "    <div class=\"colab-df-container\">\n",
              "      <div>\n",
              "<style scoped>\n",
              "    .dataframe tbody tr th:only-of-type {\n",
              "        vertical-align: middle;\n",
              "    }\n",
              "\n",
              "    .dataframe tbody tr th {\n",
              "        vertical-align: top;\n",
              "    }\n",
              "\n",
              "    .dataframe thead th {\n",
              "        text-align: right;\n",
              "    }\n",
              "</style>\n",
              "<table border=\"1\" class=\"dataframe\">\n",
              "  <thead>\n",
              "    <tr style=\"text-align: right;\">\n",
              "      <th></th>\n",
              "      <th>text</th>\n",
              "      <th>real</th>\n",
              "      <th>named_entities</th>\n",
              "    </tr>\n",
              "  </thead>\n",
              "  <tbody>\n",
              "    <tr>\n",
              "      <th>0</th>\n",
              "      <td>Isis Leader ‘hiding in Mosul’ as Troops Storm ...</td>\n",
              "      <td>0</td>\n",
              "      <td>['Mosul', 'The Iraqi Army', 'Mosul', 'first', ...</td>\n",
              "    </tr>\n",
              "    <tr>\n",
              "      <th>1</th>\n",
              "      <td>FORMER SPEAKER JOHN BOEHNER Goes Low…Calls Two...</td>\n",
              "      <td>0</td>\n",
              "      <td>['Two', 'Republicans', 'John Boehner', 'Politi...</td>\n",
              "    </tr>\n",
              "    <tr>\n",
              "      <th>2</th>\n",
              "      <td>MH370 search: Debris found in Reunion may give...</td>\n",
              "      <td>1</td>\n",
              "      <td>['MH370', 'Debris', 'Reunion', 'Saint-Denis', ...</td>\n",
              "    </tr>\n",
              "    <tr>\n",
              "      <th>3</th>\n",
              "      <td>A leading US senator: US Supporting War in Sy...</td>\n",
              "      <td>0</td>\n",
              "      <td>['US', 'US Supporting War', 'Syria', 'US', 'Sy...</td>\n",
              "    </tr>\n",
              "    <tr>\n",
              "      <th>4</th>\n",
              "      <td>Energy Update – Collective Gridwork Fluctuatio...</td>\n",
              "      <td>0</td>\n",
              "      <td>['Energy Update – Collective Gridwork Fluctuat...</td>\n",
              "    </tr>\n",
              "  </tbody>\n",
              "</table>\n",
              "</div>\n",
              "      <button class=\"colab-df-convert\" onclick=\"convertToInteractive('df-63947e7f-a09e-45dc-bafd-dff6ced1859f')\"\n",
              "              title=\"Convert this dataframe to an interactive table.\"\n",
              "              style=\"display:none;\">\n",
              "        \n",
              "  <svg xmlns=\"http://www.w3.org/2000/svg\" height=\"24px\"viewBox=\"0 0 24 24\"\n",
              "       width=\"24px\">\n",
              "    <path d=\"M0 0h24v24H0V0z\" fill=\"none\"/>\n",
              "    <path d=\"M18.56 5.44l.94 2.06.94-2.06 2.06-.94-2.06-.94-.94-2.06-.94 2.06-2.06.94zm-11 1L8.5 8.5l.94-2.06 2.06-.94-2.06-.94L8.5 2.5l-.94 2.06-2.06.94zm10 10l.94 2.06.94-2.06 2.06-.94-2.06-.94-.94-2.06-.94 2.06-2.06.94z\"/><path d=\"M17.41 7.96l-1.37-1.37c-.4-.4-.92-.59-1.43-.59-.52 0-1.04.2-1.43.59L10.3 9.45l-7.72 7.72c-.78.78-.78 2.05 0 2.83L4 21.41c.39.39.9.59 1.41.59.51 0 1.02-.2 1.41-.59l7.78-7.78 2.81-2.81c.8-.78.8-2.07 0-2.86zM5.41 20L4 18.59l7.72-7.72 1.47 1.35L5.41 20z\"/>\n",
              "  </svg>\n",
              "      </button>\n",
              "      \n",
              "  <style>\n",
              "    .colab-df-container {\n",
              "      display:flex;\n",
              "      flex-wrap:wrap;\n",
              "      gap: 12px;\n",
              "    }\n",
              "\n",
              "    .colab-df-convert {\n",
              "      background-color: #E8F0FE;\n",
              "      border: none;\n",
              "      border-radius: 50%;\n",
              "      cursor: pointer;\n",
              "      display: none;\n",
              "      fill: #1967D2;\n",
              "      height: 32px;\n",
              "      padding: 0 0 0 0;\n",
              "      width: 32px;\n",
              "    }\n",
              "\n",
              "    .colab-df-convert:hover {\n",
              "      background-color: #E2EBFA;\n",
              "      box-shadow: 0px 1px 2px rgba(60, 64, 67, 0.3), 0px 1px 3px 1px rgba(60, 64, 67, 0.15);\n",
              "      fill: #174EA6;\n",
              "    }\n",
              "\n",
              "    [theme=dark] .colab-df-convert {\n",
              "      background-color: #3B4455;\n",
              "      fill: #D2E3FC;\n",
              "    }\n",
              "\n",
              "    [theme=dark] .colab-df-convert:hover {\n",
              "      background-color: #434B5C;\n",
              "      box-shadow: 0px 1px 3px 1px rgba(0, 0, 0, 0.15);\n",
              "      filter: drop-shadow(0px 1px 2px rgba(0, 0, 0, 0.3));\n",
              "      fill: #FFFFFF;\n",
              "    }\n",
              "  </style>\n",
              "\n",
              "      <script>\n",
              "        const buttonEl =\n",
              "          document.querySelector('#df-63947e7f-a09e-45dc-bafd-dff6ced1859f button.colab-df-convert');\n",
              "        buttonEl.style.display =\n",
              "          google.colab.kernel.accessAllowed ? 'block' : 'none';\n",
              "\n",
              "        async function convertToInteractive(key) {\n",
              "          const element = document.querySelector('#df-63947e7f-a09e-45dc-bafd-dff6ced1859f');\n",
              "          const dataTable =\n",
              "            await google.colab.kernel.invokeFunction('convertToInteractive',\n",
              "                                                     [key], {});\n",
              "          if (!dataTable) return;\n",
              "\n",
              "          const docLinkHtml = 'Like what you see? Visit the ' +\n",
              "            '<a target=\"_blank\" href=https://colab.research.google.com/notebooks/data_table.ipynb>data table notebook</a>'\n",
              "            + ' to learn more about interactive tables.';\n",
              "          element.innerHTML = '';\n",
              "          dataTable['output_type'] = 'display_data';\n",
              "          await google.colab.output.renderOutput(dataTable, element);\n",
              "          const docLink = document.createElement('div');\n",
              "          docLink.innerHTML = docLinkHtml;\n",
              "          element.appendChild(docLink);\n",
              "        }\n",
              "      </script>\n",
              "    </div>\n",
              "  </div>\n",
              "  "
            ]
          },
          "metadata": {},
          "execution_count": 15
        }
      ]
    },
    {
      "cell_type": "markdown",
      "source": [
        "## Preprocessing"
      ],
      "metadata": {
        "id": "vGC5J8uKG6Gy"
      }
    },
    {
      "cell_type": "code",
      "source": [
        "all_named_entities = [ent for sublist in df['named_entities'].tolist() for ent in sublist]\n",
        "named_entities_vocab = set(all_named_entities)"
      ],
      "metadata": {
        "id": "TYSgaKihGDKA"
      },
      "execution_count": 89,
      "outputs": []
    },
    {
      "cell_type": "code",
      "source": [
        "# Create a binary feature matrix for named entities\n",
        "named_entities_matrix = np.zeros((len(df), len(named_entities_vocab)))\n",
        "for i, named_entities in enumerate(df['named_entities']):\n",
        "    for j, named_entity in enumerate(named_entities_vocab):\n",
        "        if named_entity in named_entities:\n",
        "            named_entities_matrix[i, j] = 1"
      ],
      "metadata": {
        "id": "hcvccBCeGkzl"
      },
      "execution_count": 90,
      "outputs": []
    },
    {
      "cell_type": "code",
      "source": [
        "def normalize_text(text: str) -> str:\n",
        "    text = text.lower()\n",
        "    # Get rid of urls\n",
        "    text = re.sub(\"https?://\\S+|www\\.\\S+\", \"\", text)\n",
        "    # Get rid of non words and extra spaces\n",
        "    text = re.sub(r\"\\W\", \" \", text)\n",
        "    text = re.sub(r\"[\\s\\n]+\", \" \", text)\n",
        "    return text.strip()\n",
        "\n",
        "df[\"normalized_text\"] = df[\"text\"].apply(normalize_text)"
      ],
      "metadata": {
        "id": "EIywILlDJCbs"
      },
      "execution_count": 91,
      "outputs": []
    },
    {
      "cell_type": "code",
      "source": [
        "X_train, X_test, NER_train, NER_test, y_train, y_test = train_test_split(\n",
        "    df[\"normalized_text\"],  named_entities_matrix, df[\"real\"],\n",
        "    test_size=0.2, random_state=42\n",
        "    )"
      ],
      "metadata": {
        "id": "fX2uKCTqJnQW"
      },
      "execution_count": 92,
      "outputs": []
    },
    {
      "cell_type": "markdown",
      "source": [
        "## Words tokenization"
      ],
      "metadata": {
        "id": "civhnSMERIri"
      }
    },
    {
      "cell_type": "code",
      "source": [
        "MAX_VOCAB = 20000\n",
        "MAX_LEN = 1000\n",
        "\n",
        "tokenizer = Tokenizer(num_words=MAX_VOCAB)\n",
        "tokenizer.fit_on_texts(X_train)\n",
        "X_train = tokenizer.texts_to_sequences(X_train)\n",
        "X_train = tf.keras.preprocessing.sequence.pad_sequences(X_train, maxlen=MAX_LEN, padding='post')"
      ],
      "metadata": {
        "id": "anBe1Q-QJTzh"
      },
      "execution_count": 93,
      "outputs": []
    },
    {
      "cell_type": "code",
      "source": [
        "X_train = np.concatenate([X_train, NER_train], axis=1)"
      ],
      "metadata": {
        "id": "o8X7vd3CKcFs"
      },
      "execution_count": 94,
      "outputs": []
    },
    {
      "cell_type": "code",
      "source": [
        "scaler = StandardScaler().fit(X_train)\n",
        "X_scaled = scaler.transform(X_train)"
      ],
      "metadata": {
        "id": "uXDzx2-NMaGa"
      },
      "execution_count": 95,
      "outputs": []
    },
    {
      "cell_type": "code",
      "source": [
        "# define model\n",
        "clf = LogisticRegression(max_iter=1000)\n",
        "\n",
        "# train model\n",
        "clf.fit(X_scaled, y_train)"
      ],
      "metadata": {
        "colab": {
          "base_uri": "https://localhost:8080/",
          "height": 75
        },
        "id": "FpzbyGEZKswt",
        "outputId": "e10a62e6-e2a8-4ea0-b4b6-5347ca43b0c1"
      },
      "execution_count": 96,
      "outputs": [
        {
          "output_type": "execute_result",
          "data": {
            "text/plain": [
              "LogisticRegression(max_iter=1000)"
            ],
            "text/html": [
              "<style>#sk-container-id-9 {color: black;background-color: white;}#sk-container-id-9 pre{padding: 0;}#sk-container-id-9 div.sk-toggleable {background-color: white;}#sk-container-id-9 label.sk-toggleable__label {cursor: pointer;display: block;width: 100%;margin-bottom: 0;padding: 0.3em;box-sizing: border-box;text-align: center;}#sk-container-id-9 label.sk-toggleable__label-arrow:before {content: \"▸\";float: left;margin-right: 0.25em;color: #696969;}#sk-container-id-9 label.sk-toggleable__label-arrow:hover:before {color: black;}#sk-container-id-9 div.sk-estimator:hover label.sk-toggleable__label-arrow:before {color: black;}#sk-container-id-9 div.sk-toggleable__content {max-height: 0;max-width: 0;overflow: hidden;text-align: left;background-color: #f0f8ff;}#sk-container-id-9 div.sk-toggleable__content pre {margin: 0.2em;color: black;border-radius: 0.25em;background-color: #f0f8ff;}#sk-container-id-9 input.sk-toggleable__control:checked~div.sk-toggleable__content {max-height: 200px;max-width: 100%;overflow: auto;}#sk-container-id-9 input.sk-toggleable__control:checked~label.sk-toggleable__label-arrow:before {content: \"▾\";}#sk-container-id-9 div.sk-estimator input.sk-toggleable__control:checked~label.sk-toggleable__label {background-color: #d4ebff;}#sk-container-id-9 div.sk-label input.sk-toggleable__control:checked~label.sk-toggleable__label {background-color: #d4ebff;}#sk-container-id-9 input.sk-hidden--visually {border: 0;clip: rect(1px 1px 1px 1px);clip: rect(1px, 1px, 1px, 1px);height: 1px;margin: -1px;overflow: hidden;padding: 0;position: absolute;width: 1px;}#sk-container-id-9 div.sk-estimator {font-family: monospace;background-color: #f0f8ff;border: 1px dotted black;border-radius: 0.25em;box-sizing: border-box;margin-bottom: 0.5em;}#sk-container-id-9 div.sk-estimator:hover {background-color: #d4ebff;}#sk-container-id-9 div.sk-parallel-item::after {content: \"\";width: 100%;border-bottom: 1px solid gray;flex-grow: 1;}#sk-container-id-9 div.sk-label:hover label.sk-toggleable__label {background-color: #d4ebff;}#sk-container-id-9 div.sk-serial::before {content: \"\";position: absolute;border-left: 1px solid gray;box-sizing: border-box;top: 0;bottom: 0;left: 50%;z-index: 0;}#sk-container-id-9 div.sk-serial {display: flex;flex-direction: column;align-items: center;background-color: white;padding-right: 0.2em;padding-left: 0.2em;position: relative;}#sk-container-id-9 div.sk-item {position: relative;z-index: 1;}#sk-container-id-9 div.sk-parallel {display: flex;align-items: stretch;justify-content: center;background-color: white;position: relative;}#sk-container-id-9 div.sk-item::before, #sk-container-id-9 div.sk-parallel-item::before {content: \"\";position: absolute;border-left: 1px solid gray;box-sizing: border-box;top: 0;bottom: 0;left: 50%;z-index: -1;}#sk-container-id-9 div.sk-parallel-item {display: flex;flex-direction: column;z-index: 1;position: relative;background-color: white;}#sk-container-id-9 div.sk-parallel-item:first-child::after {align-self: flex-end;width: 50%;}#sk-container-id-9 div.sk-parallel-item:last-child::after {align-self: flex-start;width: 50%;}#sk-container-id-9 div.sk-parallel-item:only-child::after {width: 0;}#sk-container-id-9 div.sk-dashed-wrapped {border: 1px dashed gray;margin: 0 0.4em 0.5em 0.4em;box-sizing: border-box;padding-bottom: 0.4em;background-color: white;}#sk-container-id-9 div.sk-label label {font-family: monospace;font-weight: bold;display: inline-block;line-height: 1.2em;}#sk-container-id-9 div.sk-label-container {text-align: center;}#sk-container-id-9 div.sk-container {/* jupyter's `normalize.less` sets `[hidden] { display: none; }` but bootstrap.min.css set `[hidden] { display: none !important; }` so we also need the `!important` here to be able to override the default hidden behavior on the sphinx rendered scikit-learn.org. See: https://github.com/scikit-learn/scikit-learn/issues/21755 */display: inline-block !important;position: relative;}#sk-container-id-9 div.sk-text-repr-fallback {display: none;}</style><div id=\"sk-container-id-9\" class=\"sk-top-container\"><div class=\"sk-text-repr-fallback\"><pre>LogisticRegression(max_iter=1000)</pre><b>In a Jupyter environment, please rerun this cell to show the HTML representation or trust the notebook. <br />On GitHub, the HTML representation is unable to render, please try loading this page with nbviewer.org.</b></div><div class=\"sk-container\" hidden><div class=\"sk-item\"><div class=\"sk-estimator sk-toggleable\"><input class=\"sk-toggleable__control sk-hidden--visually\" id=\"sk-estimator-id-9\" type=\"checkbox\" checked><label for=\"sk-estimator-id-9\" class=\"sk-toggleable__label sk-toggleable__label-arrow\">LogisticRegression</label><div class=\"sk-toggleable__content\"><pre>LogisticRegression(max_iter=1000)</pre></div></div></div></div></div>"
            ]
          },
          "metadata": {},
          "execution_count": 96
        }
      ]
    },
    {
      "cell_type": "code",
      "source": [
        "X_test = tokenizer.texts_to_sequences(X_test)\n",
        "X_test = tf.keras.preprocessing.sequence.pad_sequences(X_test, maxlen=MAX_LEN, padding='post')\n",
        "X_test = np.concatenate([X_test, NER_test], axis=1)"
      ],
      "metadata": {
        "id": "_tLwmaJeM0Tb"
      },
      "execution_count": 97,
      "outputs": []
    },
    {
      "cell_type": "markdown",
      "source": [
        "## Model creation and predictions"
      ],
      "metadata": {
        "id": "L1kAaMxbRO6y"
      }
    },
    {
      "cell_type": "code",
      "source": [
        "y_pred = clf.predict(X_test)\n",
        "\n",
        "# evaluate model\n",
        "print(classification_report(y_test, y_pred))"
      ],
      "metadata": {
        "colab": {
          "base_uri": "https://localhost:8080/"
        },
        "id": "sF_R5XIOM_5x",
        "outputId": "94825846-c4a2-4333-cf0e-da765560a66a"
      },
      "execution_count": 98,
      "outputs": [
        {
          "output_type": "stream",
          "name": "stdout",
          "text": [
            "              precision    recall  f1-score   support\n",
            "\n",
            "           0       0.57      0.97      0.72      4888\n",
            "           1       0.49      0.04      0.07      3714\n",
            "\n",
            "    accuracy                           0.57      8602\n",
            "   macro avg       0.53      0.50      0.39      8602\n",
            "weighted avg       0.54      0.57      0.44      8602\n",
            "\n"
          ]
        }
      ]
    },
    {
      "cell_type": "markdown",
      "source": [
        "# Third Try - Incorporating NER to LSTM and lematization\n",
        "\n",
        "Another fail in terms of model fitting accuracy"
      ],
      "metadata": {
        "id": "Pc-zAYXwQU3l"
      }
    },
    {
      "cell_type": "markdown",
      "source": [
        "## Download sample with NER included\n",
        "\n",
        "Sample:\n",
        "  - Train with NER: https://github.com/ZetrextJG/MLProject1_FakeNewsDetection/raw/main/train-with-ner.zip"
      ],
      "metadata": {
        "id": "hIKunKBkSORu"
      }
    },
    {
      "cell_type": "code",
      "source": [
        "!wget https://github.com/ZetrextJG/MLProject1_FakeNewsDetection/raw/main/train-with-ner.zip && unzip -d data train-with-ner.zip"
      ],
      "metadata": {
        "colab": {
          "base_uri": "https://localhost:8080/"
        },
        "outputId": "56f8c7d7-0667-4ea6-ce42-5dfc2bd2f849",
        "id": "X9ZsyFgCSORu"
      },
      "execution_count": 5,
      "outputs": [
        {
          "output_type": "stream",
          "name": "stdout",
          "text": [
            "--2023-03-26 18:58:31--  https://github.com/ZetrextJG/MLProject1_FakeNewsDetection/raw/main/train-with-ner.zip\n",
            "Resolving github.com (github.com)... 20.205.243.166\n",
            "Connecting to github.com (github.com)|20.205.243.166|:443... connected.\n",
            "HTTP request sent, awaiting response... 302 Found\n",
            "Location: https://media.githubusercontent.com/media/ZetrextJG/MLProject1_FakeNewsDetection/main/train-with-ner.zip [following]\n",
            "--2023-03-26 18:58:31--  https://media.githubusercontent.com/media/ZetrextJG/MLProject1_FakeNewsDetection/main/train-with-ner.zip\n",
            "Resolving media.githubusercontent.com (media.githubusercontent.com)... 185.199.111.133, 185.199.108.133, 185.199.109.133, ...\n",
            "Connecting to media.githubusercontent.com (media.githubusercontent.com)|185.199.111.133|:443... connected.\n",
            "HTTP request sent, awaiting response... 200 OK\n",
            "Length: 58555589 (56M) [application/zip]\n",
            "Saving to: ‘train-with-ner.zip’\n",
            "\n",
            "train-with-ner.zip  100%[===================>]  55.84M   321MB/s    in 0.2s    \n",
            "\n",
            "2023-03-26 18:58:35 (321 MB/s) - ‘train-with-ner.zip’ saved [58555589/58555589]\n",
            "\n",
            "Archive:  train-with-ner.zip\n",
            "  inflating: data/train-with-ner.csv  \n"
          ]
        }
      ]
    },
    {
      "cell_type": "markdown",
      "source": [
        "### Load downloaded sample"
      ],
      "metadata": {
        "id": "lgrJMbdnSORv"
      }
    },
    {
      "cell_type": "code",
      "source": [
        "df = pd.read_csv(\"data/train-with-ner.csv\", index_col=False)\n",
        "# Remove Unnamed columns as they are a residue from previous indicies\n",
        "df = df.loc[:, ~df.columns.str.contains('^Unnamed')]\n",
        "df.head()"
      ],
      "metadata": {
        "colab": {
          "base_uri": "https://localhost:8080/",
          "height": 206
        },
        "outputId": "001e50ec-911e-4d24-a812-c1cc7826c0df",
        "id": "ZltgoxqBSORv"
      },
      "execution_count": 6,
      "outputs": [
        {
          "output_type": "execute_result",
          "data": {
            "text/plain": [
              "                                                text  real  \\\n",
              "0  Isis Leader ‘hiding in Mosul’ as Troops Storm ...     0   \n",
              "1  FORMER SPEAKER JOHN BOEHNER Goes Low…Calls Two...     0   \n",
              "2  MH370 search: Debris found in Reunion may give...     1   \n",
              "3   A leading US senator: US Supporting War in Sy...     0   \n",
              "4  Energy Update – Collective Gridwork Fluctuatio...     0   \n",
              "\n",
              "                                      named_entities  \n",
              "0  ['Mosul', 'The Iraqi Army', 'Mosul', 'first', ...  \n",
              "1  ['Two', 'Republicans', 'John Boehner', 'Politi...  \n",
              "2  ['MH370', 'Debris', 'Reunion', 'Saint-Denis', ...  \n",
              "3  ['US', 'US Supporting War', 'Syria', 'US', 'Sy...  \n",
              "4  ['Energy Update – Collective Gridwork Fluctuat...  "
            ],
            "text/html": [
              "\n",
              "  <div id=\"df-d93452e3-74ac-4824-a6dd-db14ecf38d26\">\n",
              "    <div class=\"colab-df-container\">\n",
              "      <div>\n",
              "<style scoped>\n",
              "    .dataframe tbody tr th:only-of-type {\n",
              "        vertical-align: middle;\n",
              "    }\n",
              "\n",
              "    .dataframe tbody tr th {\n",
              "        vertical-align: top;\n",
              "    }\n",
              "\n",
              "    .dataframe thead th {\n",
              "        text-align: right;\n",
              "    }\n",
              "</style>\n",
              "<table border=\"1\" class=\"dataframe\">\n",
              "  <thead>\n",
              "    <tr style=\"text-align: right;\">\n",
              "      <th></th>\n",
              "      <th>text</th>\n",
              "      <th>real</th>\n",
              "      <th>named_entities</th>\n",
              "    </tr>\n",
              "  </thead>\n",
              "  <tbody>\n",
              "    <tr>\n",
              "      <th>0</th>\n",
              "      <td>Isis Leader ‘hiding in Mosul’ as Troops Storm ...</td>\n",
              "      <td>0</td>\n",
              "      <td>['Mosul', 'The Iraqi Army', 'Mosul', 'first', ...</td>\n",
              "    </tr>\n",
              "    <tr>\n",
              "      <th>1</th>\n",
              "      <td>FORMER SPEAKER JOHN BOEHNER Goes Low…Calls Two...</td>\n",
              "      <td>0</td>\n",
              "      <td>['Two', 'Republicans', 'John Boehner', 'Politi...</td>\n",
              "    </tr>\n",
              "    <tr>\n",
              "      <th>2</th>\n",
              "      <td>MH370 search: Debris found in Reunion may give...</td>\n",
              "      <td>1</td>\n",
              "      <td>['MH370', 'Debris', 'Reunion', 'Saint-Denis', ...</td>\n",
              "    </tr>\n",
              "    <tr>\n",
              "      <th>3</th>\n",
              "      <td>A leading US senator: US Supporting War in Sy...</td>\n",
              "      <td>0</td>\n",
              "      <td>['US', 'US Supporting War', 'Syria', 'US', 'Sy...</td>\n",
              "    </tr>\n",
              "    <tr>\n",
              "      <th>4</th>\n",
              "      <td>Energy Update – Collective Gridwork Fluctuatio...</td>\n",
              "      <td>0</td>\n",
              "      <td>['Energy Update – Collective Gridwork Fluctuat...</td>\n",
              "    </tr>\n",
              "  </tbody>\n",
              "</table>\n",
              "</div>\n",
              "      <button class=\"colab-df-convert\" onclick=\"convertToInteractive('df-d93452e3-74ac-4824-a6dd-db14ecf38d26')\"\n",
              "              title=\"Convert this dataframe to an interactive table.\"\n",
              "              style=\"display:none;\">\n",
              "        \n",
              "  <svg xmlns=\"http://www.w3.org/2000/svg\" height=\"24px\"viewBox=\"0 0 24 24\"\n",
              "       width=\"24px\">\n",
              "    <path d=\"M0 0h24v24H0V0z\" fill=\"none\"/>\n",
              "    <path d=\"M18.56 5.44l.94 2.06.94-2.06 2.06-.94-2.06-.94-.94-2.06-.94 2.06-2.06.94zm-11 1L8.5 8.5l.94-2.06 2.06-.94-2.06-.94L8.5 2.5l-.94 2.06-2.06.94zm10 10l.94 2.06.94-2.06 2.06-.94-2.06-.94-.94-2.06-.94 2.06-2.06.94z\"/><path d=\"M17.41 7.96l-1.37-1.37c-.4-.4-.92-.59-1.43-.59-.52 0-1.04.2-1.43.59L10.3 9.45l-7.72 7.72c-.78.78-.78 2.05 0 2.83L4 21.41c.39.39.9.59 1.41.59.51 0 1.02-.2 1.41-.59l7.78-7.78 2.81-2.81c.8-.78.8-2.07 0-2.86zM5.41 20L4 18.59l7.72-7.72 1.47 1.35L5.41 20z\"/>\n",
              "  </svg>\n",
              "      </button>\n",
              "      \n",
              "  <style>\n",
              "    .colab-df-container {\n",
              "      display:flex;\n",
              "      flex-wrap:wrap;\n",
              "      gap: 12px;\n",
              "    }\n",
              "\n",
              "    .colab-df-convert {\n",
              "      background-color: #E8F0FE;\n",
              "      border: none;\n",
              "      border-radius: 50%;\n",
              "      cursor: pointer;\n",
              "      display: none;\n",
              "      fill: #1967D2;\n",
              "      height: 32px;\n",
              "      padding: 0 0 0 0;\n",
              "      width: 32px;\n",
              "    }\n",
              "\n",
              "    .colab-df-convert:hover {\n",
              "      background-color: #E2EBFA;\n",
              "      box-shadow: 0px 1px 2px rgba(60, 64, 67, 0.3), 0px 1px 3px 1px rgba(60, 64, 67, 0.15);\n",
              "      fill: #174EA6;\n",
              "    }\n",
              "\n",
              "    [theme=dark] .colab-df-convert {\n",
              "      background-color: #3B4455;\n",
              "      fill: #D2E3FC;\n",
              "    }\n",
              "\n",
              "    [theme=dark] .colab-df-convert:hover {\n",
              "      background-color: #434B5C;\n",
              "      box-shadow: 0px 1px 3px 1px rgba(0, 0, 0, 0.15);\n",
              "      filter: drop-shadow(0px 1px 2px rgba(0, 0, 0, 0.3));\n",
              "      fill: #FFFFFF;\n",
              "    }\n",
              "  </style>\n",
              "\n",
              "      <script>\n",
              "        const buttonEl =\n",
              "          document.querySelector('#df-d93452e3-74ac-4824-a6dd-db14ecf38d26 button.colab-df-convert');\n",
              "        buttonEl.style.display =\n",
              "          google.colab.kernel.accessAllowed ? 'block' : 'none';\n",
              "\n",
              "        async function convertToInteractive(key) {\n",
              "          const element = document.querySelector('#df-d93452e3-74ac-4824-a6dd-db14ecf38d26');\n",
              "          const dataTable =\n",
              "            await google.colab.kernel.invokeFunction('convertToInteractive',\n",
              "                                                     [key], {});\n",
              "          if (!dataTable) return;\n",
              "\n",
              "          const docLinkHtml = 'Like what you see? Visit the ' +\n",
              "            '<a target=\"_blank\" href=https://colab.research.google.com/notebooks/data_table.ipynb>data table notebook</a>'\n",
              "            + ' to learn more about interactive tables.';\n",
              "          element.innerHTML = '';\n",
              "          dataTable['output_type'] = 'display_data';\n",
              "          await google.colab.output.renderOutput(dataTable, element);\n",
              "          const docLink = document.createElement('div');\n",
              "          docLink.innerHTML = docLinkHtml;\n",
              "          element.appendChild(docLink);\n",
              "        }\n",
              "      </script>\n",
              "    </div>\n",
              "  </div>\n",
              "  "
            ]
          },
          "metadata": {},
          "execution_count": 6
        }
      ]
    },
    {
      "cell_type": "markdown",
      "metadata": {
        "id": "L-ynxNI8SJOE"
      },
      "source": [
        "## Train/test Split"
      ]
    },
    {
      "cell_type": "code",
      "execution_count": 16,
      "metadata": {
        "id": "htdE8fK_SJOE"
      },
      "outputs": [],
      "source": [
        "X_train, X_test, y_train, y_test = train_test_split(df.loc[:, df.columns != \"real\"], df[\"real\"], random_state=42, shuffle=True, test_size=0.2)"
      ]
    },
    {
      "cell_type": "code",
      "execution_count": 17,
      "metadata": {
        "colab": {
          "base_uri": "https://localhost:8080/"
        },
        "outputId": "31eb8295-1ef0-4347-fd9b-a939b3b67cfd",
        "id": "VIy7-nJmSJOE"
      },
      "outputs": [
        {
          "output_type": "execute_result",
          "data": {
            "text/plain": [
              "pandas.core.frame.DataFrame"
            ]
          },
          "metadata": {},
          "execution_count": 17
        }
      ],
      "source": [
        "type(X_train)"
      ]
    },
    {
      "cell_type": "code",
      "source": [
        "punc_regex = re.compile('[%s]' % re.escape(string.punctuation))\n",
        "lemmatizer = WordNetLemmatizer()\n",
        "stop_words = set(stopwords.words('english'))\n",
        "\n",
        "def normalize_text(text: str) -> Iterable[str]:\n",
        "    text = text.lower()\n",
        "    # Get rid of urls\n",
        "    text = re.sub(\"https?://\\S+|www\\.\\S+\", \"\", text)\n",
        "    # Get rid of non words and extra spaces\n",
        "    text = re.sub(r\"\\W\", \" \", text)\n",
        "    # Remove punctuation\n",
        "    text = re.sub(punc_regex, \"\", text)\n",
        "    # Contract addtional spaces\n",
        "    text = re.sub(r\"[\\s\\n]+\", \" \", text)\n",
        "    splited = text.strip().split()\n",
        "    # Remove stop words\n",
        "    splited = [w for w in splited if not w in stop_words]\n",
        "    # Lemmatization\n",
        "    splited = [lemmatizer.lemmatize(w) for w in splited]\n",
        "\n",
        "    return splited\n",
        "\n",
        "X_train[\"text\"] = X_train[\"text\"].apply(normalize_text)"
      ],
      "metadata": {
        "id": "GvnMHWNVQ2zW"
      },
      "execution_count": 18,
      "outputs": []
    },
    {
      "cell_type": "code",
      "source": [
        "MAX_VOCAB = 20000\n",
        "MAX_LENGTH = 256"
      ],
      "metadata": {
        "id": "pLWWT5emTsh5"
      },
      "execution_count": 23,
      "outputs": []
    },
    {
      "cell_type": "code",
      "source": [
        "tokenizer = Tokenizer(num_words=MAX_VOCAB)\n",
        "tokenizer.fit_on_texts(X_train[\"text\"])\n",
        "\n",
        "X_train[\"text\"] = tokenizer.texts_to_sequences(X_train[\"text\"])\n",
        "X_train[\"text\"] = tf.keras.preprocessing.sequence.pad_sequences(X_train[\"text\"], padding='post', maxlen=256)"
      ],
      "metadata": {
        "id": "NhIOvzmVTnxO"
      },
      "execution_count": 24,
      "outputs": []
    },
    {
      "cell_type": "code",
      "source": [
        "all_named_entities = [ent for sublist in X_train[\"named_entities\"].tolist() for ent in sublist]\n",
        "named_entities_vocab = set(all_named_entities)"
      ],
      "metadata": {
        "id": "gwcDXjD9Su9h"
      },
      "execution_count": 19,
      "outputs": []
    },
    {
      "cell_type": "code",
      "source": [
        "# Create a binary feature matrix for named entities\n",
        "named_entities_matrix = np.zeros((len(X_train), len(named_entities_vocab)))\n",
        "for i, named_entities in enumerate(X_train['named_entities']):\n",
        "    for j, named_entity in enumerate(named_entities_vocab):\n",
        "        if named_entity in named_entities:\n",
        "            named_entities_matrix[i, j] = 1"
      ],
      "metadata": {
        "id": "TarUlY-fQ2Sa"
      },
      "execution_count": 25,
      "outputs": []
    },
    {
      "cell_type": "code",
      "source": [
        "NER_INPUT_SIZE = named_entities_matrix.shape[1]"
      ],
      "metadata": {
        "id": "gJU-QnlMVKEK"
      },
      "execution_count": 32,
      "outputs": []
    },
    {
      "cell_type": "code",
      "source": [
        "X_text_train = X_train[\"text\"]\n",
        "X_ner_train = named_entities_matrix"
      ],
      "metadata": {
        "id": "voHJ4eT_UH8N"
      },
      "execution_count": 29,
      "outputs": []
    },
    {
      "cell_type": "code",
      "source": [
        "X_text_train"
      ],
      "metadata": {
        "colab": {
          "base_uri": "https://localhost:8080/"
        },
        "id": "ni0lsrUYZM_Y",
        "outputId": "6497f358-350e-45de-cf1c-2f06b3783daa"
      },
      "execution_count": 51,
      "outputs": [
        {
          "output_type": "execute_result",
          "data": {
            "text/plain": [
              "17452       91\n",
              "1383       744\n",
              "23277     1295\n",
              "10538      732\n",
              "36419     1566\n",
              "         ...  \n",
              "6265      4559\n",
              "11284      600\n",
              "38158    13541\n",
              "860        208\n",
              "15795     3925\n",
              "Name: text, Length: 34407, dtype: int32"
            ]
          },
          "metadata": {},
          "execution_count": 51
        }
      ]
    },
    {
      "cell_type": "code",
      "source": [
        "text_input = tf.keras.layers.Input(shape=(MAX_LENGTH,))\n",
        "ner_input = tf.keras.layers.Input(shape=(NER_INPUT_SIZE,))\n",
        "\n",
        "text_model = tf.keras.Sequential([\n",
        "    tf.keras.layers.Embedding(MAX_VOCAB, 256),\n",
        "    tf.keras.layers.Bidirectional(tf.keras.layers.LSTM(64,  return_sequences=True)),\n",
        "    tf.keras.layers.Bidirectional(tf.keras.layers.LSTM(16))\n",
        "])\n",
        "\n",
        "merged = tf.keras.layers.concatenate([text_model.output, ner_input])\n",
        "merged = tf.keras.layers.Dense(64, activation='relu')(merged)\n",
        "merged = tf.keras.layers.Dropout(0.5)(merged)\n",
        "output = tf.keras.layers.Dense(1)(merged)\n",
        "\n",
        "model = tf.keras.Model(inputs=[text_model.input, ner_input], outputs=output)\n",
        "\n",
        "model.summary()"
      ],
      "metadata": {
        "id": "KqFz2i_RUrr3"
      },
      "execution_count": null,
      "outputs": []
    },
    {
      "cell_type": "code",
      "source": [
        "early_stop = tf.keras.callbacks.EarlyStopping(monitor='val_loss', patience=2, restore_best_weights=True)\n",
        "model.compile(loss=tf.keras.losses.BinaryCrossentropy(from_logits=True),\n",
        "              optimizer=tf.keras.optimizers.Adam(1e-4),\n",
        "              metrics=['accuracy'])\n",
        "\n",
        "history = model.fit([X_text_train, X_ner_train], y_train, epochs=10, validation_split=0.1, batch_size=30, shuffle=True, callbacks=[early_stop])"
      ],
      "metadata": {
        "colab": {
          "base_uri": "https://localhost:8080/"
        },
        "id": "Vo5qwOVOXuiO",
        "outputId": "bff4424f-3aaa-47a1-fcfe-112f7ce41a31"
      },
      "execution_count": 53,
      "outputs": [
        {
          "output_type": "stream",
          "name": "stdout",
          "text": [
            "Epoch 1/10\n",
            "1033/1033 [==============================] - 22s 14ms/step - loss: 0.6201 - accuracy: 0.6062 - val_loss: 0.5149 - val_accuracy: 0.6882\n",
            "Epoch 2/10\n",
            "1033/1033 [==============================] - 15s 14ms/step - loss: 0.4641 - accuracy: 0.7554 - val_loss: 0.4748 - val_accuracy: 0.7527\n",
            "Epoch 3/10\n",
            "1033/1033 [==============================] - 14s 14ms/step - loss: 0.4015 - accuracy: 0.8053 - val_loss: 0.4582 - val_accuracy: 0.7774\n",
            "Epoch 4/10\n",
            "1033/1033 [==============================] - 14s 13ms/step - loss: 0.3629 - accuracy: 0.8303 - val_loss: 0.4573 - val_accuracy: 0.7855\n",
            "Epoch 5/10\n",
            "1033/1033 [==============================] - 14s 13ms/step - loss: 0.3443 - accuracy: 0.8404 - val_loss: 0.4549 - val_accuracy: 0.7940\n",
            "Epoch 6/10\n",
            "1033/1033 [==============================] - 11s 10ms/step - loss: 0.3300 - accuracy: 0.8491 - val_loss: 0.4595 - val_accuracy: 0.7963\n",
            "Epoch 7/10\n",
            "1033/1033 [==============================] - 13s 13ms/step - loss: 0.3214 - accuracy: 0.8515 - val_loss: 0.4706 - val_accuracy: 0.7928\n"
          ]
        }
      ]
    },
    {
      "cell_type": "markdown",
      "source": [
        "# Forth Try - LSTM with lemmatization and additional metrics\n",
        "\n",
        "Forget NER - focus on text"
      ],
      "metadata": {
        "id": "_41i-KPya3cE"
      }
    },
    {
      "cell_type": "markdown",
      "metadata": {
        "id": "VVb_8Cy2bWnD"
      },
      "source": [
        "## (Optional) Load from preprocessed dataframe (2. checkpoint)"
      ]
    },
    {
      "cell_type": "code",
      "execution_count": 5,
      "metadata": {
        "colab": {
          "base_uri": "https://localhost:8080/"
        },
        "outputId": "a4ba0f7c-4cab-4674-9997-2e368fcfa882",
        "id": "DGi2v3wUbWnF"
      },
      "outputs": [
        {
          "output_type": "stream",
          "name": "stdout",
          "text": [
            "--2023-03-26 20:59:23--  https://github.com/ZetrextJG/MLProject1_FakeNewsDetection/raw/main/train-checkpoint2.zip\n",
            "Resolving github.com (github.com)... 140.82.112.3\n",
            "Connecting to github.com (github.com)|140.82.112.3|:443... connected.\n",
            "HTTP request sent, awaiting response... 302 Found\n",
            "Location: https://media.githubusercontent.com/media/ZetrextJG/MLProject1_FakeNewsDetection/main/train-checkpoint2.zip [following]\n",
            "--2023-03-26 20:59:23--  https://media.githubusercontent.com/media/ZetrextJG/MLProject1_FakeNewsDetection/main/train-checkpoint2.zip\n",
            "Resolving media.githubusercontent.com (media.githubusercontent.com)... 185.199.108.133, 185.199.109.133, 185.199.110.133, ...\n",
            "Connecting to media.githubusercontent.com (media.githubusercontent.com)|185.199.108.133|:443... connected.\n",
            "HTTP request sent, awaiting response... 200 OK\n",
            "Length: 50750922 (48M) [application/zip]\n",
            "Saving to: ‘train-checkpoint2.zip’\n",
            "\n",
            "train-checkpoint2.z 100%[===================>]  48.40M   162MB/s    in 0.3s    \n",
            "\n",
            "2023-03-26 20:59:24 (162 MB/s) - ‘train-checkpoint2.zip’ saved [50750922/50750922]\n",
            "\n",
            "Archive:  train-checkpoint2.zip\n",
            "  inflating: data/train-checkpoint2.csv  \n"
          ]
        }
      ],
      "source": [
        "!wget https://github.com/ZetrextJG/MLProject1_FakeNewsDetection/raw/main/train-checkpoint2.zip && unzip -d data train-checkpoint2.zip"
      ]
    },
    {
      "cell_type": "code",
      "execution_count": 6,
      "metadata": {
        "id": "xkCb_XiObWnF"
      },
      "outputs": [],
      "source": [
        "df = pd.read_csv(\"data/train-checkpoint2.csv\", index_col=False)"
      ]
    },
    {
      "cell_type": "code",
      "execution_count": 7,
      "metadata": {
        "colab": {
          "base_uri": "https://localhost:8080/",
          "height": 0
        },
        "id": "MYAOg6l3bWnF",
        "outputId": "ba040659-5524-4a31-e2db-9955ee8d1e69"
      },
      "outputs": [
        {
          "output_type": "execute_result",
          "data": {
            "text/plain": [
              "                                                text  real\n",
              "0  Isis Leader ‘hiding in Mosul’ as Troops Storm ...     0\n",
              "1  FORMER SPEAKER JOHN BOEHNER Goes Low…Calls Two...     0\n",
              "2  MH370 search: Debris found in Reunion may give...     1\n",
              "3   A leading US senator: US Supporting War in Sy...     0\n",
              "4  Energy Update – Collective Gridwork Fluctuatio...     0"
            ],
            "text/html": [
              "\n",
              "  <div id=\"df-886cd94f-47dd-42bf-b90f-7ae858d091ca\">\n",
              "    <div class=\"colab-df-container\">\n",
              "      <div>\n",
              "<style scoped>\n",
              "    .dataframe tbody tr th:only-of-type {\n",
              "        vertical-align: middle;\n",
              "    }\n",
              "\n",
              "    .dataframe tbody tr th {\n",
              "        vertical-align: top;\n",
              "    }\n",
              "\n",
              "    .dataframe thead th {\n",
              "        text-align: right;\n",
              "    }\n",
              "</style>\n",
              "<table border=\"1\" class=\"dataframe\">\n",
              "  <thead>\n",
              "    <tr style=\"text-align: right;\">\n",
              "      <th></th>\n",
              "      <th>text</th>\n",
              "      <th>real</th>\n",
              "    </tr>\n",
              "  </thead>\n",
              "  <tbody>\n",
              "    <tr>\n",
              "      <th>0</th>\n",
              "      <td>Isis Leader ‘hiding in Mosul’ as Troops Storm ...</td>\n",
              "      <td>0</td>\n",
              "    </tr>\n",
              "    <tr>\n",
              "      <th>1</th>\n",
              "      <td>FORMER SPEAKER JOHN BOEHNER Goes Low…Calls Two...</td>\n",
              "      <td>0</td>\n",
              "    </tr>\n",
              "    <tr>\n",
              "      <th>2</th>\n",
              "      <td>MH370 search: Debris found in Reunion may give...</td>\n",
              "      <td>1</td>\n",
              "    </tr>\n",
              "    <tr>\n",
              "      <th>3</th>\n",
              "      <td>A leading US senator: US Supporting War in Sy...</td>\n",
              "      <td>0</td>\n",
              "    </tr>\n",
              "    <tr>\n",
              "      <th>4</th>\n",
              "      <td>Energy Update – Collective Gridwork Fluctuatio...</td>\n",
              "      <td>0</td>\n",
              "    </tr>\n",
              "  </tbody>\n",
              "</table>\n",
              "</div>\n",
              "      <button class=\"colab-df-convert\" onclick=\"convertToInteractive('df-886cd94f-47dd-42bf-b90f-7ae858d091ca')\"\n",
              "              title=\"Convert this dataframe to an interactive table.\"\n",
              "              style=\"display:none;\">\n",
              "        \n",
              "  <svg xmlns=\"http://www.w3.org/2000/svg\" height=\"24px\"viewBox=\"0 0 24 24\"\n",
              "       width=\"24px\">\n",
              "    <path d=\"M0 0h24v24H0V0z\" fill=\"none\"/>\n",
              "    <path d=\"M18.56 5.44l.94 2.06.94-2.06 2.06-.94-2.06-.94-.94-2.06-.94 2.06-2.06.94zm-11 1L8.5 8.5l.94-2.06 2.06-.94-2.06-.94L8.5 2.5l-.94 2.06-2.06.94zm10 10l.94 2.06.94-2.06 2.06-.94-2.06-.94-.94-2.06-.94 2.06-2.06.94z\"/><path d=\"M17.41 7.96l-1.37-1.37c-.4-.4-.92-.59-1.43-.59-.52 0-1.04.2-1.43.59L10.3 9.45l-7.72 7.72c-.78.78-.78 2.05 0 2.83L4 21.41c.39.39.9.59 1.41.59.51 0 1.02-.2 1.41-.59l7.78-7.78 2.81-2.81c.8-.78.8-2.07 0-2.86zM5.41 20L4 18.59l7.72-7.72 1.47 1.35L5.41 20z\"/>\n",
              "  </svg>\n",
              "      </button>\n",
              "      \n",
              "  <style>\n",
              "    .colab-df-container {\n",
              "      display:flex;\n",
              "      flex-wrap:wrap;\n",
              "      gap: 12px;\n",
              "    }\n",
              "\n",
              "    .colab-df-convert {\n",
              "      background-color: #E8F0FE;\n",
              "      border: none;\n",
              "      border-radius: 50%;\n",
              "      cursor: pointer;\n",
              "      display: none;\n",
              "      fill: #1967D2;\n",
              "      height: 32px;\n",
              "      padding: 0 0 0 0;\n",
              "      width: 32px;\n",
              "    }\n",
              "\n",
              "    .colab-df-convert:hover {\n",
              "      background-color: #E2EBFA;\n",
              "      box-shadow: 0px 1px 2px rgba(60, 64, 67, 0.3), 0px 1px 3px 1px rgba(60, 64, 67, 0.15);\n",
              "      fill: #174EA6;\n",
              "    }\n",
              "\n",
              "    [theme=dark] .colab-df-convert {\n",
              "      background-color: #3B4455;\n",
              "      fill: #D2E3FC;\n",
              "    }\n",
              "\n",
              "    [theme=dark] .colab-df-convert:hover {\n",
              "      background-color: #434B5C;\n",
              "      box-shadow: 0px 1px 3px 1px rgba(0, 0, 0, 0.15);\n",
              "      filter: drop-shadow(0px 1px 2px rgba(0, 0, 0, 0.3));\n",
              "      fill: #FFFFFF;\n",
              "    }\n",
              "  </style>\n",
              "\n",
              "      <script>\n",
              "        const buttonEl =\n",
              "          document.querySelector('#df-886cd94f-47dd-42bf-b90f-7ae858d091ca button.colab-df-convert');\n",
              "        buttonEl.style.display =\n",
              "          google.colab.kernel.accessAllowed ? 'block' : 'none';\n",
              "\n",
              "        async function convertToInteractive(key) {\n",
              "          const element = document.querySelector('#df-886cd94f-47dd-42bf-b90f-7ae858d091ca');\n",
              "          const dataTable =\n",
              "            await google.colab.kernel.invokeFunction('convertToInteractive',\n",
              "                                                     [key], {});\n",
              "          if (!dataTable) return;\n",
              "\n",
              "          const docLinkHtml = 'Like what you see? Visit the ' +\n",
              "            '<a target=\"_blank\" href=https://colab.research.google.com/notebooks/data_table.ipynb>data table notebook</a>'\n",
              "            + ' to learn more about interactive tables.';\n",
              "          element.innerHTML = '';\n",
              "          dataTable['output_type'] = 'display_data';\n",
              "          await google.colab.output.renderOutput(dataTable, element);\n",
              "          const docLink = document.createElement('div');\n",
              "          docLink.innerHTML = docLinkHtml;\n",
              "          element.appendChild(docLink);\n",
              "        }\n",
              "      </script>\n",
              "    </div>\n",
              "  </div>\n",
              "  "
            ]
          },
          "metadata": {},
          "execution_count": 7
        }
      ],
      "source": [
        "df.head()"
      ]
    },
    {
      "cell_type": "markdown",
      "metadata": {
        "id": "uhmZTH9DbWnG"
      },
      "source": [
        "## Train/test Split"
      ]
    },
    {
      "cell_type": "code",
      "execution_count": 8,
      "metadata": {
        "id": "v8uZgOELbWnG"
      },
      "outputs": [],
      "source": [
        "X_train, X_test, y_train, y_test = train_test_split(df[\"text\"], df[\"real\"], random_state=42, shuffle=True, test_size=0.2)"
      ]
    },
    {
      "cell_type": "code",
      "execution_count": 9,
      "metadata": {
        "colab": {
          "base_uri": "https://localhost:8080/"
        },
        "outputId": "7040f1bf-9333-4c44-f499-964388fda72f",
        "id": "-Tzk71mfbWnG"
      },
      "outputs": [
        {
          "output_type": "execute_result",
          "data": {
            "text/plain": [
              "pandas.core.series.Series"
            ]
          },
          "metadata": {},
          "execution_count": 9
        }
      ],
      "source": [
        "type(X_train)"
      ]
    },
    {
      "cell_type": "markdown",
      "metadata": {
        "id": "Mys6GbwPa3cF"
      },
      "source": [
        "## Text processing"
      ]
    },
    {
      "cell_type": "code",
      "source": [
        "punc_regex = re.compile('[%s]' % re.escape(string.punctuation))\n",
        "lemmatizer = WordNetLemmatizer()\n",
        "stop_words = set(stopwords.words('english'))\n",
        "\n",
        "def normalize_text(text: str) -> Iterable[str]:\n",
        "    text = text.lower()\n",
        "    # Get rid of urls\n",
        "    text = re.sub(\"https?://\\S+|www\\.\\S+\", \"\", text)\n",
        "    # Get rid of non words and extra spaces\n",
        "    text = re.sub(r\"\\W\", \" \", text)\n",
        "    # Remove punctuation\n",
        "    text = re.sub(punc_regex, \"\", text)\n",
        "    # Contract addtional spaces\n",
        "    text = re.sub(r\"[\\s\\n]+\", \" \", text)\n",
        "    splited = text.strip().split()\n",
        "    # Remove stop words\n",
        "    splited = [w for w in splited if not w in stop_words]\n",
        "    # Lemmatization\n",
        "    splited = [lemmatizer.lemmatize(w) for w in splited]\n",
        "\n",
        "    return splited\n",
        "\n",
        "X_train = X_train.apply(normalize_text)"
      ],
      "metadata": {
        "id": "5Xo8Wbn8a3cG"
      },
      "execution_count": 10,
      "outputs": []
    },
    {
      "cell_type": "markdown",
      "metadata": {
        "id": "iq39XZp3a3cH"
      },
      "source": [
        "Converting text to vectors:"
      ]
    },
    {
      "cell_type": "code",
      "execution_count": 11,
      "metadata": {
        "id": "TAGKaEJda3cG"
      },
      "outputs": [],
      "source": [
        "MAX_VOCAB = 10000\n",
        "tokenizer = Tokenizer(num_words=MAX_VOCAB)\n",
        "tokenizer.fit_on_texts(X_train)\n",
        "\n",
        "X_train = tokenizer.texts_to_sequences(X_train)"
      ]
    },
    {
      "cell_type": "markdown",
      "metadata": {
        "id": "KijxaM0aa3cG"
      },
      "source": [
        "Application of padding (so we have the same length for each article):"
      ]
    },
    {
      "cell_type": "code",
      "execution_count": 12,
      "metadata": {
        "id": "1WNvKPE3a3cG"
      },
      "outputs": [],
      "source": [
        "X_train = tf.keras.preprocessing.sequence.pad_sequences(X_train, padding='post', maxlen=256)"
      ]
    },
    {
      "cell_type": "markdown",
      "metadata": {
        "id": "V21vdAvya3cG"
      },
      "source": [
        "## Model building"
      ]
    },
    {
      "cell_type": "code",
      "execution_count": 13,
      "metadata": {
        "colab": {
          "base_uri": "https://localhost:8080/"
        },
        "id": "q9ooFOQ6a3cH",
        "outputId": "2f7d62ca-8451-49f2-81d2-db6ee5f4764c"
      },
      "outputs": [
        {
          "output_type": "stream",
          "name": "stdout",
          "text": [
            "Model: \"sequential\"\n",
            "_________________________________________________________________\n",
            " Layer (type)                Output Shape              Param #   \n",
            "=================================================================\n",
            " embedding (Embedding)       (None, None, 128)         1280000   \n",
            "                                                                 \n",
            " bidirectional (Bidirectiona  (None, None, 128)        98816     \n",
            " l)                                                              \n",
            "                                                                 \n",
            " bidirectional_1 (Bidirectio  (None, 32)               18560     \n",
            " nal)                                                            \n",
            "                                                                 \n",
            " dense (Dense)               (None, 64)                2112      \n",
            "                                                                 \n",
            " dropout (Dropout)           (None, 64)                0         \n",
            "                                                                 \n",
            " dense_1 (Dense)             (None, 1)                 65        \n",
            "                                                                 \n",
            "=================================================================\n",
            "Total params: 1,399,553\n",
            "Trainable params: 1,399,553\n",
            "Non-trainable params: 0\n",
            "_________________________________________________________________\n"
          ]
        }
      ],
      "source": [
        "model = tf.keras.Sequential([\n",
        "    tf.keras.layers.Embedding(MAX_VOCAB, 128),\n",
        "    tf.keras.layers.Bidirectional(tf.keras.layers.LSTM(64,  return_sequences=True)),\n",
        "    tf.keras.layers.Bidirectional(tf.keras.layers.LSTM(16)),\n",
        "    tf.keras.layers.Dense(64, activation='relu'),\n",
        "    tf.keras.layers.Dropout(0.5),\n",
        "    tf.keras.layers.Dense(1)\n",
        "])\n",
        "\n",
        "model.summary()"
      ]
    },
    {
      "cell_type": "markdown",
      "metadata": {
        "id": "5uVFeuvTa3cH"
      },
      "source": [
        "## Model fitting"
      ]
    },
    {
      "cell_type": "code",
      "execution_count": null,
      "metadata": {
        "colab": {
          "base_uri": "https://localhost:8080/"
        },
        "outputId": "95e35868-d674-419d-b90b-b348239a914b",
        "id": "ex6rlyCGa3cH"
      },
      "outputs": [
        {
          "output_type": "stream",
          "name": "stdout",
          "text": [
            "Epoch 1/10\n",
            " 964/1549 [=================>............] - ETA: 5:30 - loss: 0.3517 - accuracy: 0.8335"
          ]
        }
      ],
      "source": [
        "early_stop = tf.keras.callbacks.EarlyStopping(monitor='val_loss', patience=2, restore_best_weights=True)\n",
        "model.compile(loss=tf.keras.losses.BinaryCrossentropy(from_logits=True),\n",
        "              optimizer=tf.keras.optimizers.Adam(1e-4),\n",
        "              metrics=['accuracy'])\n",
        "\n",
        "history = model.fit(X_train, y_train, epochs=10, validation_split=0.1, batch_size=20, shuffle=True, callbacks=[early_stop])"
      ]
    },
    {
      "cell_type": "markdown",
      "metadata": {
        "id": "M9owcPqGa3cH"
      },
      "source": [
        "## Training Visualization"
      ]
    },
    {
      "cell_type": "code",
      "execution_count": null,
      "metadata": {
        "colab": {
          "background_save": true
        },
        "outputId": "039ad474-fa14-44e9-e82e-6e3af12ba510",
        "id": "MkChyevaa3cH"
      },
      "outputs": [
        {
          "data": {
            "image/png": "[encoded data removed]",
            "text/plain": [
              "<Figure size 864x648 with 1 Axes>"
            ]
          },
          "metadata": {},
          "output_type": "display_data"
        },
        {
          "data": {
            "image/png": "[encoded data removed]",
            "text/plain": [
              "<Figure size 864x648 with 1 Axes>"
            ]
          },
          "metadata": {},
          "output_type": "display_data"
        }
      ],
      "source": [
        "history_dict = history.history\n",
        "\n",
        "acc = history_dict['accuracy']\n",
        "val_acc = history_dict['val_accuracy']\n",
        "loss = history_dict['loss']\n",
        "val_loss = history_dict['val_loss']\n",
        "epochs = history.epoch\n",
        "\n",
        "plt.figure(figsize=(12,9))\n",
        "plt.plot(epochs, loss, 'r', label='Training loss')\n",
        "plt.plot(epochs, val_loss, 'b', label='Validation loss')\n",
        "plt.title('Training and validation loss', size=20)\n",
        "plt.xlabel('Epochs', size=20)\n",
        "plt.ylabel('Loss', size=20)\n",
        "plt.legend(prop={'size': 20})\n",
        "plt.show()\n",
        "\n",
        "plt.figure(figsize=(12,9))\n",
        "plt.plot(epochs, acc, 'g', label='Training acc')\n",
        "plt.plot(epochs, val_acc, 'b', label='Validation acc')\n",
        "plt.title('Training and validation accuracy', size=20)\n",
        "plt.xlabel('Epochs', size=20)\n",
        "plt.ylabel('Accuracy', size=20)\n",
        "plt.legend(prop={'size': 20})\n",
        "plt.ylim((0.5,1))\n",
        "plt.show()"
      ]
    },
    {
      "cell_type": "markdown",
      "metadata": {
        "id": "_HYVdzUEa3cI"
      },
      "source": [
        "## Testing"
      ]
    },
    {
      "cell_type": "code",
      "execution_count": null,
      "metadata": {
        "colab": {
          "background_save": true
        },
        "id": "kwny97GAa3cI"
      },
      "outputs": [],
      "source": [
        "X_test = X_test.apply(normalize_text)\n",
        "X_test = tokenizer.texts_to_sequences(X_test)\n",
        "X_test = tf.keras.preprocessing.sequence.pad_sequences(X_test, padding='post', maxlen=256)"
      ]
    },
    {
      "cell_type": "markdown",
      "metadata": {
        "id": "TC4EQYJYa3cI"
      },
      "source": [
        "Evaluation of the testing set:"
      ]
    },
    {
      "cell_type": "code",
      "execution_count": null,
      "metadata": {
        "colab": {
          "background_save": true
        },
        "outputId": "843c68e3-e74b-49aa-bafb-c5c3b1a8094d",
        "id": "CrgG0-fha3cI"
      },
      "outputs": [
        {
          "name": "stdout",
          "output_type": "stream",
          "text": [
            "269/269 [==============================] - 4s 14ms/step - loss: 0.1398 - accuracy: 0.9477\n"
          ]
        },
        {
          "data": {
            "text/plain": [
              "[0.13978107273578644, 0.9476866126060486]"
            ]
          },
          "execution_count": 77,
          "metadata": {},
          "output_type": "execute_result"
        }
      ],
      "source": [
        "model.evaluate(X_test, y_test)"
      ]
    },
    {
      "cell_type": "code",
      "execution_count": null,
      "metadata": {
        "colab": {
          "background_save": true
        },
        "outputId": "9500fed7-60aa-4bc8-d705-d6c1749864b9",
        "id": "P3JM2Wp2a3cI"
      },
      "outputs": [
        {
          "name": "stdout",
          "output_type": "stream",
          "text": [
            "269/269 [==============================] - 5s 14ms/step\n"
          ]
        }
      ],
      "source": [
        "y_pred = model.predict(X_test)\n",
        "roc05 = (y_pred > 0.5) * 1"
      ]
    },
    {
      "cell_type": "markdown",
      "metadata": {
        "id": "qCfsQnAfa3cI"
      },
      "source": [
        "### Confusion Matrix"
      ]
    },
    {
      "cell_type": "code",
      "execution_count": null,
      "metadata": {
        "colab": {
          "background_save": true
        },
        "outputId": "85ca9f31-503c-4b97-989b-924d9839b1b1",
        "id": "UxQX5Faua3cI"
      },
      "outputs": [
        {
          "data": {
            "text/plain": [
              "[Text(0, 0.5, '0'), Text(0, 1.5, '1')]"
            ]
          },
          "execution_count": 79,
          "metadata": {},
          "output_type": "execute_result"
        },
        {
          "data": {
            "image/png": "[encoded data removed]",
            "text/plain": [
              "<Figure size 1152x720 with 2 Axes>"
            ]
          },
          "metadata": {},
          "output_type": "display_data"
        }
      ],
      "source": [
        "matrix = confusion_matrix(roc05, y_test, normalize='all')\n",
        "plt.figure(figsize=(16, 10))\n",
        "ax= plt.subplot()\n",
        "sns.heatmap(matrix, annot=True, ax = ax)\n",
        "\n",
        "# labels, title and ticks\n",
        "ax.set_xlabel(\"Predicted Labels\", size=20)\n",
        "ax.set_ylabel(\"True Labels\", size=20)\n",
        "ax.set_title(\"Confusion Matrix\", size=20) \n",
        "ax.xaxis.set_ticklabels([0,1], size=15)\n",
        "ax.yaxis.set_ticklabels([0,1], size=15)"
      ]
    },
    {
      "cell_type": "markdown",
      "metadata": {
        "id": "z-YBKf-La3cJ"
      },
      "source": [
        "### ROC Curve"
      ]
    },
    {
      "cell_type": "code",
      "execution_count": null,
      "metadata": {
        "colab": {
          "background_save": true
        },
        "outputId": "1b1cb346-c311-4e59-a2d6-80c8a580ba4f",
        "id": "JaJCipola3cJ"
      },
      "outputs": [
        {
          "data": {
            "image/png": "[encoded data removed]",
            "text/plain": [
              "<Figure size 648x648 with 1 Axes>"
            ]
          },
          "metadata": {},
          "output_type": "display_data"
        }
      ],
      "source": [
        "fpr, tpr, _ = roc_curve(y_test,  y_pred)\n",
        "\n",
        "#create ROC curve\n",
        "plt.figure(figsize=(9,9))\n",
        "plt.plot(fpr,tpr)\n",
        "xs = np.arange(0, 1, 0.01)\n",
        "plt.plot(xs, xs, \"--\")\n",
        "plt.ylabel(\"True Positive Rate\", size=20)\n",
        "plt.xlabel(\"False Positive Rate\", size=20)\n",
        "plt.show()"
      ]
    }
  ],
  "metadata": {
    "colab": {
      "collapsed_sections": [
        "YizhwTEpWBIq",
        "fi8eYkpyl_qu",
        "sgYVBrzyh-GY",
        "4bv-NSSEj1EW",
        "zqMN-XP0v4ng",
        "kcn8BaVGw22d",
        "PAmXemtWzcLn",
        "6lRtID0H_0td",
        "CtrHWJQGhsgq",
        "fr8s4Sp2dgpB",
        "BsB1j1xtdndB",
        "nPJW2Xrc_Ord",
        "MyPEFamVFG9N",
        "819st3KeL19R",
        "7McObibmFj_m",
        "GkU1gmf3Fxcu",
        "LphxdOOqFfzz",
        "nN1ERB6fl3gV",
        "Pc-zAYXwQU3l",
        "hIKunKBkSORu",
        "VVb_8Cy2bWnD"
      ],
      "provenance": []
    },
    "gpuClass": "standard",
    "kernelspec": {
      "display_name": "Python 3",
      "name": "python3"
    },
    "language_info": {
      "name": "python"
    }
  },
  "nbformat": 4,
  "nbformat_minor": 0
}